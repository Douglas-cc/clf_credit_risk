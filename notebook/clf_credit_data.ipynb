{
 "cells": [
  {
   "cell_type": "code",
   "execution_count": 2,
   "id": "d3f1acfa-01a7-48f8-9b94-c2a83c1a1410",
   "metadata": {},
   "outputs": [],
   "source": [
    "import warnings\n",
    "warnings.filterwarnings(\"ignore\")\n",
    "\n",
    "from joblib import dump\n",
    "\n",
    "import numpy as np \n",
    "import pandas as pd \n",
    "\n",
    "import shap\n",
    "import seaborn as sns \n",
    "import matplotlib.pyplot as plt\n",
    "import plotly.express as px\n",
    "from yellowbrick.classifier import ConfusionMatrix\n",
    "\n",
    "\n",
    "from imblearn.over_sampling import SMOTE \n",
    "from sklearn.model_selection import train_test_split\n",
    "\n",
    "from sklearn.svm import SVC\n",
    "from xgboost import  XGBClassifier\n",
    "from lightgbm import LGBMClassifier\n",
    "from catboost import CatBoostClassifier\n",
    "from sklearn.naive_bayes import GaussianNB\n",
    "from sklearn.ensemble import RandomForestClassifier\n",
    "from sklearn.tree import DecisionTreeClassifier, plot_tree\n",
    "from sklearn.neighbors import KNeighborsClassifier\n",
    "from sklearn.linear_model import LogisticRegression\n",
    "\n",
    "from sklearn.metrics import (\n",
    "    confusion_matrix,\n",
    "    accuracy_score,\n",
    "    classification_report\n",
    ")"
   ]
  },
  {
   "cell_type": "markdown",
   "id": "c37d3d60-9544-44ed-bb73-c6935b467e18",
   "metadata": {},
   "source": [
    "# Import data Risc Credit "
   ]
  },
  {
   "cell_type": "code",
   "execution_count": 3,
   "id": "91bc2d8e-6010-4db8-8418-92b81947d708",
   "metadata": {},
   "outputs": [
    {
     "data": {
      "text/html": [
       "<div>\n",
       "<style scoped>\n",
       "    .dataframe tbody tr th:only-of-type {\n",
       "        vertical-align: middle;\n",
       "    }\n",
       "\n",
       "    .dataframe tbody tr th {\n",
       "        vertical-align: top;\n",
       "    }\n",
       "\n",
       "    .dataframe thead th {\n",
       "        text-align: right;\n",
       "    }\n",
       "</style>\n",
       "<table border=\"1\" class=\"dataframe\">\n",
       "  <thead>\n",
       "    <tr style=\"text-align: right;\">\n",
       "      <th></th>\n",
       "      <th>i#clientid</th>\n",
       "      <th>income</th>\n",
       "      <th>age</th>\n",
       "      <th>loan</th>\n",
       "      <th>c#default</th>\n",
       "    </tr>\n",
       "  </thead>\n",
       "  <tbody>\n",
       "    <tr>\n",
       "      <th>0</th>\n",
       "      <td>1</td>\n",
       "      <td>66155.925095</td>\n",
       "      <td>59.017015</td>\n",
       "      <td>8106.532131</td>\n",
       "      <td>0</td>\n",
       "    </tr>\n",
       "    <tr>\n",
       "      <th>1</th>\n",
       "      <td>2</td>\n",
       "      <td>34415.153966</td>\n",
       "      <td>48.117153</td>\n",
       "      <td>6564.745018</td>\n",
       "      <td>0</td>\n",
       "    </tr>\n",
       "    <tr>\n",
       "      <th>2</th>\n",
       "      <td>3</td>\n",
       "      <td>57317.170063</td>\n",
       "      <td>63.108049</td>\n",
       "      <td>8020.953296</td>\n",
       "      <td>0</td>\n",
       "    </tr>\n",
       "    <tr>\n",
       "      <th>3</th>\n",
       "      <td>4</td>\n",
       "      <td>42709.534201</td>\n",
       "      <td>45.751972</td>\n",
       "      <td>6103.642260</td>\n",
       "      <td>0</td>\n",
       "    </tr>\n",
       "    <tr>\n",
       "      <th>4</th>\n",
       "      <td>5</td>\n",
       "      <td>66952.688845</td>\n",
       "      <td>18.584336</td>\n",
       "      <td>8770.099235</td>\n",
       "      <td>1</td>\n",
       "    </tr>\n",
       "  </tbody>\n",
       "</table>\n",
       "</div>"
      ],
      "text/plain": [
       "   i#clientid        income        age         loan  c#default\n",
       "0           1  66155.925095  59.017015  8106.532131          0\n",
       "1           2  34415.153966  48.117153  6564.745018          0\n",
       "2           3  57317.170063  63.108049  8020.953296          0\n",
       "3           4  42709.534201  45.751972  6103.642260          0\n",
       "4           5  66952.688845  18.584336  8770.099235          1"
      ]
     },
     "execution_count": 3,
     "metadata": {},
     "output_type": "execute_result"
    }
   ],
   "source": [
    "df = pd.read_csv('credit_data.csv')\n",
    "df.head(5)"
   ]
  },
  {
   "cell_type": "markdown",
   "id": "d3f02ae5-b041-4994-9f6e-86a9f6e24917",
   "metadata": {},
   "source": [
    "# Sobre os dados \n",
    "- i#clientid\t- id do cliente\n",
    "- income - renda \n",
    "- age - idade \n",
    "- loan - empréstimo\n",
    "- c#default - target aprova ou não credit para o cliente"
   ]
  },
  {
   "cell_type": "code",
   "execution_count": 4,
   "id": "a5fb95d2-ba5c-48d6-b872-8b0376c03675",
   "metadata": {},
   "outputs": [
    {
     "data": {
      "text/html": [
       "<div>\n",
       "<style scoped>\n",
       "    .dataframe tbody tr th:only-of-type {\n",
       "        vertical-align: middle;\n",
       "    }\n",
       "\n",
       "    .dataframe tbody tr th {\n",
       "        vertical-align: top;\n",
       "    }\n",
       "\n",
       "    .dataframe thead th {\n",
       "        text-align: right;\n",
       "    }\n",
       "</style>\n",
       "<table border=\"1\" class=\"dataframe\">\n",
       "  <thead>\n",
       "    <tr style=\"text-align: right;\">\n",
       "      <th></th>\n",
       "      <th>i#clientid</th>\n",
       "      <th>income</th>\n",
       "      <th>age</th>\n",
       "      <th>loan</th>\n",
       "      <th>c#default</th>\n",
       "    </tr>\n",
       "  </thead>\n",
       "  <tbody>\n",
       "    <tr>\n",
       "      <th>count</th>\n",
       "      <td>2000.000000</td>\n",
       "      <td>2000.000000</td>\n",
       "      <td>1997.000000</td>\n",
       "      <td>2000.000000</td>\n",
       "      <td>2000.000000</td>\n",
       "    </tr>\n",
       "    <tr>\n",
       "      <th>mean</th>\n",
       "      <td>1000.500000</td>\n",
       "      <td>45331.600018</td>\n",
       "      <td>40.807559</td>\n",
       "      <td>4444.369695</td>\n",
       "      <td>0.141500</td>\n",
       "    </tr>\n",
       "    <tr>\n",
       "      <th>std</th>\n",
       "      <td>577.494589</td>\n",
       "      <td>14326.327119</td>\n",
       "      <td>13.624469</td>\n",
       "      <td>3045.410024</td>\n",
       "      <td>0.348624</td>\n",
       "    </tr>\n",
       "    <tr>\n",
       "      <th>min</th>\n",
       "      <td>1.000000</td>\n",
       "      <td>20014.489470</td>\n",
       "      <td>-52.423280</td>\n",
       "      <td>1.377630</td>\n",
       "      <td>0.000000</td>\n",
       "    </tr>\n",
       "    <tr>\n",
       "      <th>25%</th>\n",
       "      <td>500.750000</td>\n",
       "      <td>32796.459717</td>\n",
       "      <td>28.990415</td>\n",
       "      <td>1939.708847</td>\n",
       "      <td>0.000000</td>\n",
       "    </tr>\n",
       "    <tr>\n",
       "      <th>50%</th>\n",
       "      <td>1000.500000</td>\n",
       "      <td>45789.117313</td>\n",
       "      <td>41.317159</td>\n",
       "      <td>3974.719419</td>\n",
       "      <td>0.000000</td>\n",
       "    </tr>\n",
       "    <tr>\n",
       "      <th>75%</th>\n",
       "      <td>1500.250000</td>\n",
       "      <td>57791.281668</td>\n",
       "      <td>52.587040</td>\n",
       "      <td>6432.410625</td>\n",
       "      <td>0.000000</td>\n",
       "    </tr>\n",
       "    <tr>\n",
       "      <th>max</th>\n",
       "      <td>2000.000000</td>\n",
       "      <td>69995.685578</td>\n",
       "      <td>63.971796</td>\n",
       "      <td>13766.051239</td>\n",
       "      <td>1.000000</td>\n",
       "    </tr>\n",
       "  </tbody>\n",
       "</table>\n",
       "</div>"
      ],
      "text/plain": [
       "        i#clientid        income          age          loan    c#default\n",
       "count  2000.000000   2000.000000  1997.000000   2000.000000  2000.000000\n",
       "mean   1000.500000  45331.600018    40.807559   4444.369695     0.141500\n",
       "std     577.494589  14326.327119    13.624469   3045.410024     0.348624\n",
       "min       1.000000  20014.489470   -52.423280      1.377630     0.000000\n",
       "25%     500.750000  32796.459717    28.990415   1939.708847     0.000000\n",
       "50%    1000.500000  45789.117313    41.317159   3974.719419     0.000000\n",
       "75%    1500.250000  57791.281668    52.587040   6432.410625     0.000000\n",
       "max    2000.000000  69995.685578    63.971796  13766.051239     1.000000"
      ]
     },
     "execution_count": 4,
     "metadata": {},
     "output_type": "execute_result"
    }
   ],
   "source": [
    "df.describe()  # caracteristicas estatisticas"
   ]
  },
  {
   "cell_type": "code",
   "execution_count": 5,
   "id": "7c5a4498-3e38-4710-a24e-2f150c59da13",
   "metadata": {},
   "outputs": [
    {
     "data": {
      "text/html": [
       "<div>\n",
       "<style scoped>\n",
       "    .dataframe tbody tr th:only-of-type {\n",
       "        vertical-align: middle;\n",
       "    }\n",
       "\n",
       "    .dataframe tbody tr th {\n",
       "        vertical-align: top;\n",
       "    }\n",
       "\n",
       "    .dataframe thead th {\n",
       "        text-align: right;\n",
       "    }\n",
       "</style>\n",
       "<table border=\"1\" class=\"dataframe\">\n",
       "  <thead>\n",
       "    <tr style=\"text-align: right;\">\n",
       "      <th></th>\n",
       "      <th>i#clientid</th>\n",
       "      <th>income</th>\n",
       "      <th>age</th>\n",
       "      <th>loan</th>\n",
       "      <th>c#default</th>\n",
       "    </tr>\n",
       "  </thead>\n",
       "  <tbody>\n",
       "    <tr>\n",
       "      <th>865</th>\n",
       "      <td>866</td>\n",
       "      <td>28072.604355</td>\n",
       "      <td>54.142548</td>\n",
       "      <td>1.37763</td>\n",
       "      <td>0</td>\n",
       "    </tr>\n",
       "  </tbody>\n",
       "</table>\n",
       "</div>"
      ],
      "text/plain": [
       "     i#clientid        income        age     loan  c#default\n",
       "865         866  28072.604355  54.142548  1.37763          0"
      ]
     },
     "execution_count": 5,
     "metadata": {},
     "output_type": "execute_result"
    }
   ],
   "source": [
    "df[df['loan'] <= 1.377630] # pegando cliente com emprestimo menor ou igual 1.377630 "
   ]
  },
  {
   "cell_type": "code",
   "execution_count": 6,
   "id": "bfd1f576-d772-41c9-95ea-fdab41376bce",
   "metadata": {},
   "outputs": [
    {
     "data": {
      "text/html": [
       "<div>\n",
       "<style scoped>\n",
       "    .dataframe tbody tr th:only-of-type {\n",
       "        vertical-align: middle;\n",
       "    }\n",
       "\n",
       "    .dataframe tbody tr th {\n",
       "        vertical-align: top;\n",
       "    }\n",
       "\n",
       "    .dataframe thead th {\n",
       "        text-align: right;\n",
       "    }\n",
       "</style>\n",
       "<table border=\"1\" class=\"dataframe\">\n",
       "  <thead>\n",
       "    <tr style=\"text-align: right;\">\n",
       "      <th></th>\n",
       "      <th>i#clientid</th>\n",
       "      <th>income</th>\n",
       "      <th>age</th>\n",
       "      <th>loan</th>\n",
       "      <th>c#default</th>\n",
       "    </tr>\n",
       "  </thead>\n",
       "  <tbody>\n",
       "    <tr>\n",
       "      <th>422</th>\n",
       "      <td>423</td>\n",
       "      <td>69995.685578</td>\n",
       "      <td>52.719673</td>\n",
       "      <td>2084.370861</td>\n",
       "      <td>0</td>\n",
       "    </tr>\n",
       "  </tbody>\n",
       "</table>\n",
       "</div>"
      ],
      "text/plain": [
       "     i#clientid        income        age         loan  c#default\n",
       "422         423  69995.685578  52.719673  2084.370861          0"
      ]
     },
     "execution_count": 6,
     "metadata": {},
     "output_type": "execute_result"
    }
   ],
   "source": [
    "df[df['income'] >= 69995.685578] # pegando cliente com renda maior ou igual 69995.685578"
   ]
  },
  {
   "cell_type": "markdown",
   "id": "4416acbd-b71c-45e6-a5e9-c0df0e90c97e",
   "metadata": {},
   "source": [
    "# Visualização de dados "
   ]
  },
  {
   "cell_type": "markdown",
   "id": "134379e7-c578-4921-ac35-674f180ad66f",
   "metadata": {},
   "source": [
    "- 1. Para Age"
   ]
  },
  {
   "cell_type": "code",
   "execution_count": 7,
   "id": "082dced2-2a6b-4fac-9468-d2a21be1c8b1",
   "metadata": {},
   "outputs": [
    {
     "data": {
      "text/plain": [
       "<AxesSubplot:xlabel='age', ylabel='Density'>"
      ]
     },
     "execution_count": 7,
     "metadata": {},
     "output_type": "execute_result"
    },
    {
     "data": {
      "image/png": "[encoded data removed]",
      "text/plain": [
       "<Figure size 800x550 with 1 Axes>"
      ]
     },
     "metadata": {},
     "output_type": "display_data"
    }
   ],
   "source": [
    "sns.distplot(df.age)"
   ]
  },
  {
   "cell_type": "markdown",
   "id": "fae9dd98-f118-478a-b135-04aabe2c1531",
   "metadata": {},
   "source": [
    "- 2. Para income"
   ]
  },
  {
   "cell_type": "code",
   "execution_count": 8,
   "id": "bd817e69-c042-4516-aed5-300c672f3aab",
   "metadata": {},
   "outputs": [
    {
     "data": {
      "text/plain": [
       "<AxesSubplot:xlabel='income', ylabel='Density'>"
      ]
     },
     "execution_count": 8,
     "metadata": {},
     "output_type": "execute_result"
    },
    {
     "data": {
      "image/png": "[encoded data removed]",
      "text/plain": [
       "<Figure size 800x550 with 1 Axes>"
      ]
     },
     "metadata": {},
     "output_type": "display_data"
    }
   ],
   "source": [
    "sns.distplot(df.income)\n"
   ]
  },
  {
   "cell_type": "markdown",
   "id": "8fdbc1e5-1bcb-425e-954c-eacfa4dc5fea",
   "metadata": {},
   "source": [
    "- 3. Para Loan"
   ]
  },
  {
   "cell_type": "code",
   "execution_count": 9,
   "id": "74ce0de2-c2bf-436e-9192-ae575e88a61b",
   "metadata": {},
   "outputs": [
    {
     "data": {
      "text/plain": [
       "<AxesSubplot:xlabel='loan', ylabel='Density'>"
      ]
     },
     "execution_count": 9,
     "metadata": {},
     "output_type": "execute_result"
    },
    {
     "data": {
      "image/png": "[encoded data removed]",
      "text/plain": [
       "<Figure size 800x550 with 1 Axes>"
      ]
     },
     "metadata": {},
     "output_type": "display_data"
    }
   ],
   "source": [
    "sns.distplot(df.loan)"
   ]
  },
  {
   "cell_type": "markdown",
   "id": "716668fb-9edb-484a-8a93-f437baed5c83",
   "metadata": {},
   "source": [
    "# Pré - Processamento"
   ]
  },
  {
   "cell_type": "markdown",
   "id": "31c95b92-b2ea-4840-b1d7-60c9cbc2bfdd",
   "metadata": {},
   "source": [
    " - 1. Inconsistência de dados"
   ]
  },
  {
   "cell_type": "code",
   "execution_count": 10,
   "id": "7b0e5a78-d468-4972-a981-0f7ae1d710fd",
   "metadata": {},
   "outputs": [
    {
     "data": {
      "text/html": [
       "<div>\n",
       "<style scoped>\n",
       "    .dataframe tbody tr th:only-of-type {\n",
       "        vertical-align: middle;\n",
       "    }\n",
       "\n",
       "    .dataframe tbody tr th {\n",
       "        vertical-align: top;\n",
       "    }\n",
       "\n",
       "    .dataframe thead th {\n",
       "        text-align: right;\n",
       "    }\n",
       "</style>\n",
       "<table border=\"1\" class=\"dataframe\">\n",
       "  <thead>\n",
       "    <tr style=\"text-align: right;\">\n",
       "      <th></th>\n",
       "      <th>i#clientid</th>\n",
       "      <th>income</th>\n",
       "      <th>age</th>\n",
       "      <th>loan</th>\n",
       "      <th>c#default</th>\n",
       "    </tr>\n",
       "  </thead>\n",
       "  <tbody>\n",
       "    <tr>\n",
       "      <th>15</th>\n",
       "      <td>16</td>\n",
       "      <td>50501.726689</td>\n",
       "      <td>-28.218361</td>\n",
       "      <td>3977.287432</td>\n",
       "      <td>0</td>\n",
       "    </tr>\n",
       "    <tr>\n",
       "      <th>21</th>\n",
       "      <td>22</td>\n",
       "      <td>32197.620701</td>\n",
       "      <td>-52.423280</td>\n",
       "      <td>4244.057136</td>\n",
       "      <td>0</td>\n",
       "    </tr>\n",
       "    <tr>\n",
       "      <th>26</th>\n",
       "      <td>27</td>\n",
       "      <td>63287.038908</td>\n",
       "      <td>-36.496976</td>\n",
       "      <td>9595.286289</td>\n",
       "      <td>0</td>\n",
       "    </tr>\n",
       "  </tbody>\n",
       "</table>\n",
       "</div>"
      ],
      "text/plain": [
       "    i#clientid        income        age         loan  c#default\n",
       "15          16  50501.726689 -28.218361  3977.287432          0\n",
       "21          22  32197.620701 -52.423280  4244.057136          0\n",
       "26          27  63287.038908 -36.496976  9595.286289          0"
      ]
     },
     "execution_count": 10,
     "metadata": {},
     "output_type": "execute_result"
    }
   ],
   "source": [
    "# vamos verificar os registros de idade menor que zero \n",
    "df.loc[df['age'] < 0] "
   ]
  },
  {
   "cell_type": "code",
   "execution_count": 11,
   "id": "40b9a48b-8a70-426f-8180-e292e9860c07",
   "metadata": {},
   "outputs": [],
   "source": [
    "# Agora vamos converter de valor neagtivo para positivo\n",
    "df.loc[df['age'] < 0] = abs(df.loc[df['age'] < 0])"
   ]
  },
  {
   "cell_type": "code",
   "execution_count": 12,
   "id": "8a0243a7-c6f7-424f-9863-a453391a0b0f",
   "metadata": {},
   "outputs": [
    {
     "data": {
      "text/html": [
       "<div>\n",
       "<style scoped>\n",
       "    .dataframe tbody tr th:only-of-type {\n",
       "        vertical-align: middle;\n",
       "    }\n",
       "\n",
       "    .dataframe tbody tr th {\n",
       "        vertical-align: top;\n",
       "    }\n",
       "\n",
       "    .dataframe thead th {\n",
       "        text-align: right;\n",
       "    }\n",
       "</style>\n",
       "<table border=\"1\" class=\"dataframe\">\n",
       "  <thead>\n",
       "    <tr style=\"text-align: right;\">\n",
       "      <th></th>\n",
       "      <th>i#clientid</th>\n",
       "      <th>income</th>\n",
       "      <th>age</th>\n",
       "      <th>loan</th>\n",
       "      <th>c#default</th>\n",
       "    </tr>\n",
       "  </thead>\n",
       "  <tbody>\n",
       "    <tr>\n",
       "      <th>15</th>\n",
       "      <td>16</td>\n",
       "      <td>50501.726689</td>\n",
       "      <td>28.218361</td>\n",
       "      <td>3977.287432</td>\n",
       "      <td>0</td>\n",
       "    </tr>\n",
       "    <tr>\n",
       "      <th>21</th>\n",
       "      <td>22</td>\n",
       "      <td>32197.620701</td>\n",
       "      <td>52.423280</td>\n",
       "      <td>4244.057136</td>\n",
       "      <td>0</td>\n",
       "    </tr>\n",
       "    <tr>\n",
       "      <th>26</th>\n",
       "      <td>27</td>\n",
       "      <td>63287.038908</td>\n",
       "      <td>36.496976</td>\n",
       "      <td>9595.286289</td>\n",
       "      <td>0</td>\n",
       "    </tr>\n",
       "  </tbody>\n",
       "</table>\n",
       "</div>"
      ],
      "text/plain": [
       "    i#clientid        income        age         loan  c#default\n",
       "15          16  50501.726689  28.218361  3977.287432          0\n",
       "21          22  32197.620701  52.423280  4244.057136          0\n",
       "26          27  63287.038908  36.496976  9595.286289          0"
      ]
     },
     "execution_count": 12,
     "metadata": {},
     "output_type": "execute_result"
    }
   ],
   "source": [
    "# Veja que não há mais pessoas com idade negativa\n",
    "df.loc[df['i#clientid'].isin([16, 22, 27])]"
   ]
  },
  {
   "cell_type": "markdown",
   "id": "b41ddbba-3eb1-4ff0-b50f-9d92dd625bcf",
   "metadata": {},
   "source": [
    "- 2. Dados Faltantes"
   ]
  },
  {
   "cell_type": "code",
   "execution_count": 13,
   "id": "14445c41-38f5-4f86-a1e1-18cd5293c37f",
   "metadata": {},
   "outputs": [
    {
     "data": {
      "text/plain": [
       "i#clientid    0\n",
       "income        0\n",
       "age           3\n",
       "loan          0\n",
       "c#default     0\n",
       "dtype: int64"
      ]
     },
     "execution_count": 13,
     "metadata": {},
     "output_type": "execute_result"
    }
   ],
   "source": [
    "df.isnull().sum()"
   ]
  },
  {
   "cell_type": "code",
   "execution_count": 14,
   "id": "d403b7be-b5ce-4097-98b9-873a1dd8ee4f",
   "metadata": {},
   "outputs": [
    {
     "data": {
      "text/html": [
       "<div>\n",
       "<style scoped>\n",
       "    .dataframe tbody tr th:only-of-type {\n",
       "        vertical-align: middle;\n",
       "    }\n",
       "\n",
       "    .dataframe tbody tr th {\n",
       "        vertical-align: top;\n",
       "    }\n",
       "\n",
       "    .dataframe thead th {\n",
       "        text-align: right;\n",
       "    }\n",
       "</style>\n",
       "<table border=\"1\" class=\"dataframe\">\n",
       "  <thead>\n",
       "    <tr style=\"text-align: right;\">\n",
       "      <th></th>\n",
       "      <th>i#clientid</th>\n",
       "      <th>income</th>\n",
       "      <th>age</th>\n",
       "      <th>loan</th>\n",
       "      <th>c#default</th>\n",
       "    </tr>\n",
       "  </thead>\n",
       "  <tbody>\n",
       "    <tr>\n",
       "      <th>28</th>\n",
       "      <td>29</td>\n",
       "      <td>59417.805406</td>\n",
       "      <td>NaN</td>\n",
       "      <td>2082.625938</td>\n",
       "      <td>0</td>\n",
       "    </tr>\n",
       "    <tr>\n",
       "      <th>30</th>\n",
       "      <td>31</td>\n",
       "      <td>48528.852796</td>\n",
       "      <td>NaN</td>\n",
       "      <td>6155.784670</td>\n",
       "      <td>0</td>\n",
       "    </tr>\n",
       "    <tr>\n",
       "      <th>31</th>\n",
       "      <td>32</td>\n",
       "      <td>23526.302555</td>\n",
       "      <td>NaN</td>\n",
       "      <td>2862.010139</td>\n",
       "      <td>0</td>\n",
       "    </tr>\n",
       "  </tbody>\n",
       "</table>\n",
       "</div>"
      ],
      "text/plain": [
       "    i#clientid        income  age         loan  c#default\n",
       "28          29  59417.805406  NaN  2082.625938          0\n",
       "30          31  48528.852796  NaN  6155.784670          0\n",
       "31          32  23526.302555  NaN  2862.010139          0"
      ]
     },
     "execution_count": 14,
     "metadata": {},
     "output_type": "execute_result"
    }
   ],
   "source": [
    "# verificando quais são os registros\n",
    "df.loc[pd.isnull(df['age'])]  "
   ]
  },
  {
   "cell_type": "code",
   "execution_count": 15,
   "id": "58ea849f-d07f-4ad9-b02a-c727d4404bd2",
   "metadata": {},
   "outputs": [],
   "source": [
    "# Preenchendo os dados faltantes pela media\n",
    "df['age'].fillna(df['age'].mean(), inplace = True)"
   ]
  },
  {
   "cell_type": "code",
   "execution_count": 16,
   "id": "8471f579-da3b-49e3-a555-8f2b0e651b92",
   "metadata": {},
   "outputs": [
    {
     "data": {
      "text/html": [
       "<div>\n",
       "<style scoped>\n",
       "    .dataframe tbody tr th:only-of-type {\n",
       "        vertical-align: middle;\n",
       "    }\n",
       "\n",
       "    .dataframe tbody tr th {\n",
       "        vertical-align: top;\n",
       "    }\n",
       "\n",
       "    .dataframe thead th {\n",
       "        text-align: right;\n",
       "    }\n",
       "</style>\n",
       "<table border=\"1\" class=\"dataframe\">\n",
       "  <thead>\n",
       "    <tr style=\"text-align: right;\">\n",
       "      <th></th>\n",
       "      <th>i#clientid</th>\n",
       "      <th>income</th>\n",
       "      <th>age</th>\n",
       "      <th>loan</th>\n",
       "      <th>c#default</th>\n",
       "    </tr>\n",
       "  </thead>\n",
       "  <tbody>\n",
       "    <tr>\n",
       "      <th>28</th>\n",
       "      <td>29</td>\n",
       "      <td>59417.805406</td>\n",
       "      <td>40.924874</td>\n",
       "      <td>2082.625938</td>\n",
       "      <td>0</td>\n",
       "    </tr>\n",
       "    <tr>\n",
       "      <th>30</th>\n",
       "      <td>31</td>\n",
       "      <td>48528.852796</td>\n",
       "      <td>40.924874</td>\n",
       "      <td>6155.784670</td>\n",
       "      <td>0</td>\n",
       "    </tr>\n",
       "    <tr>\n",
       "      <th>31</th>\n",
       "      <td>32</td>\n",
       "      <td>23526.302555</td>\n",
       "      <td>40.924874</td>\n",
       "      <td>2862.010139</td>\n",
       "      <td>0</td>\n",
       "    </tr>\n",
       "  </tbody>\n",
       "</table>\n",
       "</div>"
      ],
      "text/plain": [
       "    i#clientid        income        age         loan  c#default\n",
       "28          29  59417.805406  40.924874  2082.625938          0\n",
       "30          31  48528.852796  40.924874  6155.784670          0\n",
       "31          32  23526.302555  40.924874  2862.010139          0"
      ]
     },
     "execution_count": 16,
     "metadata": {},
     "output_type": "execute_result"
    }
   ],
   "source": [
    "# verificar os campos anteriores\n",
    "df.loc[df['i#clientid'].isin([29, 31, 32])]"
   ]
  },
  {
   "cell_type": "markdown",
   "id": "1cd4e5f8-d758-4823-af05-1bdea0647e00",
   "metadata": {},
   "source": [
    "# Verificando como esta as nossas classes no target"
   ]
  },
  {
   "cell_type": "markdown",
   "id": "750069c5-cb82-495d-9e5d-fb85a2d3ad61",
   "metadata": {},
   "source": [
    " Percebe-se que nossas classes estão desbalanceadas, mas a frente vamos contornar esta situação, \n",
    " mas antes iremos separar as features classificadoras do target que contem as nossas classes, valores de X e y"
   ]
  },
  {
   "cell_type": "code",
   "execution_count": 17,
   "id": "bf85e8cf-965f-4b7a-b104-56de287bf0ee",
   "metadata": {},
   "outputs": [
    {
     "name": "stdout",
     "output_type": "stream",
     "text": [
      "(array([0, 1]), array([1717,  283]))\n"
     ]
    },
    {
     "data": {
      "text/plain": [
       "<AxesSubplot:xlabel='c#default', ylabel='count'>"
      ]
     },
     "execution_count": 17,
     "metadata": {},
     "output_type": "execute_result"
    },
    {
     "data": {
      "image/png": "[encoded data removed]",
      "text/plain": [
       "<Figure size 800x550 with 1 Axes>"
      ]
     },
     "metadata": {},
     "output_type": "display_data"
    }
   ],
   "source": [
    "print(np.unique(df['c#default'], return_counts=True)) \n",
    "\n",
    "sns.countplot(x = df['c#default'])"
   ]
  },
  {
   "cell_type": "markdown",
   "id": "de98cc4f-3dde-4d67-b865-2be44a959cb3",
   "metadata": {},
   "source": [
    "# Definindo features Classificadoras e as Classes"
   ]
  },
  {
   "cell_type": "code",
   "execution_count": 18,
   "id": "f98f6cf2-0738-482b-8271-af9930f211fb",
   "metadata": {},
   "outputs": [],
   "source": [
    "X = df.drop(columns=['i#clientid', 'c#default'], axis=1)\n",
    "y = df['c#default']"
   ]
  },
  {
   "cell_type": "code",
   "execution_count": 19,
   "id": "ceee8f12-d65d-42b2-ae67-1d60c554f1dc",
   "metadata": {},
   "outputs": [
    {
     "data": {
      "text/html": [
       "<div>\n",
       "<style scoped>\n",
       "    .dataframe tbody tr th:only-of-type {\n",
       "        vertical-align: middle;\n",
       "    }\n",
       "\n",
       "    .dataframe tbody tr th {\n",
       "        vertical-align: top;\n",
       "    }\n",
       "\n",
       "    .dataframe thead th {\n",
       "        text-align: right;\n",
       "    }\n",
       "</style>\n",
       "<table border=\"1\" class=\"dataframe\">\n",
       "  <thead>\n",
       "    <tr style=\"text-align: right;\">\n",
       "      <th></th>\n",
       "      <th>income</th>\n",
       "      <th>age</th>\n",
       "      <th>loan</th>\n",
       "    </tr>\n",
       "  </thead>\n",
       "  <tbody>\n",
       "    <tr>\n",
       "      <th>count</th>\n",
       "      <td>2000.000000</td>\n",
       "      <td>2000.000000</td>\n",
       "      <td>2000.000000</td>\n",
       "    </tr>\n",
       "    <tr>\n",
       "      <th>mean</th>\n",
       "      <td>45331.600018</td>\n",
       "      <td>40.924874</td>\n",
       "      <td>4444.369695</td>\n",
       "    </tr>\n",
       "    <tr>\n",
       "      <th>std</th>\n",
       "      <td>14326.327119</td>\n",
       "      <td>13.257782</td>\n",
       "      <td>3045.410024</td>\n",
       "    </tr>\n",
       "    <tr>\n",
       "      <th>min</th>\n",
       "      <td>20014.489470</td>\n",
       "      <td>18.055189</td>\n",
       "      <td>1.377630</td>\n",
       "    </tr>\n",
       "    <tr>\n",
       "      <th>25%</th>\n",
       "      <td>32796.459717</td>\n",
       "      <td>29.062492</td>\n",
       "      <td>1939.708847</td>\n",
       "    </tr>\n",
       "    <tr>\n",
       "      <th>50%</th>\n",
       "      <td>45789.117313</td>\n",
       "      <td>41.310898</td>\n",
       "      <td>3974.719419</td>\n",
       "    </tr>\n",
       "    <tr>\n",
       "      <th>75%</th>\n",
       "      <td>57791.281668</td>\n",
       "      <td>52.582340</td>\n",
       "      <td>6432.410625</td>\n",
       "    </tr>\n",
       "    <tr>\n",
       "      <th>max</th>\n",
       "      <td>69995.685578</td>\n",
       "      <td>63.971796</td>\n",
       "      <td>13766.051239</td>\n",
       "    </tr>\n",
       "  </tbody>\n",
       "</table>\n",
       "</div>"
      ],
      "text/plain": [
       "             income          age          loan\n",
       "count   2000.000000  2000.000000   2000.000000\n",
       "mean   45331.600018    40.924874   4444.369695\n",
       "std    14326.327119    13.257782   3045.410024\n",
       "min    20014.489470    18.055189      1.377630\n",
       "25%    32796.459717    29.062492   1939.708847\n",
       "50%    45789.117313    41.310898   3974.719419\n",
       "75%    57791.281668    52.582340   6432.410625\n",
       "max    69995.685578    63.971796  13766.051239"
      ]
     },
     "execution_count": 19,
     "metadata": {},
     "output_type": "execute_result"
    }
   ],
   "source": [
    "X.describe()"
   ]
  },
  {
   "cell_type": "markdown",
   "id": "5f098234-ad6a-48b9-97f5-d4d86ab28749",
   "metadata": {},
   "source": [
    "# Split"
   ]
  },
  {
   "cell_type": "code",
   "execution_count": 20,
   "id": "734d2aed-b494-4b3a-872c-b10bd2a0a057",
   "metadata": {},
   "outputs": [],
   "source": [
    "X_train, X_test, y_train, y_test = train_test_split(X, y, test_size=0.25, random_state=0)"
   ]
  },
  {
   "cell_type": "markdown",
   "id": "72266b31-66ca-4a11-a94f-b9fe6d607808",
   "metadata": {},
   "source": [
    "# SMOTE"
   ]
  },
  {
   "cell_type": "code",
   "execution_count": 21,
   "id": "26677c66-2aa4-475e-9e2f-6db527a398dc",
   "metadata": {},
   "outputs": [],
   "source": [
    "smt = SMOTE()\n",
    "\n",
    "X_train, y_train = smt.fit_resample(X_train, y_train)"
   ]
  },
  {
   "cell_type": "markdown",
   "id": "9c15e1cf-c26c-466f-992a-e7a3c8f01670",
   "metadata": {},
   "source": [
    "# Naive Bayes"
   ]
  },
  {
   "cell_type": "code",
   "execution_count": 22,
   "id": "46f7a3f8-9ced-4ff6-bab3-57bc9bc6ed96",
   "metadata": {},
   "outputs": [],
   "source": [
    "clf_nb = GaussianNB()\n",
    "\n",
    "clf_nb.fit(X_train, y_train)\n",
    "\n",
    "previsoes_nb = clf_nb.predict(X_test)"
   ]
  },
  {
   "cell_type": "code",
   "execution_count": 23,
   "id": "99dcf6ce-a41c-47d8-86e2-a6e112cf915f",
   "metadata": {},
   "outputs": [
    {
     "name": "stdout",
     "output_type": "stream",
     "text": [
      "Acuracia: 88.0%\n"
     ]
    }
   ],
   "source": [
    "print(f'Acuracia: {accuracy_score(y_test, previsoes_nb).round(3) * 100}%')"
   ]
  },
  {
   "cell_type": "code",
   "execution_count": 24,
   "id": "4990c7b5-8ec0-4057-9fa5-eba18210105c",
   "metadata": {},
   "outputs": [
    {
     "data": {
      "text/plain": [
       "0.88"
      ]
     },
     "execution_count": 24,
     "metadata": {},
     "output_type": "execute_result"
    },
    {
     "data": {
      "image/png": "[encoded data removed]",
      "text/plain": [
       "<Figure size 800x550 with 1 Axes>"
      ]
     },
     "metadata": {},
     "output_type": "display_data"
    }
   ],
   "source": [
    "clf_nb = ConfusionMatrix(clf_nb)\n",
    "\n",
    "clf_nb.fit(X_train, y_train)\n",
    "\n",
    "clf_nb.score(X_test, y_test)"
   ]
  },
  {
   "cell_type": "code",
   "execution_count": 25,
   "id": "ece891a6",
   "metadata": {},
   "outputs": [
    {
     "name": "stdout",
     "output_type": "stream",
     "text": [
      "              precision    recall  f1-score   support\n",
      "\n",
      "           0       0.99      0.87      0.93       436\n",
      "           1       0.52      0.92      0.66        64\n",
      "\n",
      "    accuracy                           0.88       500\n",
      "   macro avg       0.75      0.90      0.79       500\n",
      "weighted avg       0.93      0.88      0.89       500\n",
      "\n"
     ]
    }
   ],
   "source": [
    "print(classification_report(y_test, previsoes_nb))"
   ]
  },
  {
   "cell_type": "markdown",
   "id": "184c1c4f-8621-4840-a58f-179a20a2d1ec",
   "metadata": {},
   "source": [
    "# Decision Tree"
   ]
  },
  {
   "cell_type": "code",
   "execution_count": 26,
   "id": "0681ef97-5786-4ab2-a47d-d7e06d629932",
   "metadata": {},
   "outputs": [],
   "source": [
    "clf_dt = DecisionTreeClassifier(max_depth=5,  random_state=1)\n",
    "\n",
    "clf_dt_fitted = clf_dt.fit(X_train, y_train)\n",
    "\n",
    "previsoes_dt = clf_dt_fitted.predict(X_test)"
   ]
  },
  {
   "cell_type": "code",
   "execution_count": 27,
   "id": "deefa241-d05c-4807-8b69-3207d9230843",
   "metadata": {},
   "outputs": [
    {
     "name": "stdout",
     "output_type": "stream",
     "text": [
      "Acuracia: 96.0%\n"
     ]
    }
   ],
   "source": [
    "print(f'Acuracia: {accuracy_score(y_test, previsoes_dt).round(4) * 100}%')"
   ]
  },
  {
   "cell_type": "code",
   "execution_count": 28,
   "id": "3d3fcf77-eca4-49a7-82b2-70a923b70891",
   "metadata": {},
   "outputs": [
    {
     "data": {
      "text/plain": [
       "0.96"
      ]
     },
     "execution_count": 28,
     "metadata": {},
     "output_type": "execute_result"
    },
    {
     "data": {
      "image/png": "[encoded data removed]",
      "text/plain": [
       "<Figure size 800x550 with 1 Axes>"
      ]
     },
     "metadata": {},
     "output_type": "display_data"
    }
   ],
   "source": [
    "clf_dt = ConfusionMatrix(clf_dt_fitted)\n",
    "\n",
    "clf_dt.fit(X_train, y_train)\n",
    "\n",
    "clf_dt.score(X_test, y_test)"
   ]
  },
  {
   "cell_type": "code",
   "execution_count": 29,
   "id": "a7806b87",
   "metadata": {},
   "outputs": [
    {
     "name": "stdout",
     "output_type": "stream",
     "text": [
      "              precision    recall  f1-score   support\n",
      "\n",
      "           0       1.00      0.96      0.98       436\n",
      "           1       0.78      0.97      0.86        64\n",
      "\n",
      "    accuracy                           0.96       500\n",
      "   macro avg       0.89      0.96      0.92       500\n",
      "weighted avg       0.97      0.96      0.96       500\n",
      "\n"
     ]
    }
   ],
   "source": [
    "print(classification_report(y_test, previsoes_dt))"
   ]
  },
  {
   "cell_type": "markdown",
   "id": "d4cdfab3-1ffb-4b31-85ec-68a7e1e4e793",
   "metadata": {},
   "source": [
    "# Random Forest "
   ]
  },
  {
   "cell_type": "code",
   "execution_count": 30,
   "id": "6757a06b-0405-4002-ace1-f233c4272a33",
   "metadata": {},
   "outputs": [],
   "source": [
    "clf_rf = RandomForestClassifier(n_estimators=40, criterion='entropy', random_state = 1)\n",
    "\n",
    "clf_rf.fit(X_train, y_train)\n",
    "\n",
    "previsoes_rf = clf_rf.predict(X_test)"
   ]
  },
  {
   "cell_type": "code",
   "execution_count": 31,
   "id": "4957a96c-5f73-4cf2-90dc-5f3b815e9786",
   "metadata": {},
   "outputs": [
    {
     "name": "stdout",
     "output_type": "stream",
     "text": [
      "Acuracia: 98.6%\n"
     ]
    }
   ],
   "source": [
    "print(f'Acuracia: {accuracy_score(y_test, previsoes_rf).round(3) * 100}%')"
   ]
  },
  {
   "cell_type": "code",
   "execution_count": 32,
   "id": "dbd5a122-0fae-412d-b2a0-1f0462fed7ac",
   "metadata": {},
   "outputs": [
    {
     "data": {
      "text/plain": [
       "0.986"
      ]
     },
     "execution_count": 32,
     "metadata": {},
     "output_type": "execute_result"
    },
    {
     "data": {
      "image/png": "[encoded data removed]",
      "text/plain": [
       "<Figure size 800x550 with 1 Axes>"
      ]
     },
     "metadata": {},
     "output_type": "display_data"
    }
   ],
   "source": [
    "clf_rf = ConfusionMatrix(clf_rf)\n",
    "\n",
    "clf_rf.fit(X_train, y_train)\n",
    "\n",
    "clf_rf.score(X_test, y_test)"
   ]
  },
  {
   "cell_type": "code",
   "execution_count": 33,
   "id": "d358f3c3-6834-4d06-ba35-62809150a3a7",
   "metadata": {},
   "outputs": [
    {
     "name": "stdout",
     "output_type": "stream",
     "text": [
      "              precision    recall  f1-score   support\n",
      "\n",
      "           0       1.00      0.98      0.99       436\n",
      "           1       0.90      1.00      0.95        64\n",
      "\n",
      "    accuracy                           0.99       500\n",
      "   macro avg       0.95      0.99      0.97       500\n",
      "weighted avg       0.99      0.99      0.99       500\n",
      "\n"
     ]
    }
   ],
   "source": [
    "print(classification_report(y_test, previsoes_rf))"
   ]
  },
  {
   "cell_type": "markdown",
   "id": "42fa856c-b475-48c3-abad-99b7373220f6",
   "metadata": {},
   "source": [
    "# KNN"
   ]
  },
  {
   "cell_type": "code",
   "execution_count": 34,
   "id": "5aedcae1-5361-49f9-b316-87459bca28d3",
   "metadata": {},
   "outputs": [
    {
     "name": "stdout",
     "output_type": "stream",
     "text": [
      "Acuracia: 79.4%\n"
     ]
    }
   ],
   "source": [
    "clf_knn = KNeighborsClassifier(n_neighbors=3)\n",
    "\n",
    "clf_knn.fit(X_train, y_train)\n",
    "\n",
    "previsoes_knn = clf_knn.predict(X_test)\n",
    "\n",
    "print(f'Acuracia: {accuracy_score(y_test, previsoes_knn).round(3) * 100}%')"
   ]
  },
  {
   "cell_type": "code",
   "execution_count": 35,
   "id": "f87a0b72-1d3d-44ea-b9ef-992981fb525e",
   "metadata": {},
   "outputs": [
    {
     "data": {
      "text/plain": [
       "0.794"
      ]
     },
     "execution_count": 35,
     "metadata": {},
     "output_type": "execute_result"
    },
    {
     "data": {
      "image/png": "[encoded data removed]",
      "text/plain": [
       "<Figure size 800x550 with 1 Axes>"
      ]
     },
     "metadata": {},
     "output_type": "display_data"
    }
   ],
   "source": [
    "clf_knn = ConfusionMatrix(clf_knn)\n",
    "\n",
    "clf_knn.fit(X_train, y_train)\n",
    "\n",
    "clf_knn.score(X_test, y_test)"
   ]
  },
  {
   "cell_type": "code",
   "execution_count": 36,
   "id": "713e6d6a-8a9e-43ee-acf9-7556189552d8",
   "metadata": {},
   "outputs": [
    {
     "name": "stdout",
     "output_type": "stream",
     "text": [
      "              precision    recall  f1-score   support\n",
      "\n",
      "           0       0.95      0.81      0.87       436\n",
      "           1       0.35      0.69      0.46        64\n",
      "\n",
      "    accuracy                           0.79       500\n",
      "   macro avg       0.65      0.75      0.67       500\n",
      "weighted avg       0.87      0.79      0.82       500\n",
      "\n"
     ]
    }
   ],
   "source": [
    "print(classification_report(y_test, previsoes_knn))"
   ]
  },
  {
   "cell_type": "markdown",
   "id": "227fe7d1-d004-4908-a46b-a88a4466372c",
   "metadata": {},
   "source": [
    "# SVM"
   ]
  },
  {
   "cell_type": "code",
   "execution_count": 37,
   "id": "469bce0e-bec3-40e5-882f-2dc10724e16f",
   "metadata": {},
   "outputs": [
    {
     "name": "stdout",
     "output_type": "stream",
     "text": [
      "Acuracia: 74.6 %\n"
     ]
    }
   ],
   "source": [
    "clf_svm = SVC(kernel='rbf', random_state=1, C = 2.0)\n",
    "\n",
    "clf_svm.fit(X_train, y_train)\n",
    "\n",
    "previsoes_svm = clf_svm.predict(X_test)\n",
    "\n",
    "print(f'Acuracia: {accuracy_score(y_test, previsoes_svm).round(3) * 100} %')"
   ]
  },
  {
   "cell_type": "code",
   "execution_count": 38,
   "id": "3f9d2537-311e-4ef8-a7c5-e1f979d94862",
   "metadata": {},
   "outputs": [
    {
     "data": {
      "text/plain": [
       "0.746"
      ]
     },
     "execution_count": 38,
     "metadata": {},
     "output_type": "execute_result"
    },
    {
     "data": {
      "image/png": "[encoded data removed]",
      "text/plain": [
       "<Figure size 800x550 with 1 Axes>"
      ]
     },
     "metadata": {},
     "output_type": "display_data"
    }
   ],
   "source": [
    "clf_svm = ConfusionMatrix(clf_svm)\n",
    "\n",
    "clf_svm.fit(X_train, y_train)\n",
    "\n",
    "clf_svm.score(X_test, y_test)"
   ]
  },
  {
   "cell_type": "code",
   "execution_count": 39,
   "id": "d81722ee-34b4-4939-bd1c-f9d1702fef82",
   "metadata": {},
   "outputs": [
    {
     "name": "stdout",
     "output_type": "stream",
     "text": [
      "              precision    recall  f1-score   support\n",
      "\n",
      "           0       0.98      0.73      0.83       436\n",
      "           1       0.32      0.88      0.47        64\n",
      "\n",
      "    accuracy                           0.75       500\n",
      "   macro avg       0.65      0.80      0.65       500\n",
      "weighted avg       0.89      0.75      0.79       500\n",
      "\n"
     ]
    }
   ],
   "source": [
    "print(classification_report(y_test, previsoes_svm))"
   ]
  },
  {
   "cell_type": "markdown",
   "id": "d23d4529",
   "metadata": {},
   "source": [
    "# Regressão Logística "
   ]
  },
  {
   "cell_type": "code",
   "execution_count": 40,
   "id": "05d57f41",
   "metadata": {},
   "outputs": [
    {
     "name": "stdout",
     "output_type": "stream",
     "text": [
      "Acuracia: 89.4 %\n"
     ]
    }
   ],
   "source": [
    "clf_logistic = LogisticRegression(random_state=1, max_iter=300)\n",
    "\n",
    "clf_logistic.fit(X_train, y_train)\n",
    "\n",
    "previsoes_logistic = clf_logistic.predict(X_test)\n",
    "\n",
    "print(f'Acuracia: {accuracy_score(y_test, previsoes_logistic).round(4) * 100} %')\n"
   ]
  },
  {
   "cell_type": "code",
   "execution_count": 41,
   "id": "24bfaaa3",
   "metadata": {},
   "outputs": [
    {
     "data": {
      "text/plain": [
       "array([0.00017483])"
      ]
     },
     "execution_count": 41,
     "metadata": {},
     "output_type": "execute_result"
    }
   ],
   "source": [
    "clf_logistic.intercept_"
   ]
  },
  {
   "cell_type": "code",
   "execution_count": 42,
   "id": "6ded75e4",
   "metadata": {},
   "outputs": [
    {
     "data": {
      "text/plain": [
       "array([[-6.60923632e-05, -1.11737450e-01,  1.09311658e-03]])"
      ]
     },
     "execution_count": 42,
     "metadata": {},
     "output_type": "execute_result"
    }
   ],
   "source": [
    "clf_logistic.coef_"
   ]
  },
  {
   "cell_type": "code",
   "execution_count": 43,
   "id": "e7d9fae0",
   "metadata": {},
   "outputs": [
    {
     "data": {
      "text/plain": [
       "0.894"
      ]
     },
     "execution_count": 43,
     "metadata": {},
     "output_type": "execute_result"
    },
    {
     "data": {
      "image/png": "[encoded data removed]",
      "text/plain": [
       "<Figure size 800x550 with 1 Axes>"
      ]
     },
     "metadata": {},
     "output_type": "display_data"
    }
   ],
   "source": [
    "clf_reg_log = ConfusionMatrix(clf_logistic)\n",
    "\n",
    "clf_reg_log.fit(X_train, y_train)\n",
    "\n",
    "clf_reg_log.score(X_test, y_test)"
   ]
  },
  {
   "cell_type": "code",
   "execution_count": 44,
   "id": "b7789b43",
   "metadata": {},
   "outputs": [
    {
     "name": "stdout",
     "output_type": "stream",
     "text": [
      "              precision    recall  f1-score   support\n",
      "\n",
      "           0       0.97      0.91      0.94       436\n",
      "           1       0.56      0.80      0.66        64\n",
      "\n",
      "    accuracy                           0.89       500\n",
      "   macro avg       0.76      0.85      0.80       500\n",
      "weighted avg       0.92      0.89      0.90       500\n",
      "\n"
     ]
    }
   ],
   "source": [
    "print(classification_report(y_test, previsoes_logistic))\n"
   ]
  },
  {
   "cell_type": "markdown",
   "id": "d2f0f34e-364f-401b-aebc-842e3a809f89",
   "metadata": {},
   "source": [
    "# XGBoost"
   ]
  },
  {
   "cell_type": "code",
   "execution_count": 45,
   "id": "8337fe10",
   "metadata": {},
   "outputs": [],
   "source": [
    "clf_xgb = XGBClassifier()\n",
    "\n",
    "clf_xgb.fit(X_train, y_train)\n",
    "\n",
    "previsoes_xgb = clf_xgb.predict(X_test)"
   ]
  },
  {
   "cell_type": "code",
   "execution_count": 46,
   "id": "3562c2f4",
   "metadata": {},
   "outputs": [
    {
     "name": "stdout",
     "output_type": "stream",
     "text": [
      "Acuracia: 98.4 %\n"
     ]
    }
   ],
   "source": [
    "print(f'Acuracia: {accuracy_score(y_test, previsoes_xgb).round(4) * 100} %')"
   ]
  },
  {
   "cell_type": "code",
   "execution_count": 47,
   "id": "c8531d4b",
   "metadata": {},
   "outputs": [
    {
     "data": {
      "text/plain": [
       "0.984"
      ]
     },
     "execution_count": 47,
     "metadata": {},
     "output_type": "execute_result"
    },
    {
     "data": {
      "image/png": "[encoded data removed]",
      "text/plain": [
       "<Figure size 800x550 with 1 Axes>"
      ]
     },
     "metadata": {},
     "output_type": "display_data"
    }
   ],
   "source": [
    "cm = ConfusionMatrix(clf_xgb)\n",
    "\n",
    "cm.fit(X_train, y_train)\n",
    "\n",
    "cm.score(X_test, y_test)"
   ]
  },
  {
   "cell_type": "code",
   "execution_count": 48,
   "id": "7bb6a15c",
   "metadata": {},
   "outputs": [
    {
     "name": "stdout",
     "output_type": "stream",
     "text": [
      "              precision    recall  f1-score   support\n",
      "\n",
      "           0       0.99      0.99      0.99       436\n",
      "           1       0.92      0.95      0.94        64\n",
      "\n",
      "    accuracy                           0.98       500\n",
      "   macro avg       0.96      0.97      0.96       500\n",
      "weighted avg       0.98      0.98      0.98       500\n",
      "\n"
     ]
    }
   ],
   "source": [
    "print(classification_report(y_test, previsoes_xgb))"
   ]
  },
  {
   "cell_type": "code",
   "execution_count": 49,
   "id": "16288854",
   "metadata": {},
   "outputs": [
    {
     "data": {
      "image/png": "[encoded data removed]",
      "text/plain": [
       "<Figure size 800x300 with 3 Axes>"
      ]
     },
     "metadata": {},
     "output_type": "display_data"
    }
   ],
   "source": [
    "explainer = shap.Explainer(clf_xgb)\n",
    "shap_values = explainer(X_train)\n",
    "\n",
    "shap.plots.waterfall(shap_values[0])"
   ]
  },
  {
   "cell_type": "markdown",
   "id": "cef84b52-3435-4efd-8275-b6382f996258",
   "metadata": {},
   "source": [
    "# CATBoost"
   ]
  },
  {
   "cell_type": "code",
   "execution_count": 50,
   "id": "d25f974a-1233-40ed-b199-af0553de0e71",
   "metadata": {},
   "outputs": [
    {
     "name": "stdout",
     "output_type": "stream",
     "text": [
      "Learning rate set to 0.015396\n",
      "0:\tlearn: 0.6640732\ttotal: 48.2ms\tremaining: 48.2s\n",
      "1:\tlearn: 0.6368325\ttotal: 49.9ms\tremaining: 24.9s\n",
      "2:\tlearn: 0.6106564\ttotal: 51.5ms\tremaining: 17.1s\n",
      "3:\tlearn: 0.5902374\ttotal: 52.9ms\tremaining: 13.2s\n",
      "4:\tlearn: 0.5637082\ttotal: 54.1ms\tremaining: 10.8s\n",
      "5:\tlearn: 0.5381578\ttotal: 55.3ms\tremaining: 9.15s\n",
      "6:\tlearn: 0.5140300\ttotal: 56.5ms\tremaining: 8.01s\n",
      "7:\tlearn: 0.4928090\ttotal: 59.1ms\tremaining: 7.33s\n",
      "8:\tlearn: 0.4704418\ttotal: 60.8ms\tremaining: 6.69s\n",
      "9:\tlearn: 0.4495584\ttotal: 62.3ms\tremaining: 6.17s\n",
      "10:\tlearn: 0.4298640\ttotal: 63.8ms\tremaining: 5.74s\n",
      "11:\tlearn: 0.4173370\ttotal: 65.3ms\tremaining: 5.38s\n",
      "12:\tlearn: 0.4019044\ttotal: 66.7ms\tremaining: 5.07s\n",
      "13:\tlearn: 0.3897062\ttotal: 68.4ms\tremaining: 4.82s\n",
      "14:\tlearn: 0.3761771\ttotal: 69.7ms\tremaining: 4.58s\n",
      "15:\tlearn: 0.3608509\ttotal: 70.9ms\tremaining: 4.36s\n",
      "16:\tlearn: 0.3472076\ttotal: 72.2ms\tremaining: 4.18s\n",
      "17:\tlearn: 0.3353760\ttotal: 75ms\tremaining: 4.09s\n",
      "18:\tlearn: 0.3247267\ttotal: 76.9ms\tremaining: 3.97s\n",
      "19:\tlearn: 0.3141981\ttotal: 78.5ms\tremaining: 3.85s\n",
      "20:\tlearn: 0.3047203\ttotal: 80ms\tremaining: 3.73s\n",
      "21:\tlearn: 0.2952512\ttotal: 81.6ms\tremaining: 3.63s\n",
      "22:\tlearn: 0.2849098\ttotal: 83.1ms\tremaining: 3.53s\n",
      "23:\tlearn: 0.2762782\ttotal: 84.5ms\tremaining: 3.44s\n",
      "24:\tlearn: 0.2683957\ttotal: 85.8ms\tremaining: 3.35s\n",
      "25:\tlearn: 0.2587344\ttotal: 87.6ms\tremaining: 3.28s\n",
      "26:\tlearn: 0.2506558\ttotal: 90.4ms\tremaining: 3.26s\n",
      "27:\tlearn: 0.2436038\ttotal: 91.9ms\tremaining: 3.19s\n",
      "28:\tlearn: 0.2369268\ttotal: 93.6ms\tremaining: 3.13s\n",
      "29:\tlearn: 0.2295904\ttotal: 95.5ms\tremaining: 3.09s\n",
      "30:\tlearn: 0.2219095\ttotal: 97.1ms\tremaining: 3.03s\n",
      "31:\tlearn: 0.2156925\ttotal: 98.7ms\tremaining: 2.98s\n",
      "32:\tlearn: 0.2095748\ttotal: 100ms\tremaining: 2.93s\n",
      "33:\tlearn: 0.2033060\ttotal: 101ms\tremaining: 2.88s\n",
      "34:\tlearn: 0.1983693\ttotal: 103ms\tremaining: 2.83s\n",
      "35:\tlearn: 0.1928169\ttotal: 105ms\tremaining: 2.8s\n",
      "36:\tlearn: 0.1872342\ttotal: 106ms\tremaining: 2.77s\n",
      "37:\tlearn: 0.1810420\ttotal: 108ms\tremaining: 2.73s\n",
      "38:\tlearn: 0.1759563\ttotal: 109ms\tremaining: 2.69s\n",
      "39:\tlearn: 0.1720448\ttotal: 111ms\tremaining: 2.66s\n",
      "40:\tlearn: 0.1679826\ttotal: 112ms\tremaining: 2.62s\n",
      "41:\tlearn: 0.1640643\ttotal: 114ms\tremaining: 2.59s\n",
      "42:\tlearn: 0.1605225\ttotal: 115ms\tremaining: 2.56s\n",
      "43:\tlearn: 0.1566220\ttotal: 116ms\tremaining: 2.53s\n",
      "44:\tlearn: 0.1529698\ttotal: 118ms\tremaining: 2.49s\n",
      "45:\tlearn: 0.1490098\ttotal: 119ms\tremaining: 2.47s\n",
      "46:\tlearn: 0.1459562\ttotal: 121ms\tremaining: 2.45s\n",
      "47:\tlearn: 0.1426499\ttotal: 123ms\tremaining: 2.43s\n",
      "48:\tlearn: 0.1388456\ttotal: 124ms\tremaining: 2.41s\n",
      "49:\tlearn: 0.1359116\ttotal: 125ms\tremaining: 2.38s\n",
      "50:\tlearn: 0.1333279\ttotal: 127ms\tremaining: 2.36s\n",
      "51:\tlearn: 0.1309196\ttotal: 128ms\tremaining: 2.33s\n",
      "52:\tlearn: 0.1285459\ttotal: 129ms\tremaining: 2.31s\n",
      "53:\tlearn: 0.1270516\ttotal: 131ms\tremaining: 2.29s\n",
      "54:\tlearn: 0.1246493\ttotal: 132ms\tremaining: 2.26s\n",
      "55:\tlearn: 0.1215769\ttotal: 133ms\tremaining: 2.24s\n",
      "56:\tlearn: 0.1189663\ttotal: 134ms\tremaining: 2.22s\n",
      "57:\tlearn: 0.1172717\ttotal: 136ms\tremaining: 2.21s\n",
      "58:\tlearn: 0.1153326\ttotal: 138ms\tremaining: 2.19s\n",
      "59:\tlearn: 0.1132232\ttotal: 139ms\tremaining: 2.18s\n",
      "60:\tlearn: 0.1103674\ttotal: 140ms\tremaining: 2.16s\n",
      "61:\tlearn: 0.1082025\ttotal: 142ms\tremaining: 2.14s\n",
      "62:\tlearn: 0.1056006\ttotal: 143ms\tremaining: 2.13s\n",
      "63:\tlearn: 0.1027551\ttotal: 144ms\tremaining: 2.11s\n",
      "64:\tlearn: 0.1012061\ttotal: 146ms\tremaining: 2.09s\n",
      "65:\tlearn: 0.0995260\ttotal: 147ms\tremaining: 2.08s\n",
      "66:\tlearn: 0.0981280\ttotal: 148ms\tremaining: 2.06s\n",
      "67:\tlearn: 0.0964977\ttotal: 149ms\tremaining: 2.04s\n",
      "68:\tlearn: 0.0948982\ttotal: 151ms\tremaining: 2.04s\n",
      "69:\tlearn: 0.0935065\ttotal: 153ms\tremaining: 2.03s\n",
      "70:\tlearn: 0.0924711\ttotal: 154ms\tremaining: 2.02s\n",
      "71:\tlearn: 0.0907293\ttotal: 156ms\tremaining: 2.01s\n",
      "72:\tlearn: 0.0896936\ttotal: 157ms\tremaining: 2s\n",
      "73:\tlearn: 0.0884285\ttotal: 158ms\tremaining: 1.98s\n",
      "74:\tlearn: 0.0866142\ttotal: 160ms\tremaining: 1.97s\n",
      "75:\tlearn: 0.0848544\ttotal: 161ms\tremaining: 1.96s\n",
      "76:\tlearn: 0.0834563\ttotal: 162ms\tremaining: 1.94s\n",
      "77:\tlearn: 0.0823606\ttotal: 163ms\tremaining: 1.93s\n",
      "78:\tlearn: 0.0807346\ttotal: 164ms\tremaining: 1.91s\n",
      "79:\tlearn: 0.0797764\ttotal: 166ms\tremaining: 1.91s\n",
      "80:\tlearn: 0.0782742\ttotal: 168ms\tremaining: 1.9s\n",
      "81:\tlearn: 0.0769748\ttotal: 169ms\tremaining: 1.89s\n",
      "82:\tlearn: 0.0757652\ttotal: 170ms\tremaining: 1.88s\n",
      "83:\tlearn: 0.0745356\ttotal: 172ms\tremaining: 1.87s\n",
      "84:\tlearn: 0.0735797\ttotal: 173ms\tremaining: 1.86s\n",
      "85:\tlearn: 0.0725004\ttotal: 174ms\tremaining: 1.85s\n",
      "86:\tlearn: 0.0720265\ttotal: 175ms\tremaining: 1.84s\n",
      "87:\tlearn: 0.0706626\ttotal: 177ms\tremaining: 1.83s\n",
      "88:\tlearn: 0.0697824\ttotal: 178ms\tremaining: 1.82s\n",
      "89:\tlearn: 0.0681654\ttotal: 179ms\tremaining: 1.81s\n",
      "90:\tlearn: 0.0669729\ttotal: 180ms\tremaining: 1.8s\n",
      "91:\tlearn: 0.0664072\ttotal: 182ms\tremaining: 1.8s\n",
      "92:\tlearn: 0.0655437\ttotal: 183ms\tremaining: 1.79s\n",
      "93:\tlearn: 0.0647517\ttotal: 185ms\tremaining: 1.78s\n",
      "94:\tlearn: 0.0641515\ttotal: 186ms\tremaining: 1.77s\n",
      "95:\tlearn: 0.0638289\ttotal: 188ms\tremaining: 1.77s\n",
      "96:\tlearn: 0.0633885\ttotal: 190ms\tremaining: 1.77s\n",
      "97:\tlearn: 0.0623202\ttotal: 191ms\tremaining: 1.76s\n",
      "98:\tlearn: 0.0615422\ttotal: 192ms\tremaining: 1.75s\n",
      "99:\tlearn: 0.0608601\ttotal: 193ms\tremaining: 1.74s\n",
      "100:\tlearn: 0.0602339\ttotal: 194ms\tremaining: 1.73s\n",
      "101:\tlearn: 0.0595643\ttotal: 196ms\tremaining: 1.73s\n",
      "102:\tlearn: 0.0591539\ttotal: 198ms\tremaining: 1.73s\n",
      "103:\tlearn: 0.0585989\ttotal: 200ms\tremaining: 1.72s\n",
      "104:\tlearn: 0.0580377\ttotal: 201ms\tremaining: 1.72s\n",
      "105:\tlearn: 0.0574757\ttotal: 203ms\tremaining: 1.71s\n",
      "106:\tlearn: 0.0565861\ttotal: 204ms\tremaining: 1.71s\n",
      "107:\tlearn: 0.0560423\ttotal: 206ms\tremaining: 1.7s\n",
      "108:\tlearn: 0.0550729\ttotal: 207ms\tremaining: 1.69s\n",
      "109:\tlearn: 0.0544448\ttotal: 208ms\tremaining: 1.69s\n",
      "110:\tlearn: 0.0537493\ttotal: 210ms\tremaining: 1.68s\n",
      "111:\tlearn: 0.0530384\ttotal: 212ms\tremaining: 1.68s\n",
      "112:\tlearn: 0.0525419\ttotal: 213ms\tremaining: 1.67s\n",
      "113:\tlearn: 0.0519633\ttotal: 215ms\tremaining: 1.67s\n",
      "114:\tlearn: 0.0512911\ttotal: 216ms\tremaining: 1.66s\n",
      "115:\tlearn: 0.0506867\ttotal: 218ms\tremaining: 1.66s\n",
      "116:\tlearn: 0.0502438\ttotal: 219ms\tremaining: 1.65s\n",
      "117:\tlearn: 0.0497730\ttotal: 221ms\tremaining: 1.65s\n",
      "118:\tlearn: 0.0492061\ttotal: 222ms\tremaining: 1.64s\n",
      "119:\tlearn: 0.0487374\ttotal: 223ms\tremaining: 1.64s\n",
      "120:\tlearn: 0.0484582\ttotal: 225ms\tremaining: 1.63s\n",
      "121:\tlearn: 0.0476823\ttotal: 226ms\tremaining: 1.63s\n",
      "122:\tlearn: 0.0470386\ttotal: 228ms\tremaining: 1.63s\n",
      "123:\tlearn: 0.0466335\ttotal: 230ms\tremaining: 1.63s\n",
      "124:\tlearn: 0.0462425\ttotal: 232ms\tremaining: 1.62s\n",
      "125:\tlearn: 0.0458366\ttotal: 234ms\tremaining: 1.62s\n",
      "126:\tlearn: 0.0455703\ttotal: 235ms\tremaining: 1.62s\n",
      "127:\tlearn: 0.0451612\ttotal: 237ms\tremaining: 1.61s\n",
      "128:\tlearn: 0.0448097\ttotal: 238ms\tremaining: 1.61s\n",
      "129:\tlearn: 0.0443028\ttotal: 239ms\tremaining: 1.6s\n",
      "130:\tlearn: 0.0438189\ttotal: 241ms\tremaining: 1.6s\n",
      "131:\tlearn: 0.0436741\ttotal: 243ms\tremaining: 1.6s\n",
      "132:\tlearn: 0.0432181\ttotal: 245ms\tremaining: 1.59s\n",
      "133:\tlearn: 0.0428867\ttotal: 247ms\tremaining: 1.59s\n",
      "134:\tlearn: 0.0421883\ttotal: 248ms\tremaining: 1.59s\n",
      "135:\tlearn: 0.0419262\ttotal: 250ms\tremaining: 1.59s\n",
      "136:\tlearn: 0.0414268\ttotal: 251ms\tremaining: 1.58s\n",
      "137:\tlearn: 0.0410292\ttotal: 253ms\tremaining: 1.58s\n",
      "138:\tlearn: 0.0406749\ttotal: 254ms\tremaining: 1.57s\n",
      "139:\tlearn: 0.0404050\ttotal: 256ms\tremaining: 1.57s\n",
      "140:\tlearn: 0.0402724\ttotal: 258ms\tremaining: 1.57s\n",
      "141:\tlearn: 0.0400093\ttotal: 259ms\tremaining: 1.57s\n",
      "142:\tlearn: 0.0396120\ttotal: 261ms\tremaining: 1.56s\n",
      "143:\tlearn: 0.0392784\ttotal: 263ms\tremaining: 1.56s\n",
      "144:\tlearn: 0.0389244\ttotal: 264ms\tremaining: 1.56s\n",
      "145:\tlearn: 0.0386683\ttotal: 266ms\tremaining: 1.55s\n",
      "146:\tlearn: 0.0383625\ttotal: 268ms\tremaining: 1.55s\n",
      "147:\tlearn: 0.0381906\ttotal: 269ms\tremaining: 1.55s\n",
      "148:\tlearn: 0.0377401\ttotal: 270ms\tremaining: 1.54s\n",
      "149:\tlearn: 0.0373267\ttotal: 273ms\tremaining: 1.54s\n",
      "150:\tlearn: 0.0369282\ttotal: 275ms\tremaining: 1.54s\n",
      "151:\tlearn: 0.0366372\ttotal: 276ms\tremaining: 1.54s\n",
      "152:\tlearn: 0.0363018\ttotal: 278ms\tremaining: 1.54s\n",
      "153:\tlearn: 0.0362150\ttotal: 279ms\tremaining: 1.53s\n",
      "154:\tlearn: 0.0360117\ttotal: 281ms\tremaining: 1.53s\n",
      "155:\tlearn: 0.0356784\ttotal: 282ms\tremaining: 1.52s\n",
      "156:\tlearn: 0.0354169\ttotal: 283ms\tremaining: 1.52s\n",
      "157:\tlearn: 0.0352371\ttotal: 285ms\tremaining: 1.52s\n",
      "158:\tlearn: 0.0351202\ttotal: 286ms\tremaining: 1.51s\n",
      "159:\tlearn: 0.0349550\ttotal: 288ms\tremaining: 1.51s\n",
      "160:\tlearn: 0.0347716\ttotal: 290ms\tremaining: 1.51s\n",
      "161:\tlearn: 0.0345183\ttotal: 291ms\tremaining: 1.51s\n",
      "162:\tlearn: 0.0343117\ttotal: 293ms\tremaining: 1.5s\n",
      "163:\tlearn: 0.0340994\ttotal: 294ms\tremaining: 1.5s\n",
      "164:\tlearn: 0.0339573\ttotal: 296ms\tremaining: 1.5s\n",
      "165:\tlearn: 0.0338334\ttotal: 297ms\tremaining: 1.49s\n",
      "166:\tlearn: 0.0337823\ttotal: 299ms\tremaining: 1.49s\n",
      "167:\tlearn: 0.0334136\ttotal: 300ms\tremaining: 1.48s\n",
      "168:\tlearn: 0.0331054\ttotal: 301ms\tremaining: 1.48s\n",
      "169:\tlearn: 0.0329505\ttotal: 303ms\tremaining: 1.48s\n",
      "170:\tlearn: 0.0326600\ttotal: 305ms\tremaining: 1.48s\n",
      "171:\tlearn: 0.0324559\ttotal: 306ms\tremaining: 1.47s\n",
      "172:\tlearn: 0.0323736\ttotal: 308ms\tremaining: 1.47s\n",
      "173:\tlearn: 0.0320457\ttotal: 309ms\tremaining: 1.47s\n",
      "174:\tlearn: 0.0319356\ttotal: 311ms\tremaining: 1.47s\n",
      "175:\tlearn: 0.0317117\ttotal: 313ms\tremaining: 1.46s\n",
      "176:\tlearn: 0.0315137\ttotal: 314ms\tremaining: 1.46s\n",
      "177:\tlearn: 0.0312672\ttotal: 315ms\tremaining: 1.46s\n",
      "178:\tlearn: 0.0310366\ttotal: 316ms\tremaining: 1.45s\n",
      "179:\tlearn: 0.0309650\ttotal: 319ms\tremaining: 1.45s\n",
      "180:\tlearn: 0.0306703\ttotal: 321ms\tremaining: 1.45s\n",
      "181:\tlearn: 0.0305650\ttotal: 323ms\tremaining: 1.45s\n",
      "182:\tlearn: 0.0305143\ttotal: 325ms\tremaining: 1.45s\n",
      "183:\tlearn: 0.0303228\ttotal: 326ms\tremaining: 1.45s\n",
      "184:\tlearn: 0.0301604\ttotal: 328ms\tremaining: 1.44s\n",
      "185:\tlearn: 0.0299947\ttotal: 329ms\tremaining: 1.44s\n",
      "186:\tlearn: 0.0298684\ttotal: 330ms\tremaining: 1.44s\n",
      "187:\tlearn: 0.0296240\ttotal: 332ms\tremaining: 1.43s\n",
      "188:\tlearn: 0.0294516\ttotal: 334ms\tremaining: 1.43s\n",
      "189:\tlearn: 0.0292667\ttotal: 336ms\tremaining: 1.43s\n",
      "190:\tlearn: 0.0290959\ttotal: 338ms\tremaining: 1.43s\n",
      "191:\tlearn: 0.0289036\ttotal: 340ms\tremaining: 1.43s\n",
      "192:\tlearn: 0.0286504\ttotal: 341ms\tremaining: 1.43s\n",
      "193:\tlearn: 0.0285573\ttotal: 343ms\tremaining: 1.43s\n",
      "194:\tlearn: 0.0283911\ttotal: 345ms\tremaining: 1.42s\n",
      "195:\tlearn: 0.0280825\ttotal: 346ms\tremaining: 1.42s\n",
      "196:\tlearn: 0.0279783\ttotal: 348ms\tremaining: 1.42s\n",
      "197:\tlearn: 0.0278389\ttotal: 350ms\tremaining: 1.42s\n",
      "198:\tlearn: 0.0277839\ttotal: 352ms\tremaining: 1.42s\n",
      "199:\tlearn: 0.0277165\ttotal: 354ms\tremaining: 1.42s\n",
      "200:\tlearn: 0.0276375\ttotal: 356ms\tremaining: 1.42s\n",
      "201:\tlearn: 0.0275880\ttotal: 358ms\tremaining: 1.42s\n",
      "202:\tlearn: 0.0273411\ttotal: 360ms\tremaining: 1.41s\n",
      "203:\tlearn: 0.0271328\ttotal: 361ms\tremaining: 1.41s\n",
      "204:\tlearn: 0.0271054\ttotal: 363ms\tremaining: 1.41s\n",
      "205:\tlearn: 0.0269293\ttotal: 365ms\tremaining: 1.41s\n",
      "206:\tlearn: 0.0267895\ttotal: 367ms\tremaining: 1.41s\n",
      "207:\tlearn: 0.0267156\ttotal: 369ms\tremaining: 1.4s\n",
      "208:\tlearn: 0.0266085\ttotal: 370ms\tremaining: 1.4s\n",
      "209:\tlearn: 0.0264817\ttotal: 372ms\tremaining: 1.4s\n",
      "210:\tlearn: 0.0263184\ttotal: 374ms\tremaining: 1.4s\n",
      "211:\tlearn: 0.0261321\ttotal: 375ms\tremaining: 1.39s\n",
      "212:\tlearn: 0.0259080\ttotal: 376ms\tremaining: 1.39s\n",
      "213:\tlearn: 0.0257349\ttotal: 378ms\tremaining: 1.39s\n",
      "214:\tlearn: 0.0256437\ttotal: 380ms\tremaining: 1.39s\n",
      "215:\tlearn: 0.0255267\ttotal: 382ms\tremaining: 1.39s\n",
      "216:\tlearn: 0.0254011\ttotal: 383ms\tremaining: 1.38s\n",
      "217:\tlearn: 0.0253815\ttotal: 385ms\tremaining: 1.38s\n",
      "218:\tlearn: 0.0253548\ttotal: 387ms\tremaining: 1.38s\n",
      "219:\tlearn: 0.0252965\ttotal: 389ms\tremaining: 1.38s\n",
      "220:\tlearn: 0.0250635\ttotal: 390ms\tremaining: 1.37s\n",
      "221:\tlearn: 0.0249137\ttotal: 391ms\tremaining: 1.37s\n",
      "222:\tlearn: 0.0247839\ttotal: 393ms\tremaining: 1.37s\n",
      "223:\tlearn: 0.0247629\ttotal: 395ms\tremaining: 1.37s\n",
      "224:\tlearn: 0.0245984\ttotal: 397ms\tremaining: 1.37s\n",
      "225:\tlearn: 0.0244636\ttotal: 399ms\tremaining: 1.37s\n",
      "226:\tlearn: 0.0244083\ttotal: 401ms\tremaining: 1.36s\n",
      "227:\tlearn: 0.0243167\ttotal: 402ms\tremaining: 1.36s\n",
      "228:\tlearn: 0.0241566\ttotal: 404ms\tremaining: 1.36s\n",
      "229:\tlearn: 0.0240648\ttotal: 405ms\tremaining: 1.36s\n",
      "230:\tlearn: 0.0239209\ttotal: 407ms\tremaining: 1.35s\n",
      "231:\tlearn: 0.0238228\ttotal: 409ms\tremaining: 1.35s\n",
      "232:\tlearn: 0.0237548\ttotal: 411ms\tremaining: 1.35s\n",
      "233:\tlearn: 0.0236784\ttotal: 412ms\tremaining: 1.35s\n",
      "234:\tlearn: 0.0235148\ttotal: 414ms\tremaining: 1.35s\n",
      "235:\tlearn: 0.0234362\ttotal: 416ms\tremaining: 1.35s\n",
      "236:\tlearn: 0.0233819\ttotal: 417ms\tremaining: 1.34s\n",
      "237:\tlearn: 0.0232051\ttotal: 419ms\tremaining: 1.34s\n",
      "238:\tlearn: 0.0231359\ttotal: 421ms\tremaining: 1.34s\n",
      "239:\tlearn: 0.0229852\ttotal: 422ms\tremaining: 1.34s\n",
      "240:\tlearn: 0.0228970\ttotal: 424ms\tremaining: 1.33s\n",
      "241:\tlearn: 0.0227980\ttotal: 427ms\tremaining: 1.34s\n",
      "242:\tlearn: 0.0227188\ttotal: 428ms\tremaining: 1.33s\n",
      "243:\tlearn: 0.0226645\ttotal: 430ms\tremaining: 1.33s\n",
      "244:\tlearn: 0.0225275\ttotal: 432ms\tremaining: 1.33s\n",
      "245:\tlearn: 0.0223746\ttotal: 434ms\tremaining: 1.33s\n",
      "246:\tlearn: 0.0223501\ttotal: 435ms\tremaining: 1.33s\n",
      "247:\tlearn: 0.0222335\ttotal: 437ms\tremaining: 1.32s\n",
      "248:\tlearn: 0.0221176\ttotal: 439ms\tremaining: 1.32s\n",
      "249:\tlearn: 0.0219803\ttotal: 441ms\tremaining: 1.32s\n",
      "250:\tlearn: 0.0219527\ttotal: 442ms\tremaining: 1.32s\n",
      "251:\tlearn: 0.0217894\ttotal: 444ms\tremaining: 1.32s\n",
      "252:\tlearn: 0.0217092\ttotal: 446ms\tremaining: 1.32s\n",
      "253:\tlearn: 0.0215527\ttotal: 447ms\tremaining: 1.31s\n",
      "254:\tlearn: 0.0214939\ttotal: 449ms\tremaining: 1.31s\n",
      "255:\tlearn: 0.0214272\ttotal: 450ms\tremaining: 1.31s\n",
      "256:\tlearn: 0.0212668\ttotal: 452ms\tremaining: 1.31s\n",
      "257:\tlearn: 0.0212084\ttotal: 453ms\tremaining: 1.3s\n",
      "258:\tlearn: 0.0210904\ttotal: 456ms\tremaining: 1.3s\n",
      "259:\tlearn: 0.0210414\ttotal: 458ms\tremaining: 1.3s\n",
      "260:\tlearn: 0.0210244\ttotal: 460ms\tremaining: 1.3s\n",
      "261:\tlearn: 0.0209133\ttotal: 462ms\tremaining: 1.3s\n",
      "262:\tlearn: 0.0208153\ttotal: 463ms\tremaining: 1.3s\n",
      "263:\tlearn: 0.0207204\ttotal: 465ms\tremaining: 1.29s\n",
      "264:\tlearn: 0.0206481\ttotal: 466ms\tremaining: 1.29s\n",
      "265:\tlearn: 0.0204813\ttotal: 467ms\tremaining: 1.29s\n",
      "266:\tlearn: 0.0203143\ttotal: 469ms\tremaining: 1.29s\n",
      "267:\tlearn: 0.0202262\ttotal: 472ms\tremaining: 1.29s\n",
      "268:\tlearn: 0.0201463\ttotal: 474ms\tremaining: 1.29s\n",
      "269:\tlearn: 0.0201196\ttotal: 475ms\tremaining: 1.28s\n",
      "270:\tlearn: 0.0200508\ttotal: 477ms\tremaining: 1.28s\n",
      "271:\tlearn: 0.0199040\ttotal: 479ms\tremaining: 1.28s\n",
      "272:\tlearn: 0.0198363\ttotal: 480ms\tremaining: 1.28s\n",
      "273:\tlearn: 0.0197678\ttotal: 482ms\tremaining: 1.28s\n",
      "274:\tlearn: 0.0196846\ttotal: 484ms\tremaining: 1.27s\n",
      "275:\tlearn: 0.0196477\ttotal: 486ms\tremaining: 1.27s\n",
      "276:\tlearn: 0.0195324\ttotal: 488ms\tremaining: 1.27s\n",
      "277:\tlearn: 0.0194748\ttotal: 489ms\tremaining: 1.27s\n",
      "278:\tlearn: 0.0194248\ttotal: 491ms\tremaining: 1.27s\n",
      "279:\tlearn: 0.0193954\ttotal: 493ms\tremaining: 1.27s\n",
      "280:\tlearn: 0.0192991\ttotal: 494ms\tremaining: 1.26s\n",
      "281:\tlearn: 0.0192040\ttotal: 495ms\tremaining: 1.26s\n",
      "282:\tlearn: 0.0191147\ttotal: 497ms\tremaining: 1.26s\n",
      "283:\tlearn: 0.0190340\ttotal: 498ms\tremaining: 1.26s\n",
      "284:\tlearn: 0.0189521\ttotal: 500ms\tremaining: 1.25s\n",
      "285:\tlearn: 0.0189201\ttotal: 502ms\tremaining: 1.25s\n",
      "286:\tlearn: 0.0188508\ttotal: 504ms\tremaining: 1.25s\n",
      "287:\tlearn: 0.0188394\ttotal: 505ms\tremaining: 1.25s\n",
      "288:\tlearn: 0.0186561\ttotal: 507ms\tremaining: 1.25s\n",
      "289:\tlearn: 0.0185938\ttotal: 508ms\tremaining: 1.24s\n",
      "290:\tlearn: 0.0185213\ttotal: 510ms\tremaining: 1.24s\n",
      "291:\tlearn: 0.0184535\ttotal: 511ms\tremaining: 1.24s\n",
      "292:\tlearn: 0.0183840\ttotal: 512ms\tremaining: 1.24s\n",
      "293:\tlearn: 0.0183367\ttotal: 513ms\tremaining: 1.23s\n",
      "294:\tlearn: 0.0181594\ttotal: 515ms\tremaining: 1.23s\n",
      "295:\tlearn: 0.0181156\ttotal: 518ms\tremaining: 1.23s\n",
      "296:\tlearn: 0.0180793\ttotal: 519ms\tremaining: 1.23s\n",
      "297:\tlearn: 0.0179129\ttotal: 521ms\tremaining: 1.23s\n",
      "298:\tlearn: 0.0178262\ttotal: 522ms\tremaining: 1.22s\n",
      "299:\tlearn: 0.0177316\ttotal: 524ms\tremaining: 1.22s\n",
      "300:\tlearn: 0.0175948\ttotal: 525ms\tremaining: 1.22s\n",
      "301:\tlearn: 0.0175251\ttotal: 526ms\tremaining: 1.22s\n",
      "302:\tlearn: 0.0174666\ttotal: 527ms\tremaining: 1.21s\n",
      "303:\tlearn: 0.0174393\ttotal: 529ms\tremaining: 1.21s\n",
      "304:\tlearn: 0.0173715\ttotal: 530ms\tremaining: 1.21s\n",
      "305:\tlearn: 0.0173146\ttotal: 532ms\tremaining: 1.21s\n",
      "306:\tlearn: 0.0172728\ttotal: 534ms\tremaining: 1.2s\n",
      "307:\tlearn: 0.0172217\ttotal: 535ms\tremaining: 1.2s\n",
      "308:\tlearn: 0.0171622\ttotal: 536ms\tremaining: 1.2s\n",
      "309:\tlearn: 0.0170181\ttotal: 538ms\tremaining: 1.2s\n",
      "310:\tlearn: 0.0169325\ttotal: 539ms\tremaining: 1.19s\n",
      "311:\tlearn: 0.0168877\ttotal: 540ms\tremaining: 1.19s\n",
      "312:\tlearn: 0.0168123\ttotal: 542ms\tremaining: 1.19s\n",
      "313:\tlearn: 0.0167557\ttotal: 543ms\tremaining: 1.19s\n",
      "314:\tlearn: 0.0166976\ttotal: 544ms\tremaining: 1.18s\n",
      "315:\tlearn: 0.0166266\ttotal: 545ms\tremaining: 1.18s\n",
      "316:\tlearn: 0.0165088\ttotal: 547ms\tremaining: 1.18s\n",
      "317:\tlearn: 0.0164259\ttotal: 549ms\tremaining: 1.18s\n",
      "318:\tlearn: 0.0163527\ttotal: 550ms\tremaining: 1.17s\n",
      "319:\tlearn: 0.0162975\ttotal: 551ms\tremaining: 1.17s\n",
      "320:\tlearn: 0.0162428\ttotal: 553ms\tremaining: 1.17s\n",
      "321:\tlearn: 0.0161864\ttotal: 554ms\tremaining: 1.17s\n",
      "322:\tlearn: 0.0161113\ttotal: 556ms\tremaining: 1.17s\n",
      "323:\tlearn: 0.0160539\ttotal: 557ms\tremaining: 1.16s\n",
      "324:\tlearn: 0.0160137\ttotal: 559ms\tremaining: 1.16s\n",
      "325:\tlearn: 0.0159288\ttotal: 560ms\tremaining: 1.16s\n",
      "326:\tlearn: 0.0158743\ttotal: 561ms\tremaining: 1.15s\n",
      "327:\tlearn: 0.0158611\ttotal: 563ms\tremaining: 1.15s\n",
      "328:\tlearn: 0.0158291\ttotal: 564ms\tremaining: 1.15s\n",
      "329:\tlearn: 0.0157938\ttotal: 566ms\tremaining: 1.15s\n",
      "330:\tlearn: 0.0157178\ttotal: 567ms\tremaining: 1.15s\n",
      "331:\tlearn: 0.0156520\ttotal: 569ms\tremaining: 1.14s\n",
      "332:\tlearn: 0.0155935\ttotal: 570ms\tremaining: 1.14s\n",
      "333:\tlearn: 0.0155655\ttotal: 571ms\tremaining: 1.14s\n",
      "334:\tlearn: 0.0155400\ttotal: 573ms\tremaining: 1.14s\n",
      "335:\tlearn: 0.0155365\ttotal: 573ms\tremaining: 1.13s\n",
      "336:\tlearn: 0.0155019\ttotal: 575ms\tremaining: 1.13s\n",
      "337:\tlearn: 0.0154876\ttotal: 576ms\tremaining: 1.13s\n",
      "338:\tlearn: 0.0153770\ttotal: 578ms\tremaining: 1.13s\n",
      "339:\tlearn: 0.0153591\ttotal: 580ms\tremaining: 1.13s\n",
      "340:\tlearn: 0.0153029\ttotal: 581ms\tremaining: 1.12s\n",
      "341:\tlearn: 0.0152581\ttotal: 583ms\tremaining: 1.12s\n",
      "342:\tlearn: 0.0152104\ttotal: 584ms\tremaining: 1.12s\n",
      "343:\tlearn: 0.0151977\ttotal: 586ms\tremaining: 1.12s\n",
      "344:\tlearn: 0.0151488\ttotal: 587ms\tremaining: 1.11s\n",
      "345:\tlearn: 0.0151275\ttotal: 588ms\tremaining: 1.11s\n",
      "346:\tlearn: 0.0150654\ttotal: 590ms\tremaining: 1.11s\n",
      "347:\tlearn: 0.0150482\ttotal: 591ms\tremaining: 1.11s\n",
      "348:\tlearn: 0.0150134\ttotal: 593ms\tremaining: 1.11s\n",
      "349:\tlearn: 0.0149520\ttotal: 595ms\tremaining: 1.1s\n",
      "350:\tlearn: 0.0148768\ttotal: 596ms\tremaining: 1.1s\n",
      "351:\tlearn: 0.0148153\ttotal: 598ms\tremaining: 1.1s\n",
      "352:\tlearn: 0.0147784\ttotal: 599ms\tremaining: 1.1s\n",
      "353:\tlearn: 0.0147432\ttotal: 600ms\tremaining: 1.09s\n",
      "354:\tlearn: 0.0146522\ttotal: 602ms\tremaining: 1.09s\n",
      "355:\tlearn: 0.0145689\ttotal: 603ms\tremaining: 1.09s\n",
      "356:\tlearn: 0.0144794\ttotal: 604ms\tremaining: 1.09s\n",
      "357:\tlearn: 0.0144541\ttotal: 606ms\tremaining: 1.08s\n",
      "358:\tlearn: 0.0143971\ttotal: 607ms\tremaining: 1.08s\n",
      "359:\tlearn: 0.0143789\ttotal: 609ms\tremaining: 1.08s\n",
      "360:\tlearn: 0.0143024\ttotal: 610ms\tremaining: 1.08s\n",
      "361:\tlearn: 0.0142775\ttotal: 612ms\tremaining: 1.08s\n",
      "362:\tlearn: 0.0142567\ttotal: 613ms\tremaining: 1.07s\n",
      "363:\tlearn: 0.0142057\ttotal: 614ms\tremaining: 1.07s\n",
      "364:\tlearn: 0.0141819\ttotal: 616ms\tremaining: 1.07s\n",
      "365:\tlearn: 0.0141453\ttotal: 617ms\tremaining: 1.07s\n",
      "366:\tlearn: 0.0141190\ttotal: 618ms\tremaining: 1.07s\n",
      "367:\tlearn: 0.0140433\ttotal: 619ms\tremaining: 1.06s\n",
      "368:\tlearn: 0.0140325\ttotal: 620ms\tremaining: 1.06s\n",
      "369:\tlearn: 0.0139589\ttotal: 621ms\tremaining: 1.06s\n",
      "370:\tlearn: 0.0139066\ttotal: 623ms\tremaining: 1.06s\n",
      "371:\tlearn: 0.0138420\ttotal: 624ms\tremaining: 1.05s\n",
      "372:\tlearn: 0.0138218\ttotal: 626ms\tremaining: 1.05s\n",
      "373:\tlearn: 0.0137634\ttotal: 627ms\tremaining: 1.05s\n",
      "374:\tlearn: 0.0137403\ttotal: 629ms\tremaining: 1.05s\n",
      "375:\tlearn: 0.0136907\ttotal: 630ms\tremaining: 1.04s\n",
      "376:\tlearn: 0.0136212\ttotal: 631ms\tremaining: 1.04s\n",
      "377:\tlearn: 0.0136054\ttotal: 632ms\tremaining: 1.04s\n",
      "378:\tlearn: 0.0135496\ttotal: 634ms\tremaining: 1.04s\n",
      "379:\tlearn: 0.0135327\ttotal: 635ms\tremaining: 1.03s\n",
      "380:\tlearn: 0.0134970\ttotal: 636ms\tremaining: 1.03s\n",
      "381:\tlearn: 0.0134471\ttotal: 637ms\tremaining: 1.03s\n",
      "382:\tlearn: 0.0134272\ttotal: 639ms\tremaining: 1.03s\n",
      "383:\tlearn: 0.0134029\ttotal: 640ms\tremaining: 1.03s\n",
      "384:\tlearn: 0.0133593\ttotal: 641ms\tremaining: 1.02s\n",
      "385:\tlearn: 0.0132456\ttotal: 643ms\tremaining: 1.02s\n",
      "386:\tlearn: 0.0132220\ttotal: 644ms\tremaining: 1.02s\n",
      "387:\tlearn: 0.0131475\ttotal: 646ms\tremaining: 1.02s\n",
      "388:\tlearn: 0.0130910\ttotal: 647ms\tremaining: 1.02s\n",
      "389:\tlearn: 0.0130596\ttotal: 648ms\tremaining: 1.01s\n",
      "390:\tlearn: 0.0130006\ttotal: 649ms\tremaining: 1.01s\n",
      "391:\tlearn: 0.0129382\ttotal: 651ms\tremaining: 1.01s\n",
      "392:\tlearn: 0.0128477\ttotal: 652ms\tremaining: 1.01s\n",
      "393:\tlearn: 0.0127729\ttotal: 654ms\tremaining: 1.01s\n",
      "394:\tlearn: 0.0127261\ttotal: 656ms\tremaining: 1s\n",
      "395:\tlearn: 0.0126684\ttotal: 657ms\tremaining: 1s\n",
      "396:\tlearn: 0.0126539\ttotal: 659ms\tremaining: 1s\n",
      "397:\tlearn: 0.0126042\ttotal: 660ms\tremaining: 998ms\n",
      "398:\tlearn: 0.0125667\ttotal: 661ms\tremaining: 996ms\n",
      "399:\tlearn: 0.0125069\ttotal: 662ms\tremaining: 994ms\n",
      "400:\tlearn: 0.0124809\ttotal: 664ms\tremaining: 991ms\n",
      "401:\tlearn: 0.0124214\ttotal: 665ms\tremaining: 989ms\n",
      "402:\tlearn: 0.0123797\ttotal: 666ms\tremaining: 986ms\n",
      "403:\tlearn: 0.0123089\ttotal: 667ms\tremaining: 984ms\n",
      "404:\tlearn: 0.0122588\ttotal: 669ms\tremaining: 982ms\n",
      "405:\tlearn: 0.0122137\ttotal: 671ms\tremaining: 982ms\n",
      "406:\tlearn: 0.0121532\ttotal: 672ms\tremaining: 979ms\n",
      "407:\tlearn: 0.0121171\ttotal: 674ms\tremaining: 977ms\n",
      "408:\tlearn: 0.0120587\ttotal: 675ms\tremaining: 975ms\n",
      "409:\tlearn: 0.0120480\ttotal: 676ms\tremaining: 973ms\n",
      "410:\tlearn: 0.0119782\ttotal: 678ms\tremaining: 971ms\n",
      "411:\tlearn: 0.0119242\ttotal: 679ms\tremaining: 969ms\n",
      "412:\tlearn: 0.0119204\ttotal: 681ms\tremaining: 967ms\n",
      "413:\tlearn: 0.0118762\ttotal: 682ms\tremaining: 965ms\n",
      "414:\tlearn: 0.0118596\ttotal: 683ms\tremaining: 963ms\n",
      "415:\tlearn: 0.0118139\ttotal: 686ms\tremaining: 962ms\n",
      "416:\tlearn: 0.0117435\ttotal: 687ms\tremaining: 960ms\n",
      "417:\tlearn: 0.0116840\ttotal: 688ms\tremaining: 958ms\n",
      "418:\tlearn: 0.0116279\ttotal: 690ms\tremaining: 956ms\n",
      "419:\tlearn: 0.0115844\ttotal: 691ms\tremaining: 954ms\n",
      "420:\tlearn: 0.0115594\ttotal: 692ms\tremaining: 952ms\n",
      "421:\tlearn: 0.0115309\ttotal: 694ms\tremaining: 950ms\n",
      "422:\tlearn: 0.0114967\ttotal: 695ms\tremaining: 948ms\n",
      "423:\tlearn: 0.0114472\ttotal: 696ms\tremaining: 946ms\n",
      "424:\tlearn: 0.0114242\ttotal: 697ms\tremaining: 943ms\n",
      "425:\tlearn: 0.0113919\ttotal: 698ms\tremaining: 941ms\n",
      "426:\tlearn: 0.0113609\ttotal: 700ms\tremaining: 939ms\n",
      "427:\tlearn: 0.0112963\ttotal: 701ms\tremaining: 937ms\n",
      "428:\tlearn: 0.0112638\ttotal: 703ms\tremaining: 935ms\n",
      "429:\tlearn: 0.0112266\ttotal: 704ms\tremaining: 933ms\n",
      "430:\tlearn: 0.0112240\ttotal: 706ms\tremaining: 931ms\n",
      "431:\tlearn: 0.0111793\ttotal: 707ms\tremaining: 929ms\n",
      "432:\tlearn: 0.0111629\ttotal: 708ms\tremaining: 927ms\n",
      "433:\tlearn: 0.0111246\ttotal: 710ms\tremaining: 925ms\n",
      "434:\tlearn: 0.0110934\ttotal: 711ms\tremaining: 923ms\n",
      "435:\tlearn: 0.0110733\ttotal: 712ms\tremaining: 921ms\n",
      "436:\tlearn: 0.0110345\ttotal: 713ms\tremaining: 919ms\n",
      "437:\tlearn: 0.0110081\ttotal: 714ms\tremaining: 916ms\n",
      "438:\tlearn: 0.0109581\ttotal: 716ms\tremaining: 915ms\n",
      "439:\tlearn: 0.0108958\ttotal: 718ms\tremaining: 913ms\n",
      "440:\tlearn: 0.0108405\ttotal: 719ms\tremaining: 912ms\n",
      "441:\tlearn: 0.0107963\ttotal: 720ms\tremaining: 909ms\n",
      "442:\tlearn: 0.0107915\ttotal: 722ms\tremaining: 908ms\n",
      "443:\tlearn: 0.0107464\ttotal: 723ms\tremaining: 905ms\n",
      "444:\tlearn: 0.0106983\ttotal: 724ms\tremaining: 903ms\n",
      "445:\tlearn: 0.0106622\ttotal: 726ms\tremaining: 901ms\n",
      "446:\tlearn: 0.0106433\ttotal: 727ms\tremaining: 899ms\n",
      "447:\tlearn: 0.0106136\ttotal: 728ms\tremaining: 897ms\n",
      "448:\tlearn: 0.0106060\ttotal: 729ms\tremaining: 895ms\n",
      "449:\tlearn: 0.0105901\ttotal: 731ms\tremaining: 893ms\n",
      "450:\tlearn: 0.0105876\ttotal: 732ms\tremaining: 891ms\n",
      "451:\tlearn: 0.0105662\ttotal: 734ms\tremaining: 889ms\n",
      "452:\tlearn: 0.0105315\ttotal: 735ms\tremaining: 888ms\n",
      "453:\tlearn: 0.0105020\ttotal: 736ms\tremaining: 886ms\n",
      "454:\tlearn: 0.0104852\ttotal: 738ms\tremaining: 884ms\n",
      "455:\tlearn: 0.0104224\ttotal: 739ms\tremaining: 881ms\n",
      "456:\tlearn: 0.0103727\ttotal: 740ms\tremaining: 880ms\n",
      "457:\tlearn: 0.0103679\ttotal: 742ms\tremaining: 878ms\n",
      "458:\tlearn: 0.0103608\ttotal: 743ms\tremaining: 876ms\n",
      "459:\tlearn: 0.0103482\ttotal: 744ms\tremaining: 874ms\n",
      "460:\tlearn: 0.0102983\ttotal: 747ms\tremaining: 873ms\n",
      "461:\tlearn: 0.0102536\ttotal: 748ms\tremaining: 871ms\n",
      "462:\tlearn: 0.0102433\ttotal: 749ms\tremaining: 869ms\n",
      "463:\tlearn: 0.0101951\ttotal: 751ms\tremaining: 867ms\n",
      "464:\tlearn: 0.0101217\ttotal: 752ms\tremaining: 865ms\n",
      "465:\tlearn: 0.0100844\ttotal: 754ms\tremaining: 864ms\n",
      "466:\tlearn: 0.0100752\ttotal: 755ms\tremaining: 862ms\n",
      "467:\tlearn: 0.0100390\ttotal: 756ms\tremaining: 860ms\n",
      "468:\tlearn: 0.0100159\ttotal: 758ms\tremaining: 858ms\n",
      "469:\tlearn: 0.0099827\ttotal: 759ms\tremaining: 856ms\n",
      "470:\tlearn: 0.0099647\ttotal: 760ms\tremaining: 854ms\n",
      "471:\tlearn: 0.0099301\ttotal: 762ms\tremaining: 853ms\n",
      "472:\tlearn: 0.0099129\ttotal: 764ms\tremaining: 851ms\n",
      "473:\tlearn: 0.0099116\ttotal: 765ms\tremaining: 849ms\n",
      "474:\tlearn: 0.0098887\ttotal: 767ms\tremaining: 848ms\n",
      "475:\tlearn: 0.0098564\ttotal: 768ms\tremaining: 846ms\n",
      "476:\tlearn: 0.0098394\ttotal: 770ms\tremaining: 844ms\n",
      "477:\tlearn: 0.0098260\ttotal: 771ms\tremaining: 842ms\n",
      "478:\tlearn: 0.0097912\ttotal: 772ms\tremaining: 840ms\n",
      "479:\tlearn: 0.0097495\ttotal: 774ms\tremaining: 838ms\n",
      "480:\tlearn: 0.0097418\ttotal: 775ms\tremaining: 836ms\n",
      "481:\tlearn: 0.0097032\ttotal: 777ms\tremaining: 835ms\n",
      "482:\tlearn: 0.0096639\ttotal: 779ms\tremaining: 834ms\n",
      "483:\tlearn: 0.0096319\ttotal: 781ms\tremaining: 833ms\n",
      "484:\tlearn: 0.0096150\ttotal: 783ms\tremaining: 831ms\n",
      "485:\tlearn: 0.0095701\ttotal: 785ms\tremaining: 830ms\n",
      "486:\tlearn: 0.0095353\ttotal: 787ms\tremaining: 829ms\n",
      "487:\tlearn: 0.0095262\ttotal: 788ms\tremaining: 827ms\n",
      "488:\tlearn: 0.0094823\ttotal: 789ms\tremaining: 825ms\n",
      "489:\tlearn: 0.0094533\ttotal: 790ms\tremaining: 823ms\n",
      "490:\tlearn: 0.0094297\ttotal: 793ms\tremaining: 822ms\n",
      "491:\tlearn: 0.0093711\ttotal: 794ms\tremaining: 820ms\n",
      "492:\tlearn: 0.0093369\ttotal: 796ms\tremaining: 819ms\n",
      "493:\tlearn: 0.0093212\ttotal: 797ms\tremaining: 817ms\n",
      "494:\tlearn: 0.0092970\ttotal: 799ms\tremaining: 815ms\n",
      "495:\tlearn: 0.0092469\ttotal: 800ms\tremaining: 813ms\n",
      "496:\tlearn: 0.0091919\ttotal: 801ms\tremaining: 811ms\n",
      "497:\tlearn: 0.0091879\ttotal: 803ms\tremaining: 809ms\n",
      "498:\tlearn: 0.0091573\ttotal: 804ms\tremaining: 807ms\n",
      "499:\tlearn: 0.0091155\ttotal: 805ms\tremaining: 805ms\n",
      "500:\tlearn: 0.0090934\ttotal: 806ms\tremaining: 803ms\n",
      "501:\tlearn: 0.0090340\ttotal: 808ms\tremaining: 802ms\n",
      "502:\tlearn: 0.0090104\ttotal: 810ms\tremaining: 800ms\n",
      "503:\tlearn: 0.0089798\ttotal: 811ms\tremaining: 798ms\n",
      "504:\tlearn: 0.0089282\ttotal: 812ms\tremaining: 796ms\n",
      "505:\tlearn: 0.0089069\ttotal: 814ms\tremaining: 794ms\n",
      "506:\tlearn: 0.0088628\ttotal: 815ms\tremaining: 792ms\n",
      "507:\tlearn: 0.0088363\ttotal: 816ms\tremaining: 790ms\n",
      "508:\tlearn: 0.0088122\ttotal: 817ms\tremaining: 788ms\n",
      "509:\tlearn: 0.0087731\ttotal: 819ms\tremaining: 786ms\n",
      "510:\tlearn: 0.0087399\ttotal: 820ms\tremaining: 784ms\n",
      "511:\tlearn: 0.0087225\ttotal: 821ms\tremaining: 782ms\n",
      "512:\tlearn: 0.0087032\ttotal: 824ms\tremaining: 782ms\n",
      "513:\tlearn: 0.0086873\ttotal: 825ms\tremaining: 780ms\n",
      "514:\tlearn: 0.0086731\ttotal: 827ms\tremaining: 779ms\n",
      "515:\tlearn: 0.0086164\ttotal: 828ms\tremaining: 777ms\n",
      "516:\tlearn: 0.0085861\ttotal: 829ms\tremaining: 775ms\n",
      "517:\tlearn: 0.0085717\ttotal: 831ms\tremaining: 773ms\n",
      "518:\tlearn: 0.0085594\ttotal: 832ms\tremaining: 771ms\n",
      "519:\tlearn: 0.0085312\ttotal: 833ms\tremaining: 769ms\n",
      "520:\tlearn: 0.0085116\ttotal: 834ms\tremaining: 767ms\n",
      "521:\tlearn: 0.0084847\ttotal: 836ms\tremaining: 765ms\n",
      "522:\tlearn: 0.0084637\ttotal: 837ms\tremaining: 763ms\n",
      "523:\tlearn: 0.0084523\ttotal: 839ms\tremaining: 762ms\n",
      "524:\tlearn: 0.0084205\ttotal: 840ms\tremaining: 760ms\n",
      "525:\tlearn: 0.0084093\ttotal: 842ms\tremaining: 758ms\n",
      "526:\tlearn: 0.0083832\ttotal: 843ms\tremaining: 757ms\n",
      "527:\tlearn: 0.0083568\ttotal: 844ms\tremaining: 755ms\n",
      "528:\tlearn: 0.0083250\ttotal: 846ms\tremaining: 753ms\n",
      "529:\tlearn: 0.0083010\ttotal: 847ms\tremaining: 751ms\n",
      "530:\tlearn: 0.0082850\ttotal: 848ms\tremaining: 749ms\n",
      "531:\tlearn: 0.0082612\ttotal: 849ms\tremaining: 747ms\n",
      "532:\tlearn: 0.0082579\ttotal: 850ms\tremaining: 745ms\n",
      "533:\tlearn: 0.0082339\ttotal: 851ms\tremaining: 743ms\n",
      "534:\tlearn: 0.0081960\ttotal: 854ms\tremaining: 742ms\n",
      "535:\tlearn: 0.0081852\ttotal: 855ms\tremaining: 740ms\n",
      "536:\tlearn: 0.0081484\ttotal: 856ms\tremaining: 738ms\n",
      "537:\tlearn: 0.0081272\ttotal: 858ms\tremaining: 737ms\n",
      "538:\tlearn: 0.0081213\ttotal: 859ms\tremaining: 735ms\n",
      "539:\tlearn: 0.0081075\ttotal: 861ms\tremaining: 733ms\n",
      "540:\tlearn: 0.0080843\ttotal: 862ms\tremaining: 731ms\n",
      "541:\tlearn: 0.0080530\ttotal: 863ms\tremaining: 730ms\n",
      "542:\tlearn: 0.0080301\ttotal: 864ms\tremaining: 727ms\n",
      "543:\tlearn: 0.0079964\ttotal: 866ms\tremaining: 726ms\n",
      "544:\tlearn: 0.0079749\ttotal: 867ms\tremaining: 724ms\n",
      "545:\tlearn: 0.0079574\ttotal: 868ms\tremaining: 722ms\n",
      "546:\tlearn: 0.0079117\ttotal: 870ms\tremaining: 721ms\n",
      "547:\tlearn: 0.0078991\ttotal: 871ms\tremaining: 719ms\n",
      "548:\tlearn: 0.0078876\ttotal: 873ms\tremaining: 717ms\n",
      "549:\tlearn: 0.0078763\ttotal: 874ms\tremaining: 715ms\n",
      "550:\tlearn: 0.0078581\ttotal: 876ms\tremaining: 713ms\n",
      "551:\tlearn: 0.0078538\ttotal: 877ms\tremaining: 712ms\n",
      "552:\tlearn: 0.0078102\ttotal: 878ms\tremaining: 710ms\n",
      "553:\tlearn: 0.0077905\ttotal: 879ms\tremaining: 708ms\n",
      "554:\tlearn: 0.0077826\ttotal: 880ms\tremaining: 706ms\n",
      "555:\tlearn: 0.0077284\ttotal: 882ms\tremaining: 704ms\n",
      "556:\tlearn: 0.0076962\ttotal: 883ms\tremaining: 702ms\n",
      "557:\tlearn: 0.0076729\ttotal: 885ms\tremaining: 701ms\n",
      "558:\tlearn: 0.0076399\ttotal: 886ms\tremaining: 699ms\n",
      "559:\tlearn: 0.0075965\ttotal: 888ms\tremaining: 697ms\n",
      "560:\tlearn: 0.0075590\ttotal: 889ms\tremaining: 696ms\n",
      "561:\tlearn: 0.0075306\ttotal: 890ms\tremaining: 694ms\n",
      "562:\tlearn: 0.0074964\ttotal: 891ms\tremaining: 692ms\n",
      "563:\tlearn: 0.0074767\ttotal: 892ms\tremaining: 690ms\n",
      "564:\tlearn: 0.0074597\ttotal: 894ms\tremaining: 688ms\n",
      "565:\tlearn: 0.0074589\ttotal: 894ms\tremaining: 686ms\n",
      "566:\tlearn: 0.0074469\ttotal: 895ms\tremaining: 684ms\n",
      "567:\tlearn: 0.0074283\ttotal: 896ms\tremaining: 682ms\n",
      "568:\tlearn: 0.0074117\ttotal: 897ms\tremaining: 680ms\n",
      "569:\tlearn: 0.0074086\ttotal: 899ms\tremaining: 678ms\n",
      "570:\tlearn: 0.0074035\ttotal: 901ms\tremaining: 677ms\n",
      "571:\tlearn: 0.0073876\ttotal: 902ms\tremaining: 675ms\n",
      "572:\tlearn: 0.0073682\ttotal: 903ms\tremaining: 673ms\n",
      "573:\tlearn: 0.0073550\ttotal: 905ms\tremaining: 671ms\n",
      "574:\tlearn: 0.0073508\ttotal: 906ms\tremaining: 670ms\n",
      "575:\tlearn: 0.0073150\ttotal: 907ms\tremaining: 668ms\n",
      "576:\tlearn: 0.0073149\ttotal: 908ms\tremaining: 666ms\n",
      "577:\tlearn: 0.0072931\ttotal: 909ms\tremaining: 664ms\n",
      "578:\tlearn: 0.0072528\ttotal: 910ms\tremaining: 662ms\n",
      "579:\tlearn: 0.0072415\ttotal: 912ms\tremaining: 660ms\n",
      "580:\tlearn: 0.0072109\ttotal: 913ms\tremaining: 658ms\n",
      "581:\tlearn: 0.0072061\ttotal: 914ms\tremaining: 657ms\n",
      "582:\tlearn: 0.0071833\ttotal: 916ms\tremaining: 655ms\n",
      "583:\tlearn: 0.0071664\ttotal: 917ms\tremaining: 653ms\n",
      "584:\tlearn: 0.0071559\ttotal: 919ms\tremaining: 652ms\n",
      "585:\tlearn: 0.0071234\ttotal: 920ms\tremaining: 650ms\n",
      "586:\tlearn: 0.0071069\ttotal: 921ms\tremaining: 648ms\n",
      "587:\tlearn: 0.0070976\ttotal: 922ms\tremaining: 646ms\n",
      "588:\tlearn: 0.0070924\ttotal: 923ms\tremaining: 644ms\n",
      "589:\tlearn: 0.0070847\ttotal: 925ms\tremaining: 643ms\n",
      "590:\tlearn: 0.0070804\ttotal: 926ms\tremaining: 641ms\n",
      "591:\tlearn: 0.0070636\ttotal: 927ms\tremaining: 639ms\n",
      "592:\tlearn: 0.0070540\ttotal: 929ms\tremaining: 638ms\n",
      "593:\tlearn: 0.0070366\ttotal: 932ms\tremaining: 637ms\n",
      "594:\tlearn: 0.0070117\ttotal: 933ms\tremaining: 635ms\n",
      "595:\tlearn: 0.0069957\ttotal: 935ms\tremaining: 634ms\n",
      "596:\tlearn: 0.0069669\ttotal: 936ms\tremaining: 632ms\n",
      "597:\tlearn: 0.0069507\ttotal: 938ms\tremaining: 630ms\n",
      "598:\tlearn: 0.0069409\ttotal: 939ms\tremaining: 629ms\n",
      "599:\tlearn: 0.0069199\ttotal: 940ms\tremaining: 627ms\n",
      "600:\tlearn: 0.0069058\ttotal: 942ms\tremaining: 625ms\n",
      "601:\tlearn: 0.0068748\ttotal: 943ms\tremaining: 623ms\n",
      "602:\tlearn: 0.0068506\ttotal: 944ms\tremaining: 622ms\n",
      "603:\tlearn: 0.0068202\ttotal: 947ms\tremaining: 621ms\n",
      "604:\tlearn: 0.0068063\ttotal: 948ms\tremaining: 619ms\n",
      "605:\tlearn: 0.0067773\ttotal: 950ms\tremaining: 618ms\n",
      "606:\tlearn: 0.0067375\ttotal: 951ms\tremaining: 616ms\n",
      "607:\tlearn: 0.0067063\ttotal: 953ms\tremaining: 614ms\n",
      "608:\tlearn: 0.0066890\ttotal: 954ms\tremaining: 613ms\n",
      "609:\tlearn: 0.0066601\ttotal: 956ms\tremaining: 611ms\n",
      "610:\tlearn: 0.0066546\ttotal: 957ms\tremaining: 609ms\n",
      "611:\tlearn: 0.0066465\ttotal: 959ms\tremaining: 608ms\n",
      "612:\tlearn: 0.0066321\ttotal: 961ms\tremaining: 607ms\n",
      "613:\tlearn: 0.0066227\ttotal: 963ms\tremaining: 605ms\n",
      "614:\tlearn: 0.0066039\ttotal: 964ms\tremaining: 604ms\n",
      "615:\tlearn: 0.0065639\ttotal: 966ms\tremaining: 602ms\n",
      "616:\tlearn: 0.0065548\ttotal: 967ms\tremaining: 601ms\n",
      "617:\tlearn: 0.0065548\ttotal: 969ms\tremaining: 599ms\n",
      "618:\tlearn: 0.0065396\ttotal: 970ms\tremaining: 597ms\n",
      "619:\tlearn: 0.0065106\ttotal: 972ms\tremaining: 596ms\n",
      "620:\tlearn: 0.0064961\ttotal: 973ms\tremaining: 594ms\n",
      "621:\tlearn: 0.0064695\ttotal: 975ms\tremaining: 592ms\n",
      "622:\tlearn: 0.0064694\ttotal: 976ms\tremaining: 591ms\n",
      "623:\tlearn: 0.0064453\ttotal: 978ms\tremaining: 589ms\n",
      "624:\tlearn: 0.0064379\ttotal: 980ms\tremaining: 588ms\n",
      "625:\tlearn: 0.0064264\ttotal: 981ms\tremaining: 586ms\n",
      "626:\tlearn: 0.0064086\ttotal: 983ms\tremaining: 585ms\n",
      "627:\tlearn: 0.0063979\ttotal: 985ms\tremaining: 583ms\n",
      "628:\tlearn: 0.0063784\ttotal: 986ms\tremaining: 582ms\n",
      "629:\tlearn: 0.0063519\ttotal: 988ms\tremaining: 580ms\n",
      "630:\tlearn: 0.0063455\ttotal: 989ms\tremaining: 578ms\n",
      "631:\tlearn: 0.0063305\ttotal: 992ms\tremaining: 577ms\n",
      "632:\tlearn: 0.0063153\ttotal: 993ms\tremaining: 576ms\n",
      "633:\tlearn: 0.0062890\ttotal: 995ms\tremaining: 574ms\n",
      "634:\tlearn: 0.0062402\ttotal: 997ms\tremaining: 573ms\n",
      "635:\tlearn: 0.0062256\ttotal: 998ms\tremaining: 571ms\n",
      "636:\tlearn: 0.0062111\ttotal: 1s\tremaining: 570ms\n",
      "637:\tlearn: 0.0061940\ttotal: 1s\tremaining: 568ms\n",
      "638:\tlearn: 0.0061713\ttotal: 1s\tremaining: 567ms\n",
      "639:\tlearn: 0.0061544\ttotal: 1s\tremaining: 566ms\n",
      "640:\tlearn: 0.0061175\ttotal: 1.01s\tremaining: 565ms\n",
      "641:\tlearn: 0.0061093\ttotal: 1.01s\tremaining: 563ms\n",
      "642:\tlearn: 0.0060970\ttotal: 1.01s\tremaining: 562ms\n",
      "643:\tlearn: 0.0060970\ttotal: 1.01s\tremaining: 560ms\n",
      "644:\tlearn: 0.0060774\ttotal: 1.01s\tremaining: 559ms\n",
      "645:\tlearn: 0.0060534\ttotal: 1.02s\tremaining: 557ms\n",
      "646:\tlearn: 0.0060414\ttotal: 1.02s\tremaining: 555ms\n",
      "647:\tlearn: 0.0060296\ttotal: 1.02s\tremaining: 554ms\n",
      "648:\tlearn: 0.0059879\ttotal: 1.02s\tremaining: 552ms\n",
      "649:\tlearn: 0.0059632\ttotal: 1.02s\tremaining: 551ms\n",
      "650:\tlearn: 0.0059505\ttotal: 1.02s\tremaining: 549ms\n",
      "651:\tlearn: 0.0059126\ttotal: 1.03s\tremaining: 548ms\n",
      "652:\tlearn: 0.0058714\ttotal: 1.03s\tremaining: 546ms\n",
      "653:\tlearn: 0.0058714\ttotal: 1.03s\tremaining: 545ms\n",
      "654:\tlearn: 0.0058638\ttotal: 1.03s\tremaining: 543ms\n",
      "655:\tlearn: 0.0058498\ttotal: 1.03s\tremaining: 541ms\n",
      "656:\tlearn: 0.0058309\ttotal: 1.03s\tremaining: 539ms\n",
      "657:\tlearn: 0.0058278\ttotal: 1.03s\tremaining: 538ms\n",
      "658:\tlearn: 0.0058232\ttotal: 1.04s\tremaining: 536ms\n",
      "659:\tlearn: 0.0058152\ttotal: 1.04s\tremaining: 535ms\n",
      "660:\tlearn: 0.0058042\ttotal: 1.04s\tremaining: 534ms\n",
      "661:\tlearn: 0.0057929\ttotal: 1.04s\tremaining: 532ms\n",
      "662:\tlearn: 0.0057795\ttotal: 1.04s\tremaining: 530ms\n",
      "663:\tlearn: 0.0057763\ttotal: 1.04s\tremaining: 529ms\n",
      "664:\tlearn: 0.0057689\ttotal: 1.05s\tremaining: 527ms\n",
      "665:\tlearn: 0.0057617\ttotal: 1.05s\tremaining: 526ms\n",
      "666:\tlearn: 0.0057374\ttotal: 1.05s\tremaining: 524ms\n",
      "667:\tlearn: 0.0057019\ttotal: 1.05s\tremaining: 523ms\n",
      "668:\tlearn: 0.0056983\ttotal: 1.05s\tremaining: 522ms\n",
      "669:\tlearn: 0.0056835\ttotal: 1.06s\tremaining: 520ms\n",
      "670:\tlearn: 0.0056699\ttotal: 1.06s\tremaining: 519ms\n",
      "671:\tlearn: 0.0056635\ttotal: 1.06s\tremaining: 517ms\n",
      "672:\tlearn: 0.0056462\ttotal: 1.06s\tremaining: 515ms\n",
      "673:\tlearn: 0.0056150\ttotal: 1.06s\tremaining: 514ms\n",
      "674:\tlearn: 0.0056028\ttotal: 1.06s\tremaining: 512ms\n",
      "675:\tlearn: 0.0055922\ttotal: 1.06s\tremaining: 511ms\n",
      "676:\tlearn: 0.0055922\ttotal: 1.07s\tremaining: 509ms\n",
      "677:\tlearn: 0.0055558\ttotal: 1.07s\tremaining: 508ms\n",
      "678:\tlearn: 0.0055439\ttotal: 1.07s\tremaining: 506ms\n",
      "679:\tlearn: 0.0055112\ttotal: 1.07s\tremaining: 505ms\n",
      "680:\tlearn: 0.0054788\ttotal: 1.07s\tremaining: 503ms\n",
      "681:\tlearn: 0.0054682\ttotal: 1.08s\tremaining: 502ms\n",
      "682:\tlearn: 0.0054287\ttotal: 1.08s\tremaining: 500ms\n",
      "683:\tlearn: 0.0054252\ttotal: 1.08s\tremaining: 499ms\n",
      "684:\tlearn: 0.0054144\ttotal: 1.08s\tremaining: 497ms\n",
      "685:\tlearn: 0.0054040\ttotal: 1.08s\tremaining: 496ms\n",
      "686:\tlearn: 0.0053939\ttotal: 1.08s\tremaining: 494ms\n",
      "687:\tlearn: 0.0053609\ttotal: 1.09s\tremaining: 493ms\n",
      "688:\tlearn: 0.0053283\ttotal: 1.09s\tremaining: 491ms\n",
      "689:\tlearn: 0.0053233\ttotal: 1.09s\tremaining: 490ms\n",
      "690:\tlearn: 0.0053049\ttotal: 1.09s\tremaining: 488ms\n",
      "691:\tlearn: 0.0052862\ttotal: 1.09s\tremaining: 486ms\n",
      "692:\tlearn: 0.0052521\ttotal: 1.09s\tremaining: 485ms\n",
      "693:\tlearn: 0.0052460\ttotal: 1.09s\tremaining: 483ms\n",
      "694:\tlearn: 0.0052275\ttotal: 1.1s\tremaining: 482ms\n",
      "695:\tlearn: 0.0051968\ttotal: 1.1s\tremaining: 480ms\n",
      "696:\tlearn: 0.0051661\ttotal: 1.1s\tremaining: 479ms\n",
      "697:\tlearn: 0.0051556\ttotal: 1.1s\tremaining: 477ms\n",
      "698:\tlearn: 0.0051509\ttotal: 1.1s\tremaining: 476ms\n",
      "699:\tlearn: 0.0051449\ttotal: 1.11s\tremaining: 474ms\n",
      "700:\tlearn: 0.0051334\ttotal: 1.11s\tremaining: 472ms\n",
      "701:\tlearn: 0.0051181\ttotal: 1.11s\tremaining: 471ms\n",
      "702:\tlearn: 0.0051079\ttotal: 1.11s\tremaining: 469ms\n",
      "703:\tlearn: 0.0050988\ttotal: 1.11s\tremaining: 468ms\n",
      "704:\tlearn: 0.0050774\ttotal: 1.11s\tremaining: 466ms\n",
      "705:\tlearn: 0.0050669\ttotal: 1.12s\tremaining: 465ms\n",
      "706:\tlearn: 0.0050612\ttotal: 1.12s\tremaining: 463ms\n",
      "707:\tlearn: 0.0050513\ttotal: 1.12s\tremaining: 462ms\n",
      "708:\tlearn: 0.0050344\ttotal: 1.12s\tremaining: 460ms\n",
      "709:\tlearn: 0.0050202\ttotal: 1.12s\tremaining: 459ms\n",
      "710:\tlearn: 0.0050090\ttotal: 1.12s\tremaining: 457ms\n",
      "711:\tlearn: 0.0049951\ttotal: 1.13s\tremaining: 455ms\n",
      "712:\tlearn: 0.0049687\ttotal: 1.13s\tremaining: 454ms\n",
      "713:\tlearn: 0.0049429\ttotal: 1.13s\tremaining: 453ms\n",
      "714:\tlearn: 0.0049105\ttotal: 1.13s\tremaining: 451ms\n",
      "715:\tlearn: 0.0049017\ttotal: 1.13s\tremaining: 450ms\n",
      "716:\tlearn: 0.0048966\ttotal: 1.14s\tremaining: 448ms\n",
      "717:\tlearn: 0.0048751\ttotal: 1.14s\tremaining: 447ms\n",
      "718:\tlearn: 0.0048624\ttotal: 1.14s\tremaining: 445ms\n",
      "719:\tlearn: 0.0048571\ttotal: 1.14s\tremaining: 444ms\n",
      "720:\tlearn: 0.0048296\ttotal: 1.14s\tremaining: 442ms\n",
      "721:\tlearn: 0.0048001\ttotal: 1.14s\tremaining: 441ms\n",
      "722:\tlearn: 0.0047951\ttotal: 1.15s\tremaining: 439ms\n",
      "723:\tlearn: 0.0047775\ttotal: 1.15s\tremaining: 438ms\n",
      "724:\tlearn: 0.0047643\ttotal: 1.15s\tremaining: 436ms\n",
      "725:\tlearn: 0.0047512\ttotal: 1.15s\tremaining: 435ms\n",
      "726:\tlearn: 0.0047248\ttotal: 1.15s\tremaining: 433ms\n",
      "727:\tlearn: 0.0047120\ttotal: 1.16s\tremaining: 432ms\n",
      "728:\tlearn: 0.0046840\ttotal: 1.16s\tremaining: 430ms\n",
      "729:\tlearn: 0.0046762\ttotal: 1.16s\tremaining: 429ms\n",
      "730:\tlearn: 0.0046656\ttotal: 1.16s\tremaining: 428ms\n",
      "731:\tlearn: 0.0046569\ttotal: 1.16s\tremaining: 426ms\n",
      "732:\tlearn: 0.0046445\ttotal: 1.17s\tremaining: 425ms\n",
      "733:\tlearn: 0.0046291\ttotal: 1.17s\tremaining: 423ms\n",
      "734:\tlearn: 0.0046021\ttotal: 1.17s\tremaining: 422ms\n",
      "735:\tlearn: 0.0045823\ttotal: 1.17s\tremaining: 420ms\n",
      "736:\tlearn: 0.0045530\ttotal: 1.17s\tremaining: 418ms\n",
      "737:\tlearn: 0.0045272\ttotal: 1.17s\tremaining: 417ms\n",
      "738:\tlearn: 0.0045192\ttotal: 1.18s\tremaining: 416ms\n",
      "739:\tlearn: 0.0045109\ttotal: 1.18s\tremaining: 414ms\n",
      "740:\tlearn: 0.0044963\ttotal: 1.18s\tremaining: 413ms\n",
      "741:\tlearn: 0.0044866\ttotal: 1.18s\tremaining: 411ms\n",
      "742:\tlearn: 0.0044785\ttotal: 1.18s\tremaining: 409ms\n",
      "743:\tlearn: 0.0044552\ttotal: 1.19s\tremaining: 408ms\n",
      "744:\tlearn: 0.0044299\ttotal: 1.19s\tremaining: 406ms\n",
      "745:\tlearn: 0.0044051\ttotal: 1.19s\tremaining: 405ms\n",
      "746:\tlearn: 0.0043857\ttotal: 1.19s\tremaining: 403ms\n",
      "747:\tlearn: 0.0043596\ttotal: 1.19s\tremaining: 402ms\n",
      "748:\tlearn: 0.0043549\ttotal: 1.19s\tremaining: 400ms\n",
      "749:\tlearn: 0.0043471\ttotal: 1.2s\tremaining: 399ms\n",
      "750:\tlearn: 0.0043231\ttotal: 1.2s\tremaining: 397ms\n",
      "751:\tlearn: 0.0043117\ttotal: 1.2s\tremaining: 396ms\n",
      "752:\tlearn: 0.0043041\ttotal: 1.2s\tremaining: 394ms\n",
      "753:\tlearn: 0.0042948\ttotal: 1.2s\tremaining: 392ms\n",
      "754:\tlearn: 0.0042910\ttotal: 1.2s\tremaining: 391ms\n",
      "755:\tlearn: 0.0042678\ttotal: 1.21s\tremaining: 389ms\n",
      "756:\tlearn: 0.0042612\ttotal: 1.21s\tremaining: 388ms\n",
      "757:\tlearn: 0.0042547\ttotal: 1.21s\tremaining: 386ms\n",
      "758:\tlearn: 0.0042438\ttotal: 1.21s\tremaining: 385ms\n",
      "759:\tlearn: 0.0042345\ttotal: 1.21s\tremaining: 383ms\n",
      "760:\tlearn: 0.0042256\ttotal: 1.21s\tremaining: 381ms\n",
      "761:\tlearn: 0.0042123\ttotal: 1.22s\tremaining: 380ms\n",
      "762:\tlearn: 0.0042017\ttotal: 1.22s\tremaining: 378ms\n",
      "763:\tlearn: 0.0041897\ttotal: 1.22s\tremaining: 377ms\n",
      "764:\tlearn: 0.0041821\ttotal: 1.22s\tremaining: 375ms\n",
      "765:\tlearn: 0.0041645\ttotal: 1.22s\tremaining: 373ms\n",
      "766:\tlearn: 0.0041518\ttotal: 1.22s\tremaining: 372ms\n",
      "767:\tlearn: 0.0041310\ttotal: 1.23s\tremaining: 371ms\n",
      "768:\tlearn: 0.0041059\ttotal: 1.23s\tremaining: 369ms\n",
      "769:\tlearn: 0.0040958\ttotal: 1.23s\tremaining: 367ms\n",
      "770:\tlearn: 0.0040858\ttotal: 1.23s\tremaining: 366ms\n",
      "771:\tlearn: 0.0040759\ttotal: 1.23s\tremaining: 364ms\n",
      "772:\tlearn: 0.0040543\ttotal: 1.23s\tremaining: 362ms\n",
      "773:\tlearn: 0.0040462\ttotal: 1.24s\tremaining: 361ms\n",
      "774:\tlearn: 0.0040397\ttotal: 1.24s\tremaining: 359ms\n",
      "775:\tlearn: 0.0040324\ttotal: 1.24s\tremaining: 358ms\n",
      "776:\tlearn: 0.0040106\ttotal: 1.24s\tremaining: 356ms\n",
      "777:\tlearn: 0.0040015\ttotal: 1.24s\tremaining: 354ms\n",
      "778:\tlearn: 0.0039916\ttotal: 1.24s\tremaining: 353ms\n",
      "779:\tlearn: 0.0039721\ttotal: 1.24s\tremaining: 351ms\n",
      "780:\tlearn: 0.0039643\ttotal: 1.25s\tremaining: 349ms\n",
      "781:\tlearn: 0.0039532\ttotal: 1.25s\tremaining: 348ms\n",
      "782:\tlearn: 0.0039369\ttotal: 1.25s\tremaining: 346ms\n",
      "783:\tlearn: 0.0039184\ttotal: 1.25s\tremaining: 344ms\n",
      "784:\tlearn: 0.0039096\ttotal: 1.25s\tremaining: 343ms\n",
      "785:\tlearn: 0.0038942\ttotal: 1.25s\tremaining: 341ms\n",
      "786:\tlearn: 0.0038735\ttotal: 1.25s\tremaining: 339ms\n",
      "787:\tlearn: 0.0038674\ttotal: 1.25s\tremaining: 338ms\n",
      "788:\tlearn: 0.0038598\ttotal: 1.26s\tremaining: 336ms\n",
      "789:\tlearn: 0.0038538\ttotal: 1.26s\tremaining: 334ms\n",
      "790:\tlearn: 0.0038478\ttotal: 1.26s\tremaining: 333ms\n",
      "791:\tlearn: 0.0038373\ttotal: 1.26s\tremaining: 331ms\n",
      "792:\tlearn: 0.0038320\ttotal: 1.26s\tremaining: 329ms\n",
      "793:\tlearn: 0.0038262\ttotal: 1.26s\tremaining: 328ms\n",
      "794:\tlearn: 0.0038063\ttotal: 1.26s\tremaining: 326ms\n",
      "795:\tlearn: 0.0038021\ttotal: 1.27s\tremaining: 325ms\n",
      "796:\tlearn: 0.0037817\ttotal: 1.27s\tremaining: 323ms\n",
      "797:\tlearn: 0.0037625\ttotal: 1.27s\tremaining: 321ms\n",
      "798:\tlearn: 0.0037438\ttotal: 1.27s\tremaining: 320ms\n",
      "799:\tlearn: 0.0037244\ttotal: 1.27s\tremaining: 318ms\n",
      "800:\tlearn: 0.0037140\ttotal: 1.27s\tremaining: 316ms\n",
      "801:\tlearn: 0.0036969\ttotal: 1.27s\tremaining: 315ms\n",
      "802:\tlearn: 0.0036914\ttotal: 1.27s\tremaining: 313ms\n",
      "803:\tlearn: 0.0036810\ttotal: 1.28s\tremaining: 311ms\n",
      "804:\tlearn: 0.0036810\ttotal: 1.28s\tremaining: 309ms\n",
      "805:\tlearn: 0.0036723\ttotal: 1.28s\tremaining: 308ms\n",
      "806:\tlearn: 0.0036674\ttotal: 1.28s\tremaining: 306ms\n",
      "807:\tlearn: 0.0036573\ttotal: 1.28s\tremaining: 305ms\n",
      "808:\tlearn: 0.0036505\ttotal: 1.28s\tremaining: 303ms\n",
      "809:\tlearn: 0.0036462\ttotal: 1.28s\tremaining: 301ms\n",
      "810:\tlearn: 0.0036463\ttotal: 1.28s\tremaining: 300ms\n",
      "811:\tlearn: 0.0036282\ttotal: 1.29s\tremaining: 298ms\n",
      "812:\tlearn: 0.0036228\ttotal: 1.29s\tremaining: 296ms\n",
      "813:\tlearn: 0.0036106\ttotal: 1.29s\tremaining: 295ms\n",
      "814:\tlearn: 0.0035984\ttotal: 1.29s\tremaining: 293ms\n",
      "815:\tlearn: 0.0035807\ttotal: 1.29s\tremaining: 291ms\n",
      "816:\tlearn: 0.0035606\ttotal: 1.29s\tremaining: 289ms\n",
      "817:\tlearn: 0.0035553\ttotal: 1.29s\tremaining: 288ms\n",
      "818:\tlearn: 0.0035501\ttotal: 1.29s\tremaining: 286ms\n",
      "819:\tlearn: 0.0035472\ttotal: 1.3s\tremaining: 285ms\n",
      "820:\tlearn: 0.0035348\ttotal: 1.3s\tremaining: 283ms\n",
      "821:\tlearn: 0.0035293\ttotal: 1.3s\tremaining: 282ms\n",
      "822:\tlearn: 0.0035293\ttotal: 1.3s\tremaining: 280ms\n",
      "823:\tlearn: 0.0035229\ttotal: 1.3s\tremaining: 278ms\n",
      "824:\tlearn: 0.0035178\ttotal: 1.3s\tremaining: 277ms\n",
      "825:\tlearn: 0.0035096\ttotal: 1.3s\tremaining: 275ms\n",
      "826:\tlearn: 0.0034928\ttotal: 1.31s\tremaining: 273ms\n",
      "827:\tlearn: 0.0034772\ttotal: 1.31s\tremaining: 272ms\n",
      "828:\tlearn: 0.0034712\ttotal: 1.31s\tremaining: 270ms\n",
      "829:\tlearn: 0.0034553\ttotal: 1.31s\tremaining: 268ms\n",
      "830:\tlearn: 0.0034478\ttotal: 1.31s\tremaining: 267ms\n",
      "831:\tlearn: 0.0034383\ttotal: 1.31s\tremaining: 265ms\n",
      "832:\tlearn: 0.0034275\ttotal: 1.31s\tremaining: 264ms\n",
      "833:\tlearn: 0.0034196\ttotal: 1.32s\tremaining: 262ms\n",
      "834:\tlearn: 0.0034040\ttotal: 1.32s\tremaining: 260ms\n",
      "835:\tlearn: 0.0033982\ttotal: 1.32s\tremaining: 259ms\n",
      "836:\tlearn: 0.0033867\ttotal: 1.32s\tremaining: 257ms\n",
      "837:\tlearn: 0.0033759\ttotal: 1.32s\tremaining: 256ms\n",
      "838:\tlearn: 0.0033682\ttotal: 1.32s\tremaining: 254ms\n",
      "839:\tlearn: 0.0033531\ttotal: 1.32s\tremaining: 252ms\n",
      "840:\tlearn: 0.0033383\ttotal: 1.33s\tremaining: 251ms\n",
      "841:\tlearn: 0.0033337\ttotal: 1.33s\tremaining: 249ms\n",
      "842:\tlearn: 0.0033270\ttotal: 1.33s\tremaining: 248ms\n",
      "843:\tlearn: 0.0033195\ttotal: 1.33s\tremaining: 246ms\n",
      "844:\tlearn: 0.0033040\ttotal: 1.33s\tremaining: 245ms\n",
      "845:\tlearn: 0.0032946\ttotal: 1.33s\tremaining: 243ms\n",
      "846:\tlearn: 0.0032844\ttotal: 1.34s\tremaining: 241ms\n",
      "847:\tlearn: 0.0032701\ttotal: 1.34s\tremaining: 240ms\n",
      "848:\tlearn: 0.0032646\ttotal: 1.34s\tremaining: 238ms\n",
      "849:\tlearn: 0.0032603\ttotal: 1.34s\tremaining: 237ms\n",
      "850:\tlearn: 0.0032559\ttotal: 1.34s\tremaining: 235ms\n",
      "851:\tlearn: 0.0032467\ttotal: 1.34s\tremaining: 233ms\n",
      "852:\tlearn: 0.0032467\ttotal: 1.34s\tremaining: 232ms\n",
      "853:\tlearn: 0.0032416\ttotal: 1.35s\tremaining: 230ms\n",
      "854:\tlearn: 0.0032354\ttotal: 1.35s\tremaining: 228ms\n",
      "855:\tlearn: 0.0032248\ttotal: 1.35s\tremaining: 227ms\n",
      "856:\tlearn: 0.0032110\ttotal: 1.35s\tremaining: 225ms\n",
      "857:\tlearn: 0.0032039\ttotal: 1.35s\tremaining: 224ms\n",
      "858:\tlearn: 0.0031993\ttotal: 1.35s\tremaining: 222ms\n",
      "859:\tlearn: 0.0031898\ttotal: 1.35s\tremaining: 220ms\n",
      "860:\tlearn: 0.0031874\ttotal: 1.35s\tremaining: 219ms\n",
      "861:\tlearn: 0.0031781\ttotal: 1.35s\tremaining: 217ms\n",
      "862:\tlearn: 0.0031781\ttotal: 1.36s\tremaining: 215ms\n",
      "863:\tlearn: 0.0031691\ttotal: 1.36s\tremaining: 214ms\n",
      "864:\tlearn: 0.0031630\ttotal: 1.36s\tremaining: 213ms\n",
      "865:\tlearn: 0.0031554\ttotal: 1.36s\tremaining: 211ms\n",
      "866:\tlearn: 0.0031472\ttotal: 1.36s\tremaining: 209ms\n",
      "867:\tlearn: 0.0031300\ttotal: 1.37s\tremaining: 208ms\n",
      "868:\tlearn: 0.0031133\ttotal: 1.37s\tremaining: 206ms\n",
      "869:\tlearn: 0.0031047\ttotal: 1.37s\tremaining: 205ms\n",
      "870:\tlearn: 0.0031006\ttotal: 1.37s\tremaining: 203ms\n",
      "871:\tlearn: 0.0030880\ttotal: 1.37s\tremaining: 201ms\n",
      "872:\tlearn: 0.0030862\ttotal: 1.37s\tremaining: 200ms\n",
      "873:\tlearn: 0.0030766\ttotal: 1.37s\tremaining: 198ms\n",
      "874:\tlearn: 0.0030598\ttotal: 1.38s\tremaining: 197ms\n",
      "875:\tlearn: 0.0030442\ttotal: 1.38s\tremaining: 195ms\n",
      "876:\tlearn: 0.0030403\ttotal: 1.38s\tremaining: 193ms\n",
      "877:\tlearn: 0.0030339\ttotal: 1.38s\tremaining: 192ms\n",
      "878:\tlearn: 0.0030323\ttotal: 1.38s\tremaining: 190ms\n",
      "879:\tlearn: 0.0030171\ttotal: 1.38s\tremaining: 189ms\n",
      "880:\tlearn: 0.0030113\ttotal: 1.38s\tremaining: 187ms\n",
      "881:\tlearn: 0.0030037\ttotal: 1.39s\tremaining: 185ms\n",
      "882:\tlearn: 0.0029992\ttotal: 1.39s\tremaining: 184ms\n",
      "883:\tlearn: 0.0029845\ttotal: 1.39s\tremaining: 182ms\n",
      "884:\tlearn: 0.0029790\ttotal: 1.39s\tremaining: 181ms\n",
      "885:\tlearn: 0.0029658\ttotal: 1.39s\tremaining: 179ms\n",
      "886:\tlearn: 0.0029613\ttotal: 1.39s\tremaining: 177ms\n",
      "887:\tlearn: 0.0029499\ttotal: 1.39s\tremaining: 176ms\n",
      "888:\tlearn: 0.0029499\ttotal: 1.4s\tremaining: 174ms\n",
      "889:\tlearn: 0.0029499\ttotal: 1.4s\tremaining: 173ms\n",
      "890:\tlearn: 0.0029392\ttotal: 1.4s\tremaining: 171ms\n",
      "891:\tlearn: 0.0029352\ttotal: 1.4s\tremaining: 169ms\n",
      "892:\tlearn: 0.0029352\ttotal: 1.4s\tremaining: 168ms\n",
      "893:\tlearn: 0.0029317\ttotal: 1.4s\tremaining: 166ms\n",
      "894:\tlearn: 0.0029176\ttotal: 1.4s\tremaining: 164ms\n",
      "895:\tlearn: 0.0029176\ttotal: 1.4s\tremaining: 163ms\n",
      "896:\tlearn: 0.0029098\ttotal: 1.41s\tremaining: 161ms\n",
      "897:\tlearn: 0.0029058\ttotal: 1.41s\tremaining: 160ms\n",
      "898:\tlearn: 0.0028928\ttotal: 1.41s\tremaining: 158ms\n",
      "899:\tlearn: 0.0028804\ttotal: 1.41s\tremaining: 157ms\n",
      "900:\tlearn: 0.0028768\ttotal: 1.41s\tremaining: 155ms\n",
      "901:\tlearn: 0.0028631\ttotal: 1.41s\tremaining: 153ms\n",
      "902:\tlearn: 0.0028587\ttotal: 1.41s\tremaining: 152ms\n",
      "903:\tlearn: 0.0028587\ttotal: 1.41s\tremaining: 150ms\n",
      "904:\tlearn: 0.0028530\ttotal: 1.42s\tremaining: 149ms\n",
      "905:\tlearn: 0.0028497\ttotal: 1.42s\tremaining: 147ms\n",
      "906:\tlearn: 0.0028363\ttotal: 1.42s\tremaining: 145ms\n",
      "907:\tlearn: 0.0028291\ttotal: 1.42s\tremaining: 144ms\n",
      "908:\tlearn: 0.0028257\ttotal: 1.42s\tremaining: 142ms\n",
      "909:\tlearn: 0.0028128\ttotal: 1.42s\tremaining: 141ms\n",
      "910:\tlearn: 0.0027998\ttotal: 1.42s\tremaining: 139ms\n",
      "911:\tlearn: 0.0027960\ttotal: 1.43s\tremaining: 138ms\n",
      "912:\tlearn: 0.0027904\ttotal: 1.43s\tremaining: 136ms\n",
      "913:\tlearn: 0.0027805\ttotal: 1.43s\tremaining: 134ms\n",
      "914:\tlearn: 0.0027736\ttotal: 1.43s\tremaining: 133ms\n",
      "915:\tlearn: 0.0027649\ttotal: 1.43s\tremaining: 131ms\n",
      "916:\tlearn: 0.0027600\ttotal: 1.43s\tremaining: 130ms\n",
      "917:\tlearn: 0.0027540\ttotal: 1.43s\tremaining: 128ms\n",
      "918:\tlearn: 0.0027508\ttotal: 1.43s\tremaining: 126ms\n",
      "919:\tlearn: 0.0027437\ttotal: 1.44s\tremaining: 125ms\n",
      "920:\tlearn: 0.0027406\ttotal: 1.44s\tremaining: 123ms\n",
      "921:\tlearn: 0.0027375\ttotal: 1.44s\tremaining: 122ms\n",
      "922:\tlearn: 0.0027329\ttotal: 1.44s\tremaining: 120ms\n",
      "923:\tlearn: 0.0027261\ttotal: 1.44s\tremaining: 119ms\n",
      "924:\tlearn: 0.0027138\ttotal: 1.44s\tremaining: 117ms\n",
      "925:\tlearn: 0.0027138\ttotal: 1.44s\tremaining: 115ms\n",
      "926:\tlearn: 0.0027110\ttotal: 1.45s\tremaining: 114ms\n",
      "927:\tlearn: 0.0026993\ttotal: 1.45s\tremaining: 112ms\n",
      "928:\tlearn: 0.0026993\ttotal: 1.45s\tremaining: 111ms\n",
      "929:\tlearn: 0.0026924\ttotal: 1.45s\tremaining: 109ms\n",
      "930:\tlearn: 0.0026799\ttotal: 1.45s\tremaining: 108ms\n",
      "931:\tlearn: 0.0026707\ttotal: 1.45s\tremaining: 106ms\n",
      "932:\tlearn: 0.0026591\ttotal: 1.45s\tremaining: 104ms\n",
      "933:\tlearn: 0.0026561\ttotal: 1.45s\tremaining: 103ms\n",
      "934:\tlearn: 0.0026531\ttotal: 1.46s\tremaining: 101ms\n",
      "935:\tlearn: 0.0026480\ttotal: 1.46s\tremaining: 99.6ms\n",
      "936:\tlearn: 0.0026480\ttotal: 1.46s\tremaining: 98ms\n",
      "937:\tlearn: 0.0026422\ttotal: 1.46s\tremaining: 96.5ms\n",
      "938:\tlearn: 0.0026310\ttotal: 1.46s\tremaining: 94.9ms\n",
      "939:\tlearn: 0.0026191\ttotal: 1.46s\tremaining: 93.3ms\n",
      "940:\tlearn: 0.0026153\ttotal: 1.46s\tremaining: 91.7ms\n",
      "941:\tlearn: 0.0026105\ttotal: 1.46s\tremaining: 90.1ms\n",
      "942:\tlearn: 0.0026059\ttotal: 1.47s\tremaining: 88.6ms\n",
      "943:\tlearn: 0.0025941\ttotal: 1.47s\tremaining: 87ms\n",
      "944:\tlearn: 0.0025919\ttotal: 1.47s\tremaining: 85.5ms\n",
      "945:\tlearn: 0.0025890\ttotal: 1.47s\tremaining: 83.9ms\n",
      "946:\tlearn: 0.0025863\ttotal: 1.47s\tremaining: 82.3ms\n",
      "947:\tlearn: 0.0025836\ttotal: 1.47s\tremaining: 80.7ms\n",
      "948:\tlearn: 0.0025795\ttotal: 1.47s\tremaining: 79.2ms\n",
      "949:\tlearn: 0.0025724\ttotal: 1.47s\tremaining: 77.6ms\n",
      "950:\tlearn: 0.0025724\ttotal: 1.48s\tremaining: 76ms\n",
      "951:\tlearn: 0.0025705\ttotal: 1.48s\tremaining: 74.4ms\n",
      "952:\tlearn: 0.0025650\ttotal: 1.48s\tremaining: 72.9ms\n",
      "953:\tlearn: 0.0025589\ttotal: 1.48s\tremaining: 71.3ms\n",
      "954:\tlearn: 0.0025563\ttotal: 1.48s\tremaining: 69.8ms\n",
      "955:\tlearn: 0.0025457\ttotal: 1.48s\tremaining: 68.3ms\n",
      "956:\tlearn: 0.0025398\ttotal: 1.49s\tremaining: 66.7ms\n",
      "957:\tlearn: 0.0025398\ttotal: 1.49s\tremaining: 65.2ms\n",
      "958:\tlearn: 0.0025398\ttotal: 1.49s\tremaining: 63.6ms\n",
      "959:\tlearn: 0.0025362\ttotal: 1.49s\tremaining: 62ms\n",
      "960:\tlearn: 0.0025329\ttotal: 1.49s\tremaining: 60.5ms\n",
      "961:\tlearn: 0.0025261\ttotal: 1.49s\tremaining: 58.9ms\n",
      "962:\tlearn: 0.0025224\ttotal: 1.49s\tremaining: 57.3ms\n",
      "963:\tlearn: 0.0025224\ttotal: 1.49s\tremaining: 55.8ms\n",
      "964:\tlearn: 0.0025160\ttotal: 1.5s\tremaining: 54.2ms\n",
      "965:\tlearn: 0.0025106\ttotal: 1.5s\tremaining: 52.7ms\n",
      "966:\tlearn: 0.0025106\ttotal: 1.5s\tremaining: 51.1ms\n",
      "967:\tlearn: 0.0025081\ttotal: 1.5s\tremaining: 49.5ms\n",
      "968:\tlearn: 0.0025035\ttotal: 1.5s\tremaining: 48ms\n",
      "969:\tlearn: 0.0024973\ttotal: 1.5s\tremaining: 46.4ms\n",
      "970:\tlearn: 0.0024870\ttotal: 1.5s\tremaining: 44.9ms\n",
      "971:\tlearn: 0.0024787\ttotal: 1.5s\tremaining: 43.3ms\n",
      "972:\tlearn: 0.0024686\ttotal: 1.5s\tremaining: 41.8ms\n",
      "973:\tlearn: 0.0024608\ttotal: 1.51s\tremaining: 40.2ms\n",
      "974:\tlearn: 0.0024510\ttotal: 1.51s\tremaining: 38.7ms\n",
      "975:\tlearn: 0.0024425\ttotal: 1.51s\tremaining: 37.2ms\n",
      "976:\tlearn: 0.0024389\ttotal: 1.51s\tremaining: 35.6ms\n",
      "977:\tlearn: 0.0024313\ttotal: 1.51s\tremaining: 34.1ms\n",
      "978:\tlearn: 0.0024295\ttotal: 1.51s\tremaining: 32.5ms\n",
      "979:\tlearn: 0.0024295\ttotal: 1.52s\tremaining: 31ms\n",
      "980:\tlearn: 0.0024273\ttotal: 1.52s\tremaining: 29.4ms\n",
      "981:\tlearn: 0.0024273\ttotal: 1.52s\tremaining: 27.9ms\n",
      "982:\tlearn: 0.0024273\ttotal: 1.52s\tremaining: 26.3ms\n",
      "983:\tlearn: 0.0024185\ttotal: 1.52s\tremaining: 24.8ms\n",
      "984:\tlearn: 0.0024152\ttotal: 1.52s\tremaining: 23.2ms\n",
      "985:\tlearn: 0.0024091\ttotal: 1.53s\tremaining: 21.7ms\n",
      "986:\tlearn: 0.0024091\ttotal: 1.53s\tremaining: 20.1ms\n",
      "987:\tlearn: 0.0024072\ttotal: 1.53s\tremaining: 18.6ms\n",
      "988:\tlearn: 0.0023977\ttotal: 1.53s\tremaining: 17ms\n",
      "989:\tlearn: 0.0023977\ttotal: 1.53s\tremaining: 15.5ms\n",
      "990:\tlearn: 0.0023977\ttotal: 1.53s\tremaining: 13.9ms\n",
      "991:\tlearn: 0.0023977\ttotal: 1.53s\tremaining: 12.4ms\n",
      "992:\tlearn: 0.0023977\ttotal: 1.53s\tremaining: 10.8ms\n",
      "993:\tlearn: 0.0023977\ttotal: 1.53s\tremaining: 9.27ms\n",
      "994:\tlearn: 0.0023977\ttotal: 1.54s\tremaining: 7.72ms\n",
      "995:\tlearn: 0.0023957\ttotal: 1.54s\tremaining: 6.17ms\n",
      "996:\tlearn: 0.0023957\ttotal: 1.54s\tremaining: 4.63ms\n",
      "997:\tlearn: 0.0023957\ttotal: 1.54s\tremaining: 3.08ms\n",
      "998:\tlearn: 0.0023864\ttotal: 1.54s\tremaining: 1.54ms\n",
      "999:\tlearn: 0.0023800\ttotal: 1.54s\tremaining: 0us\n",
      "Acuracia: 98.6%\n"
     ]
    }
   ],
   "source": [
    "clf_cat = CatBoostClassifier()\n",
    "\n",
    "clf_cat.fit(X_train, y_train)\n",
    "\n",
    "predict_cat = clf_cat.predict(X_test)\n",
    "print(f'Acuracia: {accuracy_score(y_test, predict_cat).round(4) * 100}%')"
   ]
  },
  {
   "cell_type": "code",
   "execution_count": 51,
   "id": "a27da08f-c4a5-4c18-89d2-abfc98c6c748",
   "metadata": {},
   "outputs": [
    {
     "name": "stdout",
     "output_type": "stream",
     "text": [
      "              precision    recall  f1-score   support\n",
      "\n",
      "           0       0.99      0.99      0.99       436\n",
      "           1       0.94      0.95      0.95        64\n",
      "\n",
      "    accuracy                           0.99       500\n",
      "   macro avg       0.97      0.97      0.97       500\n",
      "weighted avg       0.99      0.99      0.99       500\n",
      "\n",
      "Acuracia: 98.6%\n"
     ]
    }
   ],
   "source": [
    "print(classification_report(y_test, predict_cat))\n",
    "\n",
    "print(f'Acuracia: {accuracy_score(y_test, predict_cat).round(4) * 100}%')"
   ]
  },
  {
   "cell_type": "code",
   "execution_count": 52,
   "id": "9eea7678-4a08-4adf-9e7d-b13cfe919ecf",
   "metadata": {},
   "outputs": [
    {
     "data": {
      "image/png": "[encoded data removed]",
      "text/plain": [
       "<Figure size 800x300 with 3 Axes>"
      ]
     },
     "metadata": {},
     "output_type": "display_data"
    }
   ],
   "source": [
    "explainer = shap.Explainer(clf_cat)\n",
    "shap_values = explainer(X_train)\n",
    "\n",
    "shap.plots.waterfall(shap_values[0])"
   ]
  },
  {
   "cell_type": "code",
   "execution_count": 53,
   "id": "2a1db4e3",
   "metadata": {},
   "outputs": [
    {
     "data": {
      "image/png": "[encoded data removed]",
      "text/plain": [
       "<Figure size 800x300 with 3 Axes>"
      ]
     },
     "metadata": {},
     "output_type": "display_data"
    }
   ],
   "source": [
    "shap.plots.waterfall(shap_values[0])"
   ]
  },
  {
   "cell_type": "markdown",
   "id": "11fb51a8-16aa-43e5-a552-aa9fb1f05544",
   "metadata": {},
   "source": [
    "# LightGBM"
   ]
  },
  {
   "cell_type": "code",
   "execution_count": 54,
   "id": "8e7441b9-6fe2-4104-ab5c-794093675e88",
   "metadata": {},
   "outputs": [
    {
     "name": "stdout",
     "output_type": "stream",
     "text": [
      "              precision    recall  f1-score   support\n",
      "\n",
      "           0       1.00      0.99      0.99       436\n",
      "           1       0.91      0.97      0.94        64\n",
      "\n",
      "    accuracy                           0.98       500\n",
      "   macro avg       0.95      0.98      0.97       500\n",
      "weighted avg       0.98      0.98      0.98       500\n",
      "\n",
      "Acuracia: 98.4%\n"
     ]
    }
   ],
   "source": [
    "clf_lgbm = LGBMClassifier()\n",
    "\n",
    "clf_lgbm.fit(X_train, y_train)\n",
    "\n",
    "predict_lgbm = clf_lgbm.predict(X_test)\n",
    "\n",
    "print(classification_report(y_test, predict_lgbm))\n",
    "print(f'Acuracia: {accuracy_score(y_test, predict_lgbm).round(4) * 100}%')"
   ]
  }
 ],
 "metadata": {
  "kernelspec": {
   "display_name": "Python 3.9.0 ('.venv': poetry)",
   "language": "python",
   "name": "python3"
  },
  "language_info": {
   "codemirror_mode": {
    "name": "ipython",
    "version": 3
   },
   "file_extension": ".py",
   "mimetype": "text/x-python",
   "name": "python",
   "nbconvert_exporter": "python",
   "pygments_lexer": "ipython3",
   "version": "3.9.0"
  },
  "vscode": {
   "interpreter": {
    "hash": "7da9e41730990d2c1ff31bd041bf15d82149792153d3be8d402b9fe949c33746"
   }
  }
 },
 "nbformat": 4,
 "nbformat_minor": 5
}
