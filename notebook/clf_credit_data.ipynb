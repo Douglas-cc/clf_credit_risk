{
 "cells": [
  {
   "cell_type": "code",
   "execution_count": 1,
   "id": "d3f1acfa-01a7-48f8-9b94-c2a83c1a1410",
   "metadata": {},
   "outputs": [],
   "source": [
    "import warnings\n",
    "warnings.filterwarnings(\"ignore\")\n",
    "\n",
    "from joblib import dump\n",
    "\n",
    "import numpy as np \n",
    "import pandas as pd \n",
    "\n",
    "import shap\n",
    "import seaborn as sns \n",
    "import matplotlib.pyplot as plt\n",
    "import plotly.express as px\n",
    "from yellowbrick.classifier import ConfusionMatrix\n",
    "\n",
    "\n",
    "from imblearn.over_sampling import SMOTE \n",
    "from sklearn.model_selection import train_test_split\n",
    "\n",
    "from sklearn.svm import SVC\n",
    "from xgboost import  XGBClassifier\n",
    "from lightgbm import LGBMClassifier\n",
    "from catboost import CatBoostClassifier\n",
    "from sklearn.naive_bayes import GaussianNB\n",
    "from sklearn.ensemble import RandomForestClassifier\n",
    "from sklearn.tree import DecisionTreeClassifier, plot_tree\n",
    "from sklearn.neighbors import KNeighborsClassifier\n",
    "from sklearn.linear_model import LogisticRegression\n",
    "\n",
    "from sklearn.metrics import (\n",
    "    confusion_matrix,\n",
    "    accuracy_score,\n",
    "    classification_report\n",
    ")"
   ]
  },
  {
   "cell_type": "markdown",
   "id": "c37d3d60-9544-44ed-bb73-c6935b467e18",
   "metadata": {},
   "source": [
    "# Import data Risc Credit "
   ]
  },
  {
   "cell_type": "code",
   "execution_count": 2,
   "id": "91bc2d8e-6010-4db8-8418-92b81947d708",
   "metadata": {},
   "outputs": [
    {
     "data": {
      "text/html": [
       "<div>\n",
       "<style scoped>\n",
       "    .dataframe tbody tr th:only-of-type {\n",
       "        vertical-align: middle;\n",
       "    }\n",
       "\n",
       "    .dataframe tbody tr th {\n",
       "        vertical-align: top;\n",
       "    }\n",
       "\n",
       "    .dataframe thead th {\n",
       "        text-align: right;\n",
       "    }\n",
       "</style>\n",
       "<table border=\"1\" class=\"dataframe\">\n",
       "  <thead>\n",
       "    <tr style=\"text-align: right;\">\n",
       "      <th></th>\n",
       "      <th>i#clientid</th>\n",
       "      <th>income</th>\n",
       "      <th>age</th>\n",
       "      <th>loan</th>\n",
       "      <th>c#default</th>\n",
       "    </tr>\n",
       "  </thead>\n",
       "  <tbody>\n",
       "    <tr>\n",
       "      <th>0</th>\n",
       "      <td>1</td>\n",
       "      <td>66155.925095</td>\n",
       "      <td>59.017015</td>\n",
       "      <td>8106.532131</td>\n",
       "      <td>0</td>\n",
       "    </tr>\n",
       "    <tr>\n",
       "      <th>1</th>\n",
       "      <td>2</td>\n",
       "      <td>34415.153966</td>\n",
       "      <td>48.117153</td>\n",
       "      <td>6564.745018</td>\n",
       "      <td>0</td>\n",
       "    </tr>\n",
       "    <tr>\n",
       "      <th>2</th>\n",
       "      <td>3</td>\n",
       "      <td>57317.170063</td>\n",
       "      <td>63.108049</td>\n",
       "      <td>8020.953296</td>\n",
       "      <td>0</td>\n",
       "    </tr>\n",
       "    <tr>\n",
       "      <th>3</th>\n",
       "      <td>4</td>\n",
       "      <td>42709.534201</td>\n",
       "      <td>45.751972</td>\n",
       "      <td>6103.642260</td>\n",
       "      <td>0</td>\n",
       "    </tr>\n",
       "    <tr>\n",
       "      <th>4</th>\n",
       "      <td>5</td>\n",
       "      <td>66952.688845</td>\n",
       "      <td>18.584336</td>\n",
       "      <td>8770.099235</td>\n",
       "      <td>1</td>\n",
       "    </tr>\n",
       "  </tbody>\n",
       "</table>\n",
       "</div>"
      ],
      "text/plain": [
       "   i#clientid        income        age         loan  c#default\n",
       "0           1  66155.925095  59.017015  8106.532131          0\n",
       "1           2  34415.153966  48.117153  6564.745018          0\n",
       "2           3  57317.170063  63.108049  8020.953296          0\n",
       "3           4  42709.534201  45.751972  6103.642260          0\n",
       "4           5  66952.688845  18.584336  8770.099235          1"
      ]
     },
     "execution_count": 2,
     "metadata": {},
     "output_type": "execute_result"
    }
   ],
   "source": [
    "df = pd.read_csv('credit_data.csv')\n",
    "df.head(5)"
   ]
  },
  {
   "cell_type": "markdown",
   "id": "d3f02ae5-b041-4994-9f6e-86a9f6e24917",
   "metadata": {},
   "source": [
    "# Sobre os dados \n",
    "- i#clientid\t- id do cliente\n",
    "- income - renda \n",
    "- age - idade \n",
    "- loan - empréstimo\n",
    "- c#default - target aprova ou não credit para o cliente"
   ]
  },
  {
   "cell_type": "code",
   "execution_count": 3,
   "id": "a5fb95d2-ba5c-48d6-b872-8b0376c03675",
   "metadata": {},
   "outputs": [
    {
     "data": {
      "text/html": [
       "<div>\n",
       "<style scoped>\n",
       "    .dataframe tbody tr th:only-of-type {\n",
       "        vertical-align: middle;\n",
       "    }\n",
       "\n",
       "    .dataframe tbody tr th {\n",
       "        vertical-align: top;\n",
       "    }\n",
       "\n",
       "    .dataframe thead th {\n",
       "        text-align: right;\n",
       "    }\n",
       "</style>\n",
       "<table border=\"1\" class=\"dataframe\">\n",
       "  <thead>\n",
       "    <tr style=\"text-align: right;\">\n",
       "      <th></th>\n",
       "      <th>i#clientid</th>\n",
       "      <th>income</th>\n",
       "      <th>age</th>\n",
       "      <th>loan</th>\n",
       "      <th>c#default</th>\n",
       "    </tr>\n",
       "  </thead>\n",
       "  <tbody>\n",
       "    <tr>\n",
       "      <th>count</th>\n",
       "      <td>2000.000000</td>\n",
       "      <td>2000.000000</td>\n",
       "      <td>1997.000000</td>\n",
       "      <td>2000.000000</td>\n",
       "      <td>2000.000000</td>\n",
       "    </tr>\n",
       "    <tr>\n",
       "      <th>mean</th>\n",
       "      <td>1000.500000</td>\n",
       "      <td>45331.600018</td>\n",
       "      <td>40.807559</td>\n",
       "      <td>4444.369695</td>\n",
       "      <td>0.141500</td>\n",
       "    </tr>\n",
       "    <tr>\n",
       "      <th>std</th>\n",
       "      <td>577.494589</td>\n",
       "      <td>14326.327119</td>\n",
       "      <td>13.624469</td>\n",
       "      <td>3045.410024</td>\n",
       "      <td>0.348624</td>\n",
       "    </tr>\n",
       "    <tr>\n",
       "      <th>min</th>\n",
       "      <td>1.000000</td>\n",
       "      <td>20014.489470</td>\n",
       "      <td>-52.423280</td>\n",
       "      <td>1.377630</td>\n",
       "      <td>0.000000</td>\n",
       "    </tr>\n",
       "    <tr>\n",
       "      <th>25%</th>\n",
       "      <td>500.750000</td>\n",
       "      <td>32796.459717</td>\n",
       "      <td>28.990415</td>\n",
       "      <td>1939.708847</td>\n",
       "      <td>0.000000</td>\n",
       "    </tr>\n",
       "    <tr>\n",
       "      <th>50%</th>\n",
       "      <td>1000.500000</td>\n",
       "      <td>45789.117313</td>\n",
       "      <td>41.317159</td>\n",
       "      <td>3974.719419</td>\n",
       "      <td>0.000000</td>\n",
       "    </tr>\n",
       "    <tr>\n",
       "      <th>75%</th>\n",
       "      <td>1500.250000</td>\n",
       "      <td>57791.281668</td>\n",
       "      <td>52.587040</td>\n",
       "      <td>6432.410625</td>\n",
       "      <td>0.000000</td>\n",
       "    </tr>\n",
       "    <tr>\n",
       "      <th>max</th>\n",
       "      <td>2000.000000</td>\n",
       "      <td>69995.685578</td>\n",
       "      <td>63.971796</td>\n",
       "      <td>13766.051239</td>\n",
       "      <td>1.000000</td>\n",
       "    </tr>\n",
       "  </tbody>\n",
       "</table>\n",
       "</div>"
      ],
      "text/plain": [
       "        i#clientid        income          age          loan    c#default\n",
       "count  2000.000000   2000.000000  1997.000000   2000.000000  2000.000000\n",
       "mean   1000.500000  45331.600018    40.807559   4444.369695     0.141500\n",
       "std     577.494589  14326.327119    13.624469   3045.410024     0.348624\n",
       "min       1.000000  20014.489470   -52.423280      1.377630     0.000000\n",
       "25%     500.750000  32796.459717    28.990415   1939.708847     0.000000\n",
       "50%    1000.500000  45789.117313    41.317159   3974.719419     0.000000\n",
       "75%    1500.250000  57791.281668    52.587040   6432.410625     0.000000\n",
       "max    2000.000000  69995.685578    63.971796  13766.051239     1.000000"
      ]
     },
     "execution_count": 3,
     "metadata": {},
     "output_type": "execute_result"
    }
   ],
   "source": [
    "df.describe()  # caracteristicas estatisticas"
   ]
  },
  {
   "cell_type": "code",
   "execution_count": 4,
   "id": "7c5a4498-3e38-4710-a24e-2f150c59da13",
   "metadata": {},
   "outputs": [
    {
     "data": {
      "text/html": [
       "<div>\n",
       "<style scoped>\n",
       "    .dataframe tbody tr th:only-of-type {\n",
       "        vertical-align: middle;\n",
       "    }\n",
       "\n",
       "    .dataframe tbody tr th {\n",
       "        vertical-align: top;\n",
       "    }\n",
       "\n",
       "    .dataframe thead th {\n",
       "        text-align: right;\n",
       "    }\n",
       "</style>\n",
       "<table border=\"1\" class=\"dataframe\">\n",
       "  <thead>\n",
       "    <tr style=\"text-align: right;\">\n",
       "      <th></th>\n",
       "      <th>i#clientid</th>\n",
       "      <th>income</th>\n",
       "      <th>age</th>\n",
       "      <th>loan</th>\n",
       "      <th>c#default</th>\n",
       "    </tr>\n",
       "  </thead>\n",
       "  <tbody>\n",
       "    <tr>\n",
       "      <th>865</th>\n",
       "      <td>866</td>\n",
       "      <td>28072.604355</td>\n",
       "      <td>54.142548</td>\n",
       "      <td>1.37763</td>\n",
       "      <td>0</td>\n",
       "    </tr>\n",
       "  </tbody>\n",
       "</table>\n",
       "</div>"
      ],
      "text/plain": [
       "     i#clientid        income        age     loan  c#default\n",
       "865         866  28072.604355  54.142548  1.37763          0"
      ]
     },
     "execution_count": 4,
     "metadata": {},
     "output_type": "execute_result"
    }
   ],
   "source": [
    "df[df['loan'] <= 1.377630] # pegando cliente com emprestimo menor ou igual 1.377630 "
   ]
  },
  {
   "cell_type": "code",
   "execution_count": 5,
   "id": "bfd1f576-d772-41c9-95ea-fdab41376bce",
   "metadata": {},
   "outputs": [
    {
     "data": {
      "text/html": [
       "<div>\n",
       "<style scoped>\n",
       "    .dataframe tbody tr th:only-of-type {\n",
       "        vertical-align: middle;\n",
       "    }\n",
       "\n",
       "    .dataframe tbody tr th {\n",
       "        vertical-align: top;\n",
       "    }\n",
       "\n",
       "    .dataframe thead th {\n",
       "        text-align: right;\n",
       "    }\n",
       "</style>\n",
       "<table border=\"1\" class=\"dataframe\">\n",
       "  <thead>\n",
       "    <tr style=\"text-align: right;\">\n",
       "      <th></th>\n",
       "      <th>i#clientid</th>\n",
       "      <th>income</th>\n",
       "      <th>age</th>\n",
       "      <th>loan</th>\n",
       "      <th>c#default</th>\n",
       "    </tr>\n",
       "  </thead>\n",
       "  <tbody>\n",
       "    <tr>\n",
       "      <th>422</th>\n",
       "      <td>423</td>\n",
       "      <td>69995.685578</td>\n",
       "      <td>52.719673</td>\n",
       "      <td>2084.370861</td>\n",
       "      <td>0</td>\n",
       "    </tr>\n",
       "  </tbody>\n",
       "</table>\n",
       "</div>"
      ],
      "text/plain": [
       "     i#clientid        income        age         loan  c#default\n",
       "422         423  69995.685578  52.719673  2084.370861          0"
      ]
     },
     "execution_count": 5,
     "metadata": {},
     "output_type": "execute_result"
    }
   ],
   "source": [
    "df[df['income'] >= 69995.685578] # pegando cliente com renda maior ou igual 69995.685578"
   ]
  },
  {
   "cell_type": "markdown",
   "id": "4416acbd-b71c-45e6-a5e9-c0df0e90c97e",
   "metadata": {},
   "source": [
    "# Visualização de dados "
   ]
  },
  {
   "cell_type": "markdown",
   "id": "134379e7-c578-4921-ac35-674f180ad66f",
   "metadata": {},
   "source": [
    "- 1. Para Age"
   ]
  },
  {
   "cell_type": "code",
   "execution_count": 6,
   "id": "082dced2-2a6b-4fac-9468-d2a21be1c8b1",
   "metadata": {},
   "outputs": [
    {
     "data": {
      "text/plain": [
       "<AxesSubplot:xlabel='age', ylabel='Density'>"
      ]
     },
     "execution_count": 6,
     "metadata": {},
     "output_type": "execute_result"
    },
    {
     "data": {
      "image/png": "[encoded data removed]",
      "text/plain": [
       "<Figure size 576x396 with 1 Axes>"
      ]
     },
     "metadata": {},
     "output_type": "display_data"
    }
   ],
   "source": [
    "sns.distplot(df.age)"
   ]
  },
  {
   "cell_type": "markdown",
   "id": "fae9dd98-f118-478a-b135-04aabe2c1531",
   "metadata": {},
   "source": [
    "- 2. Para income"
   ]
  },
  {
   "cell_type": "code",
   "execution_count": 7,
   "id": "bd817e69-c042-4516-aed5-300c672f3aab",
   "metadata": {},
   "outputs": [
    {
     "data": {
      "text/plain": [
       "<AxesSubplot:xlabel='income', ylabel='Density'>"
      ]
     },
     "execution_count": 7,
     "metadata": {},
     "output_type": "execute_result"
    },
    {
     "data": {
      "image/png": "[encoded data removed]",
      "text/plain": [
       "<Figure size 576x396 with 1 Axes>"
      ]
     },
     "metadata": {},
     "output_type": "display_data"
    }
   ],
   "source": [
    "sns.distplot(df.income)\n"
   ]
  },
  {
   "cell_type": "markdown",
   "id": "8fdbc1e5-1bcb-425e-954c-eacfa4dc5fea",
   "metadata": {},
   "source": [
    "- 3. Para Loan"
   ]
  },
  {
   "cell_type": "code",
   "execution_count": 8,
   "id": "74ce0de2-c2bf-436e-9192-ae575e88a61b",
   "metadata": {},
   "outputs": [
    {
     "data": {
      "text/plain": [
       "<AxesSubplot:xlabel='loan', ylabel='Density'>"
      ]
     },
     "execution_count": 8,
     "metadata": {},
     "output_type": "execute_result"
    },
    {
     "data": {
      "image/png": "[encoded data removed]",
      "text/plain": [
       "<Figure size 576x396 with 1 Axes>"
      ]
     },
     "metadata": {},
     "output_type": "display_data"
    }
   ],
   "source": [
    "sns.distplot(df.loan)"
   ]
  },
  {
   "cell_type": "markdown",
   "id": "716668fb-9edb-484a-8a93-f437baed5c83",
   "metadata": {},
   "source": [
    "# Pré - Processamento"
   ]
  },
  {
   "cell_type": "markdown",
   "id": "31c95b92-b2ea-4840-b1d7-60c9cbc2bfdd",
   "metadata": {},
   "source": [
    " - 1. Inconsistência de dados"
   ]
  },
  {
   "cell_type": "code",
   "execution_count": 9,
   "id": "7b0e5a78-d468-4972-a981-0f7ae1d710fd",
   "metadata": {},
   "outputs": [
    {
     "data": {
      "text/html": [
       "<div>\n",
       "<style scoped>\n",
       "    .dataframe tbody tr th:only-of-type {\n",
       "        vertical-align: middle;\n",
       "    }\n",
       "\n",
       "    .dataframe tbody tr th {\n",
       "        vertical-align: top;\n",
       "    }\n",
       "\n",
       "    .dataframe thead th {\n",
       "        text-align: right;\n",
       "    }\n",
       "</style>\n",
       "<table border=\"1\" class=\"dataframe\">\n",
       "  <thead>\n",
       "    <tr style=\"text-align: right;\">\n",
       "      <th></th>\n",
       "      <th>i#clientid</th>\n",
       "      <th>income</th>\n",
       "      <th>age</th>\n",
       "      <th>loan</th>\n",
       "      <th>c#default</th>\n",
       "    </tr>\n",
       "  </thead>\n",
       "  <tbody>\n",
       "    <tr>\n",
       "      <th>15</th>\n",
       "      <td>16</td>\n",
       "      <td>50501.726689</td>\n",
       "      <td>-28.218361</td>\n",
       "      <td>3977.287432</td>\n",
       "      <td>0</td>\n",
       "    </tr>\n",
       "    <tr>\n",
       "      <th>21</th>\n",
       "      <td>22</td>\n",
       "      <td>32197.620701</td>\n",
       "      <td>-52.423280</td>\n",
       "      <td>4244.057136</td>\n",
       "      <td>0</td>\n",
       "    </tr>\n",
       "    <tr>\n",
       "      <th>26</th>\n",
       "      <td>27</td>\n",
       "      <td>63287.038908</td>\n",
       "      <td>-36.496976</td>\n",
       "      <td>9595.286289</td>\n",
       "      <td>0</td>\n",
       "    </tr>\n",
       "  </tbody>\n",
       "</table>\n",
       "</div>"
      ],
      "text/plain": [
       "    i#clientid        income        age         loan  c#default\n",
       "15          16  50501.726689 -28.218361  3977.287432          0\n",
       "21          22  32197.620701 -52.423280  4244.057136          0\n",
       "26          27  63287.038908 -36.496976  9595.286289          0"
      ]
     },
     "execution_count": 9,
     "metadata": {},
     "output_type": "execute_result"
    }
   ],
   "source": [
    "# vamos verificar os registros de idade menor que zero \n",
    "df.loc[df['age'] < 0] "
   ]
  },
  {
   "cell_type": "code",
   "execution_count": 10,
   "id": "40b9a48b-8a70-426f-8180-e292e9860c07",
   "metadata": {},
   "outputs": [],
   "source": [
    "# Agora vamos converter de valor neagtivo para positivo\n",
    "df.loc[df['age'] < 0] = abs(df.loc[df['age'] < 0])"
   ]
  },
  {
   "cell_type": "code",
   "execution_count": 11,
   "id": "8a0243a7-c6f7-424f-9863-a453391a0b0f",
   "metadata": {},
   "outputs": [
    {
     "data": {
      "text/html": [
       "<div>\n",
       "<style scoped>\n",
       "    .dataframe tbody tr th:only-of-type {\n",
       "        vertical-align: middle;\n",
       "    }\n",
       "\n",
       "    .dataframe tbody tr th {\n",
       "        vertical-align: top;\n",
       "    }\n",
       "\n",
       "    .dataframe thead th {\n",
       "        text-align: right;\n",
       "    }\n",
       "</style>\n",
       "<table border=\"1\" class=\"dataframe\">\n",
       "  <thead>\n",
       "    <tr style=\"text-align: right;\">\n",
       "      <th></th>\n",
       "      <th>i#clientid</th>\n",
       "      <th>income</th>\n",
       "      <th>age</th>\n",
       "      <th>loan</th>\n",
       "      <th>c#default</th>\n",
       "    </tr>\n",
       "  </thead>\n",
       "  <tbody>\n",
       "    <tr>\n",
       "      <th>15</th>\n",
       "      <td>16</td>\n",
       "      <td>50501.726689</td>\n",
       "      <td>28.218361</td>\n",
       "      <td>3977.287432</td>\n",
       "      <td>0</td>\n",
       "    </tr>\n",
       "    <tr>\n",
       "      <th>21</th>\n",
       "      <td>22</td>\n",
       "      <td>32197.620701</td>\n",
       "      <td>52.423280</td>\n",
       "      <td>4244.057136</td>\n",
       "      <td>0</td>\n",
       "    </tr>\n",
       "    <tr>\n",
       "      <th>26</th>\n",
       "      <td>27</td>\n",
       "      <td>63287.038908</td>\n",
       "      <td>36.496976</td>\n",
       "      <td>9595.286289</td>\n",
       "      <td>0</td>\n",
       "    </tr>\n",
       "  </tbody>\n",
       "</table>\n",
       "</div>"
      ],
      "text/plain": [
       "    i#clientid        income        age         loan  c#default\n",
       "15          16  50501.726689  28.218361  3977.287432          0\n",
       "21          22  32197.620701  52.423280  4244.057136          0\n",
       "26          27  63287.038908  36.496976  9595.286289          0"
      ]
     },
     "execution_count": 11,
     "metadata": {},
     "output_type": "execute_result"
    }
   ],
   "source": [
    "# Veja que não há mais pessoas com idade negativa\n",
    "df.loc[df['i#clientid'].isin([16, 22, 27])]"
   ]
  },
  {
   "cell_type": "markdown",
   "id": "b41ddbba-3eb1-4ff0-b50f-9d92dd625bcf",
   "metadata": {},
   "source": [
    "- 2. Dados Faltantes"
   ]
  },
  {
   "cell_type": "code",
   "execution_count": 12,
   "id": "14445c41-38f5-4f86-a1e1-18cd5293c37f",
   "metadata": {},
   "outputs": [
    {
     "data": {
      "text/plain": [
       "i#clientid    0\n",
       "income        0\n",
       "age           3\n",
       "loan          0\n",
       "c#default     0\n",
       "dtype: int64"
      ]
     },
     "execution_count": 12,
     "metadata": {},
     "output_type": "execute_result"
    }
   ],
   "source": [
    "df.isnull().sum()"
   ]
  },
  {
   "cell_type": "code",
   "execution_count": 13,
   "id": "d403b7be-b5ce-4097-98b9-873a1dd8ee4f",
   "metadata": {},
   "outputs": [
    {
     "data": {
      "text/html": [
       "<div>\n",
       "<style scoped>\n",
       "    .dataframe tbody tr th:only-of-type {\n",
       "        vertical-align: middle;\n",
       "    }\n",
       "\n",
       "    .dataframe tbody tr th {\n",
       "        vertical-align: top;\n",
       "    }\n",
       "\n",
       "    .dataframe thead th {\n",
       "        text-align: right;\n",
       "    }\n",
       "</style>\n",
       "<table border=\"1\" class=\"dataframe\">\n",
       "  <thead>\n",
       "    <tr style=\"text-align: right;\">\n",
       "      <th></th>\n",
       "      <th>i#clientid</th>\n",
       "      <th>income</th>\n",
       "      <th>age</th>\n",
       "      <th>loan</th>\n",
       "      <th>c#default</th>\n",
       "    </tr>\n",
       "  </thead>\n",
       "  <tbody>\n",
       "    <tr>\n",
       "      <th>28</th>\n",
       "      <td>29</td>\n",
       "      <td>59417.805406</td>\n",
       "      <td>NaN</td>\n",
       "      <td>2082.625938</td>\n",
       "      <td>0</td>\n",
       "    </tr>\n",
       "    <tr>\n",
       "      <th>30</th>\n",
       "      <td>31</td>\n",
       "      <td>48528.852796</td>\n",
       "      <td>NaN</td>\n",
       "      <td>6155.784670</td>\n",
       "      <td>0</td>\n",
       "    </tr>\n",
       "    <tr>\n",
       "      <th>31</th>\n",
       "      <td>32</td>\n",
       "      <td>23526.302555</td>\n",
       "      <td>NaN</td>\n",
       "      <td>2862.010139</td>\n",
       "      <td>0</td>\n",
       "    </tr>\n",
       "  </tbody>\n",
       "</table>\n",
       "</div>"
      ],
      "text/plain": [
       "    i#clientid        income  age         loan  c#default\n",
       "28          29  59417.805406  NaN  2082.625938          0\n",
       "30          31  48528.852796  NaN  6155.784670          0\n",
       "31          32  23526.302555  NaN  2862.010139          0"
      ]
     },
     "execution_count": 13,
     "metadata": {},
     "output_type": "execute_result"
    }
   ],
   "source": [
    "# verificando quais são os registros\n",
    "df.loc[pd.isnull(df['age'])]  "
   ]
  },
  {
   "cell_type": "code",
   "execution_count": 14,
   "id": "58ea849f-d07f-4ad9-b02a-c727d4404bd2",
   "metadata": {},
   "outputs": [],
   "source": [
    "# Preenchendo os dados faltantes pela media\n",
    "df['age'].fillna(df['age'].mean(), inplace = True)"
   ]
  },
  {
   "cell_type": "code",
   "execution_count": 15,
   "id": "8471f579-da3b-49e3-a555-8f2b0e651b92",
   "metadata": {},
   "outputs": [
    {
     "data": {
      "text/html": [
       "<div>\n",
       "<style scoped>\n",
       "    .dataframe tbody tr th:only-of-type {\n",
       "        vertical-align: middle;\n",
       "    }\n",
       "\n",
       "    .dataframe tbody tr th {\n",
       "        vertical-align: top;\n",
       "    }\n",
       "\n",
       "    .dataframe thead th {\n",
       "        text-align: right;\n",
       "    }\n",
       "</style>\n",
       "<table border=\"1\" class=\"dataframe\">\n",
       "  <thead>\n",
       "    <tr style=\"text-align: right;\">\n",
       "      <th></th>\n",
       "      <th>i#clientid</th>\n",
       "      <th>income</th>\n",
       "      <th>age</th>\n",
       "      <th>loan</th>\n",
       "      <th>c#default</th>\n",
       "    </tr>\n",
       "  </thead>\n",
       "  <tbody>\n",
       "    <tr>\n",
       "      <th>28</th>\n",
       "      <td>29</td>\n",
       "      <td>59417.805406</td>\n",
       "      <td>40.924874</td>\n",
       "      <td>2082.625938</td>\n",
       "      <td>0</td>\n",
       "    </tr>\n",
       "    <tr>\n",
       "      <th>30</th>\n",
       "      <td>31</td>\n",
       "      <td>48528.852796</td>\n",
       "      <td>40.924874</td>\n",
       "      <td>6155.784670</td>\n",
       "      <td>0</td>\n",
       "    </tr>\n",
       "    <tr>\n",
       "      <th>31</th>\n",
       "      <td>32</td>\n",
       "      <td>23526.302555</td>\n",
       "      <td>40.924874</td>\n",
       "      <td>2862.010139</td>\n",
       "      <td>0</td>\n",
       "    </tr>\n",
       "  </tbody>\n",
       "</table>\n",
       "</div>"
      ],
      "text/plain": [
       "    i#clientid        income        age         loan  c#default\n",
       "28          29  59417.805406  40.924874  2082.625938          0\n",
       "30          31  48528.852796  40.924874  6155.784670          0\n",
       "31          32  23526.302555  40.924874  2862.010139          0"
      ]
     },
     "execution_count": 15,
     "metadata": {},
     "output_type": "execute_result"
    }
   ],
   "source": [
    "# verificar os campos anteriores\n",
    "df.loc[df['i#clientid'].isin([29, 31, 32])]"
   ]
  },
  {
   "cell_type": "markdown",
   "id": "1cd4e5f8-d758-4823-af05-1bdea0647e00",
   "metadata": {},
   "source": [
    "# Verificando como esta as nossas classes no target"
   ]
  },
  {
   "cell_type": "markdown",
   "id": "750069c5-cb82-495d-9e5d-fb85a2d3ad61",
   "metadata": {},
   "source": [
    " Percebe-se que nossas classes estão desbalanceadas, mas a frente vamos contornar esta situação, \n",
    " mas antes iremos separar as features classificadoras do target que contem as nossas classes, valores de X e y"
   ]
  },
  {
   "cell_type": "code",
   "execution_count": 16,
   "id": "bf85e8cf-965f-4b7a-b104-56de287bf0ee",
   "metadata": {},
   "outputs": [
    {
     "name": "stdout",
     "output_type": "stream",
     "text": [
      "(array([0, 1]), array([1717,  283]))\n"
     ]
    },
    {
     "data": {
      "text/plain": [
       "<AxesSubplot:xlabel='c#default', ylabel='count'>"
      ]
     },
     "execution_count": 16,
     "metadata": {},
     "output_type": "execute_result"
    },
    {
     "data": {
      "image/png": "[encoded data removed]",
      "text/plain": [
       "<Figure size 576x396 with 1 Axes>"
      ]
     },
     "metadata": {},
     "output_type": "display_data"
    }
   ],
   "source": [
    "print(np.unique(df['c#default'], return_counts=True)) \n",
    "\n",
    "sns.countplot(x = df['c#default'])"
   ]
  },
  {
   "cell_type": "markdown",
   "id": "de98cc4f-3dde-4d67-b865-2be44a959cb3",
   "metadata": {},
   "source": [
    "# Definindo features Classificadoras e as Classes"
   ]
  },
  {
   "cell_type": "code",
   "execution_count": 17,
   "id": "f98f6cf2-0738-482b-8271-af9930f211fb",
   "metadata": {},
   "outputs": [],
   "source": [
    "X = df.drop(columns=['i#clientid', 'c#default'], axis=1)\n",
    "y = df['c#default']"
   ]
  },
  {
   "cell_type": "code",
   "execution_count": 18,
   "id": "ceee8f12-d65d-42b2-ae67-1d60c554f1dc",
   "metadata": {},
   "outputs": [
    {
     "data": {
      "text/html": [
       "<div>\n",
       "<style scoped>\n",
       "    .dataframe tbody tr th:only-of-type {\n",
       "        vertical-align: middle;\n",
       "    }\n",
       "\n",
       "    .dataframe tbody tr th {\n",
       "        vertical-align: top;\n",
       "    }\n",
       "\n",
       "    .dataframe thead th {\n",
       "        text-align: right;\n",
       "    }\n",
       "</style>\n",
       "<table border=\"1\" class=\"dataframe\">\n",
       "  <thead>\n",
       "    <tr style=\"text-align: right;\">\n",
       "      <th></th>\n",
       "      <th>income</th>\n",
       "      <th>age</th>\n",
       "      <th>loan</th>\n",
       "    </tr>\n",
       "  </thead>\n",
       "  <tbody>\n",
       "    <tr>\n",
       "      <th>count</th>\n",
       "      <td>2000.000000</td>\n",
       "      <td>2000.000000</td>\n",
       "      <td>2000.000000</td>\n",
       "    </tr>\n",
       "    <tr>\n",
       "      <th>mean</th>\n",
       "      <td>45331.600018</td>\n",
       "      <td>40.924874</td>\n",
       "      <td>4444.369695</td>\n",
       "    </tr>\n",
       "    <tr>\n",
       "      <th>std</th>\n",
       "      <td>14326.327119</td>\n",
       "      <td>13.257782</td>\n",
       "      <td>3045.410024</td>\n",
       "    </tr>\n",
       "    <tr>\n",
       "      <th>min</th>\n",
       "      <td>20014.489470</td>\n",
       "      <td>18.055189</td>\n",
       "      <td>1.377630</td>\n",
       "    </tr>\n",
       "    <tr>\n",
       "      <th>25%</th>\n",
       "      <td>32796.459717</td>\n",
       "      <td>29.062492</td>\n",
       "      <td>1939.708847</td>\n",
       "    </tr>\n",
       "    <tr>\n",
       "      <th>50%</th>\n",
       "      <td>45789.117313</td>\n",
       "      <td>41.310898</td>\n",
       "      <td>3974.719419</td>\n",
       "    </tr>\n",
       "    <tr>\n",
       "      <th>75%</th>\n",
       "      <td>57791.281668</td>\n",
       "      <td>52.582340</td>\n",
       "      <td>6432.410625</td>\n",
       "    </tr>\n",
       "    <tr>\n",
       "      <th>max</th>\n",
       "      <td>69995.685578</td>\n",
       "      <td>63.971796</td>\n",
       "      <td>13766.051239</td>\n",
       "    </tr>\n",
       "  </tbody>\n",
       "</table>\n",
       "</div>"
      ],
      "text/plain": [
       "             income          age          loan\n",
       "count   2000.000000  2000.000000   2000.000000\n",
       "mean   45331.600018    40.924874   4444.369695\n",
       "std    14326.327119    13.257782   3045.410024\n",
       "min    20014.489470    18.055189      1.377630\n",
       "25%    32796.459717    29.062492   1939.708847\n",
       "50%    45789.117313    41.310898   3974.719419\n",
       "75%    57791.281668    52.582340   6432.410625\n",
       "max    69995.685578    63.971796  13766.051239"
      ]
     },
     "execution_count": 18,
     "metadata": {},
     "output_type": "execute_result"
    }
   ],
   "source": [
    "X.describe()"
   ]
  },
  {
   "cell_type": "markdown",
   "id": "5f098234-ad6a-48b9-97f5-d4d86ab28749",
   "metadata": {},
   "source": [
    "# Split"
   ]
  },
  {
   "cell_type": "code",
   "execution_count": 19,
   "id": "734d2aed-b494-4b3a-872c-b10bd2a0a057",
   "metadata": {},
   "outputs": [],
   "source": [
    "X_train, X_test, y_train, y_test = train_test_split(X, y, test_size=0.25, random_state=0)"
   ]
  },
  {
   "cell_type": "markdown",
   "id": "72266b31-66ca-4a11-a94f-b9fe6d607808",
   "metadata": {},
   "source": [
    "# SMOTE"
   ]
  },
  {
   "cell_type": "code",
   "execution_count": 20,
   "id": "26677c66-2aa4-475e-9e2f-6db527a398dc",
   "metadata": {},
   "outputs": [],
   "source": [
    "smt = SMOTE()\n",
    "\n",
    "X_train, y_train = smt.fit_resample(X_train, y_train)"
   ]
  },
  {
   "cell_type": "markdown",
   "id": "9c15e1cf-c26c-466f-992a-e7a3c8f01670",
   "metadata": {},
   "source": [
    "# Naive Bayes"
   ]
  },
  {
   "cell_type": "code",
   "execution_count": 21,
   "id": "46f7a3f8-9ced-4ff6-bab3-57bc9bc6ed96",
   "metadata": {},
   "outputs": [],
   "source": [
    "clf_nb = GaussianNB()\n",
    "\n",
    "clf_nb.fit(X_train, y_train)\n",
    "\n",
    "previsoes_nb = clf_nb.predict(X_test)"
   ]
  },
  {
   "cell_type": "code",
   "execution_count": 22,
   "id": "99dcf6ce-a41c-47d8-86e2-a6e112cf915f",
   "metadata": {},
   "outputs": [
    {
     "name": "stdout",
     "output_type": "stream",
     "text": [
      "Acuracia: 87.2%\n"
     ]
    }
   ],
   "source": [
    "print(f'Acuracia: {accuracy_score(y_test, previsoes_nb).round(3) * 100}%')"
   ]
  },
  {
   "cell_type": "code",
   "execution_count": 52,
   "id": "4990c7b5-8ec0-4057-9fa5-eba18210105c",
   "metadata": {},
   "outputs": [
    {
     "data": {
      "text/plain": [
       "0.872"
      ]
     },
     "execution_count": 52,
     "metadata": {},
     "output_type": "execute_result"
    },
    {
     "data": {
      "image/png": "[encoded data removed]",
      "text/plain": [
       "<Figure size 576x396 with 1 Axes>"
      ]
     },
     "metadata": {},
     "output_type": "display_data"
    }
   ],
   "source": [
    "clf_nb = ConfusionMatrix(clf_nb)\n",
    "\n",
    "clf_nb.fit(X_train, y_train)\n",
    "\n",
    "clf_nb.score(X_test, y_test)"
   ]
  },
  {
   "cell_type": "code",
   "execution_count": 53,
   "id": "ece891a6",
   "metadata": {},
   "outputs": [
    {
     "name": "stdout",
     "output_type": "stream",
     "text": [
      "              precision    recall  f1-score   support\n",
      "\n",
      "           0       0.99      0.86      0.92       436\n",
      "           1       0.50      0.92      0.65        64\n",
      "\n",
      "    accuracy                           0.87       500\n",
      "   macro avg       0.74      0.89      0.79       500\n",
      "weighted avg       0.92      0.87      0.89       500\n",
      "\n"
     ]
    }
   ],
   "source": [
    "print(classification_report(y_test, previsoes_nb))"
   ]
  },
  {
   "cell_type": "markdown",
   "id": "184c1c4f-8621-4840-a58f-179a20a2d1ec",
   "metadata": {},
   "source": [
    "# Decision Tree"
   ]
  },
  {
   "cell_type": "code",
   "execution_count": 24,
   "id": "0681ef97-5786-4ab2-a47d-d7e06d629932",
   "metadata": {},
   "outputs": [],
   "source": [
    "clf_dt = DecisionTreeClassifier(max_depth=5,  random_state=1)\n",
    "\n",
    "clf_dt_fitted = clf_dt.fit(X_train, y_train)\n",
    "\n",
    "previsoes_dt = clf_dt_fitted.predict(X_test)"
   ]
  },
  {
   "cell_type": "code",
   "execution_count": 25,
   "id": "deefa241-d05c-4807-8b69-3207d9230843",
   "metadata": {},
   "outputs": [
    {
     "name": "stdout",
     "output_type": "stream",
     "text": [
      "Acuracia: 96.6%\n"
     ]
    }
   ],
   "source": [
    "print(f'Acuracia: {accuracy_score(y_test, previsoes_dt).round(4) * 100}%')"
   ]
  },
  {
   "cell_type": "code",
   "execution_count": 26,
   "id": "3d3fcf77-eca4-49a7-82b2-70a923b70891",
   "metadata": {},
   "outputs": [
    {
     "data": {
      "text/plain": [
       "0.966"
      ]
     },
     "execution_count": 26,
     "metadata": {},
     "output_type": "execute_result"
    },
    {
     "data": {
      "image/png": "[encoded data removed]",
      "text/plain": [
       "<Figure size 576x396 with 1 Axes>"
      ]
     },
     "metadata": {},
     "output_type": "display_data"
    }
   ],
   "source": [
    "clf_dt = ConfusionMatrix(clf_dt_fitted)\n",
    "\n",
    "clf_dt.fit(X_train, y_train)\n",
    "\n",
    "clf_dt.score(X_test, y_test)"
   ]
  },
  {
   "cell_type": "code",
   "execution_count": 54,
   "id": "a7806b87",
   "metadata": {},
   "outputs": [
    {
     "name": "stdout",
     "output_type": "stream",
     "text": [
      "              precision    recall  f1-score   support\n",
      "\n",
      "           0       1.00      0.97      0.98       436\n",
      "           1       0.81      0.97      0.88        64\n",
      "\n",
      "    accuracy                           0.97       500\n",
      "   macro avg       0.90      0.97      0.93       500\n",
      "weighted avg       0.97      0.97      0.97       500\n",
      "\n"
     ]
    }
   ],
   "source": [
    "print(classification_report(y_test, previsoes_dt))"
   ]
  },
  {
   "cell_type": "markdown",
   "id": "d4cdfab3-1ffb-4b31-85ec-68a7e1e4e793",
   "metadata": {},
   "source": [
    "# Random Forest "
   ]
  },
  {
   "cell_type": "code",
   "execution_count": 27,
   "id": "6757a06b-0405-4002-ace1-f233c4272a33",
   "metadata": {},
   "outputs": [],
   "source": [
    "clf_rf = RandomForestClassifier(n_estimators=40, criterion='entropy', random_state = 1)\n",
    "\n",
    "clf_rf.fit(X_train, y_train)\n",
    "\n",
    "previsoes_rf = clf_rf.predict(X_test)"
   ]
  },
  {
   "cell_type": "code",
   "execution_count": 28,
   "id": "4957a96c-5f73-4cf2-90dc-5f3b815e9786",
   "metadata": {},
   "outputs": [
    {
     "name": "stdout",
     "output_type": "stream",
     "text": [
      "Acuracia: 98.2%\n"
     ]
    }
   ],
   "source": [
    "print(f'Acuracia: {accuracy_score(y_test, previsoes_rf).round(3) * 100}%')"
   ]
  },
  {
   "cell_type": "code",
   "execution_count": 29,
   "id": "dbd5a122-0fae-412d-b2a0-1f0462fed7ac",
   "metadata": {},
   "outputs": [
    {
     "data": {
      "text/plain": [
       "0.982"
      ]
     },
     "execution_count": 29,
     "metadata": {},
     "output_type": "execute_result"
    },
    {
     "data": {
      "image/png": "[encoded data removed]",
      "text/plain": [
       "<Figure size 576x396 with 1 Axes>"
      ]
     },
     "metadata": {},
     "output_type": "display_data"
    }
   ],
   "source": [
    "clf_rf = ConfusionMatrix(clf_rf)\n",
    "\n",
    "clf_rf.fit(X_train, y_train)\n",
    "\n",
    "clf_rf.score(X_test, y_test)"
   ]
  },
  {
   "cell_type": "code",
   "execution_count": 30,
   "id": "d358f3c3-6834-4d06-ba35-62809150a3a7",
   "metadata": {},
   "outputs": [
    {
     "name": "stdout",
     "output_type": "stream",
     "text": [
      "              precision    recall  f1-score   support\n",
      "\n",
      "           0       1.00      0.98      0.99       436\n",
      "           1       0.89      0.98      0.93        64\n",
      "\n",
      "    accuracy                           0.98       500\n",
      "   macro avg       0.94      0.98      0.96       500\n",
      "weighted avg       0.98      0.98      0.98       500\n",
      "\n"
     ]
    }
   ],
   "source": [
    "print(classification_report(y_test, previsoes_rf))"
   ]
  },
  {
   "cell_type": "markdown",
   "id": "42fa856c-b475-48c3-abad-99b7373220f6",
   "metadata": {},
   "source": [
    "# KNN"
   ]
  },
  {
   "cell_type": "code",
   "execution_count": 31,
   "id": "5aedcae1-5361-49f9-b316-87459bca28d3",
   "metadata": {},
   "outputs": [
    {
     "name": "stdout",
     "output_type": "stream",
     "text": [
      "Acuracia: 79.0%\n"
     ]
    }
   ],
   "source": [
    "clf_knn = KNeighborsClassifier(n_neighbors=3)\n",
    "\n",
    "clf_knn.fit(X_train, y_train)\n",
    "\n",
    "previsoes_knn = clf_knn.predict(X_test)\n",
    "\n",
    "print(f'Acuracia: {accuracy_score(y_test, previsoes_knn).round(3) * 100}%')"
   ]
  },
  {
   "cell_type": "code",
   "execution_count": 32,
   "id": "f87a0b72-1d3d-44ea-b9ef-992981fb525e",
   "metadata": {},
   "outputs": [
    {
     "data": {
      "text/plain": [
       "0.79"
      ]
     },
     "execution_count": 32,
     "metadata": {},
     "output_type": "execute_result"
    },
    {
     "data": {
      "image/png": "[encoded data removed]",
      "text/plain": [
       "<Figure size 576x396 with 1 Axes>"
      ]
     },
     "metadata": {},
     "output_type": "display_data"
    }
   ],
   "source": [
    "clf_knn = ConfusionMatrix(clf_knn)\n",
    "\n",
    "clf_knn.fit(X_train, y_train)\n",
    "\n",
    "clf_knn.score(X_test, y_test)"
   ]
  },
  {
   "cell_type": "code",
   "execution_count": 33,
   "id": "713e6d6a-8a9e-43ee-acf9-7556189552d8",
   "metadata": {},
   "outputs": [
    {
     "name": "stdout",
     "output_type": "stream",
     "text": [
      "              precision    recall  f1-score   support\n",
      "\n",
      "           0       0.95      0.81      0.87       436\n",
      "           1       0.34      0.69      0.46        64\n",
      "\n",
      "    accuracy                           0.79       500\n",
      "   macro avg       0.64      0.75      0.66       500\n",
      "weighted avg       0.87      0.79      0.82       500\n",
      "\n"
     ]
    }
   ],
   "source": [
    "print(classification_report(y_test, previsoes_knn))"
   ]
  },
  {
   "cell_type": "markdown",
   "id": "227fe7d1-d004-4908-a46b-a88a4466372c",
   "metadata": {},
   "source": [
    "# SVM"
   ]
  },
  {
   "cell_type": "code",
   "execution_count": 34,
   "id": "469bce0e-bec3-40e5-882f-2dc10724e16f",
   "metadata": {},
   "outputs": [
    {
     "name": "stdout",
     "output_type": "stream",
     "text": [
      "Acuracia: 75.0 %\n"
     ]
    }
   ],
   "source": [
    "clf_svm = SVC(kernel='rbf', random_state=1, C = 2.0)\n",
    "\n",
    "clf_svm.fit(X_train, y_train)\n",
    "\n",
    "previsoes_svm = clf_svm.predict(X_test)\n",
    "\n",
    "print(f'Acuracia: {accuracy_score(y_test, previsoes_svm).round(3) * 100} %')"
   ]
  },
  {
   "cell_type": "code",
   "execution_count": 35,
   "id": "3f9d2537-311e-4ef8-a7c5-e1f979d94862",
   "metadata": {},
   "outputs": [
    {
     "data": {
      "text/plain": [
       "0.75"
      ]
     },
     "execution_count": 35,
     "metadata": {},
     "output_type": "execute_result"
    },
    {
     "data": {
      "image/png": "[encoded data removed]",
      "text/plain": [
       "<Figure size 576x396 with 1 Axes>"
      ]
     },
     "metadata": {},
     "output_type": "display_data"
    }
   ],
   "source": [
    "clf_svm = ConfusionMatrix(clf_svm)\n",
    "\n",
    "clf_svm.fit(X_train, y_train)\n",
    "\n",
    "clf_svm.score(X_test, y_test)"
   ]
  },
  {
   "cell_type": "code",
   "execution_count": 36,
   "id": "d81722ee-34b4-4939-bd1c-f9d1702fef82",
   "metadata": {},
   "outputs": [
    {
     "name": "stdout",
     "output_type": "stream",
     "text": [
      "              precision    recall  f1-score   support\n",
      "\n",
      "           0       0.99      0.72      0.83       436\n",
      "           1       0.33      0.94      0.49        64\n",
      "\n",
      "    accuracy                           0.75       500\n",
      "   macro avg       0.66      0.83      0.66       500\n",
      "weighted avg       0.90      0.75      0.79       500\n",
      "\n"
     ]
    }
   ],
   "source": [
    "print(classification_report(y_test, previsoes_svm))"
   ]
  },
  {
   "cell_type": "markdown",
   "id": "d23d4529",
   "metadata": {},
   "source": [
    "# Regressão Logística "
   ]
  },
  {
   "cell_type": "code",
   "execution_count": 37,
   "id": "05d57f41",
   "metadata": {},
   "outputs": [
    {
     "name": "stdout",
     "output_type": "stream",
     "text": [
      "Acuracia: 89.0 %\n"
     ]
    }
   ],
   "source": [
    "clf_logistic = LogisticRegression(random_state=1, max_iter=300)\n",
    "\n",
    "clf_logistic.fit(X_train, y_train)\n",
    "\n",
    "previsoes_logistic = clf_logistic.predict(X_test)\n",
    "\n",
    "print(f'Acuracia: {accuracy_score(y_test, previsoes_logistic).round(4) * 100} %')\n"
   ]
  },
  {
   "cell_type": "code",
   "execution_count": 38,
   "id": "24bfaaa3",
   "metadata": {},
   "outputs": [
    {
     "data": {
      "text/plain": [
       "array([0.00014876])"
      ]
     },
     "execution_count": 38,
     "metadata": {},
     "output_type": "execute_result"
    }
   ],
   "source": [
    "clf_logistic.intercept_"
   ]
  },
  {
   "cell_type": "code",
   "execution_count": 39,
   "id": "6ded75e4",
   "metadata": {},
   "outputs": [
    {
     "data": {
      "text/plain": [
       "array([[-6.40836706e-05, -1.07688111e-01,  1.06171684e-03]])"
      ]
     },
     "execution_count": 39,
     "metadata": {},
     "output_type": "execute_result"
    }
   ],
   "source": [
    "clf_logistic.coef_"
   ]
  },
  {
   "cell_type": "code",
   "execution_count": 40,
   "id": "e7d9fae0",
   "metadata": {},
   "outputs": [
    {
     "data": {
      "text/plain": [
       "0.89"
      ]
     },
     "execution_count": 40,
     "metadata": {},
     "output_type": "execute_result"
    },
    {
     "data": {
      "image/png": "[encoded data removed]",
      "text/plain": [
       "<Figure size 576x396 with 1 Axes>"
      ]
     },
     "metadata": {},
     "output_type": "display_data"
    }
   ],
   "source": [
    "clf_reg_log = ConfusionMatrix(clf_logistic)\n",
    "\n",
    "clf_reg_log.fit(X_train, y_train)\n",
    "\n",
    "clf_reg_log.score(X_test, y_test)"
   ]
  },
  {
   "cell_type": "code",
   "execution_count": 41,
   "id": "b7789b43",
   "metadata": {},
   "outputs": [
    {
     "name": "stdout",
     "output_type": "stream",
     "text": [
      "              precision    recall  f1-score   support\n",
      "\n",
      "           0       0.97      0.90      0.93       436\n",
      "           1       0.55      0.80      0.65        64\n",
      "\n",
      "    accuracy                           0.89       500\n",
      "   macro avg       0.76      0.85      0.79       500\n",
      "weighted avg       0.91      0.89      0.90       500\n",
      "\n"
     ]
    }
   ],
   "source": [
    "print(classification_report(y_test, previsoes_logistic))\n"
   ]
  },
  {
   "cell_type": "markdown",
   "id": "d2f0f34e-364f-401b-aebc-842e3a809f89",
   "metadata": {},
   "source": [
    "# XGBoost"
   ]
  },
  {
   "cell_type": "code",
   "execution_count": 42,
   "id": "8337fe10",
   "metadata": {},
   "outputs": [
    {
     "name": "stdout",
     "output_type": "stream",
     "text": [
      "[14:44:10] WARNING: ../src/learner.cc:1095: Starting in XGBoost 1.3.0, the default evaluation metric used with the objective 'binary:logistic' was changed from 'error' to 'logloss'. Explicitly set eval_metric if you'd like to restore the old behavior.\n"
     ]
    }
   ],
   "source": [
    "clf_xgb = XGBClassifier()\n",
    "\n",
    "clf_xgb.fit(X_train, y_train)\n",
    "\n",
    "previsoes_xgb = clf_xgb.predict(X_test)"
   ]
  },
  {
   "cell_type": "code",
   "execution_count": 43,
   "id": "3562c2f4",
   "metadata": {},
   "outputs": [
    {
     "name": "stdout",
     "output_type": "stream",
     "text": [
      "Acuracia: 98.2 %\n"
     ]
    }
   ],
   "source": [
    "print(f'Acuracia: {accuracy_score(y_test, previsoes_xgb).round(4) * 100} %')"
   ]
  },
  {
   "cell_type": "code",
   "execution_count": 44,
   "id": "c8531d4b",
   "metadata": {},
   "outputs": [
    {
     "data": {
      "text/plain": [
       "0.982"
      ]
     },
     "execution_count": 44,
     "metadata": {},
     "output_type": "execute_result"
    },
    {
     "data": {
      "image/png": "[encoded data removed]",
      "text/plain": [
       "<Figure size 576x396 with 1 Axes>"
      ]
     },
     "metadata": {},
     "output_type": "display_data"
    }
   ],
   "source": [
    "cm = ConfusionMatrix(clf_xgb)\n",
    "\n",
    "cm.fit(X_train, y_train)\n",
    "\n",
    "cm.score(X_test, y_test)"
   ]
  },
  {
   "cell_type": "code",
   "execution_count": 45,
   "id": "7bb6a15c",
   "metadata": {},
   "outputs": [
    {
     "name": "stdout",
     "output_type": "stream",
     "text": [
      "              precision    recall  f1-score   support\n",
      "\n",
      "           0       1.00      0.98      0.99       436\n",
      "           1       0.90      0.97      0.93        64\n",
      "\n",
      "    accuracy                           0.98       500\n",
      "   macro avg       0.95      0.98      0.96       500\n",
      "weighted avg       0.98      0.98      0.98       500\n",
      "\n"
     ]
    }
   ],
   "source": [
    "print(classification_report(y_test, previsoes_xgb))"
   ]
  },
  {
   "cell_type": "code",
   "execution_count": 46,
   "id": "16288854",
   "metadata": {},
   "outputs": [
    {
     "data": {
      "image/png": "[encoded data removed]",
      "text/plain": [
       "<Figure size 576x216 with 3 Axes>"
      ]
     },
     "metadata": {},
     "output_type": "display_data"
    }
   ],
   "source": [
    "explainer = shap.Explainer(clf_xgb)\n",
    "shap_values = explainer(X_train)\n",
    "\n",
    "shap.plots.waterfall(shap_values[0])"
   ]
  },
  {
   "cell_type": "markdown",
   "id": "cef84b52-3435-4efd-8275-b6382f996258",
   "metadata": {},
   "source": [
    "# CATBoost"
   ]
  },
  {
   "cell_type": "code",
   "execution_count": null,
   "id": "d25f974a-1233-40ed-b199-af0553de0e71",
   "metadata": {},
   "outputs": [],
   "source": [
    "clf_cat = CatBoostClassifier()\n",
    "\n",
    "clf_cat.fit(X_train, y_train)\n",
    "\n",
    "predict_cat = clf_cat.predict(X_test)\n",
    "print(f'Acuracia: {accuracy_score(y_test, predict_cat).round(4) * 100}%')"
   ]
  },
  {
   "cell_type": "code",
   "execution_count": 48,
   "id": "a27da08f-c4a5-4c18-89d2-abfc98c6c748",
   "metadata": {},
   "outputs": [
    {
     "name": "stdout",
     "output_type": "stream",
     "text": [
      "              precision    recall  f1-score   support\n",
      "\n",
      "           0       1.00      0.99      0.99       436\n",
      "           1       0.91      0.97      0.94        64\n",
      "\n",
      "    accuracy                           0.98       500\n",
      "   macro avg       0.95      0.98      0.97       500\n",
      "weighted avg       0.98      0.98      0.98       500\n",
      "\n",
      "Acuracia: 98.4%\n"
     ]
    }
   ],
   "source": [
    "print(classification_report(y_test, predict_cat))\n",
    "\n",
    "print(f'Acuracia: {accuracy_score(y_test, predict_cat).round(4) * 100}%')"
   ]
  },
  {
   "cell_type": "code",
   "execution_count": 49,
   "id": "9eea7678-4a08-4adf-9e7d-b13cfe919ecf",
   "metadata": {},
   "outputs": [
    {
     "data": {
      "image/png": "[encoded data removed]",
      "text/plain": [
       "<Figure size 576x216 with 3 Axes>"
      ]
     },
     "metadata": {},
     "output_type": "display_data"
    }
   ],
   "source": [
    "explainer = shap.Explainer(clf_cat)\n",
    "shap_values = explainer(X_train)\n",
    "\n",
    "shap.plots.waterfall(shap_values[0])"
   ]
  },
  {
   "cell_type": "code",
   "execution_count": null,
   "id": "2a1db4e3",
   "metadata": {},
   "outputs": [],
   "source": [
    "shap.plots.waterfall(shap_values[0])"
   ]
  },
  {
   "cell_type": "markdown",
   "id": "11fb51a8-16aa-43e5-a552-aa9fb1f05544",
   "metadata": {},
   "source": [
    "# LightGBM"
   ]
  },
  {
   "cell_type": "code",
   "execution_count": 50,
   "id": "8e7441b9-6fe2-4104-ab5c-794093675e88",
   "metadata": {},
   "outputs": [
    {
     "name": "stdout",
     "output_type": "stream",
     "text": [
      "              precision    recall  f1-score   support\n",
      "\n",
      "           0       0.98      0.99      0.99       436\n",
      "           1       0.90      0.89      0.90        64\n",
      "\n",
      "    accuracy                           0.97       500\n",
      "   macro avg       0.94      0.94      0.94       500\n",
      "weighted avg       0.97      0.97      0.97       500\n",
      "\n",
      "Acuracia: 97.39999999999999%\n"
     ]
    }
   ],
   "source": [
    "clf_lgbm = LGBMClassifier()\n",
    "\n",
    "clf_lgbm.fit(X_train, y_train)\n",
    "\n",
    "predict_lgbm = clf_lgbm.predict(X_test)\n",
    "\n",
    "print(classification_report(y_test, predict_lgbm))\n",
    "print(f'Acuracia: {accuracy_score(y_test, predict_lgbm).round(4) * 100}%')"
   ]
  }
 ],
 "metadata": {
  "kernelspec": {
   "display_name": "Python 3 (ipykernel)",
   "language": "python",
   "name": "python3"
  },
  "language_info": {
   "codemirror_mode": {
    "name": "ipython",
    "version": 3
   },
   "file_extension": ".py",
   "mimetype": "text/x-python",
   "name": "python",
   "nbconvert_exporter": "python",
   "pygments_lexer": "ipython3",
   "version": "3.8.10"
  }
 },
 "nbformat": 4,
 "nbformat_minor": 5
}
