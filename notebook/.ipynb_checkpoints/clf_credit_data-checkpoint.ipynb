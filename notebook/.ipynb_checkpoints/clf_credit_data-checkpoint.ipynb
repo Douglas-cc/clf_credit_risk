{
 "cells": [
  {
   "cell_type": "code",
   "execution_count": 1,
   "id": "d3f1acfa-01a7-48f8-9b94-c2a83c1a1410",
   "metadata": {},
   "outputs": [],
   "source": [
    "import warnings\n",
    "warnings.filterwarnings(\"ignore\")\n",
    "\n",
    "from joblib import dump\n",
    "\n",
    "import numpy as np \n",
    "import pandas as pd \n",
    "\n",
    "import shap\n",
    "import seaborn as sns \n",
    "import matplotlib.pyplot as plt\n",
    "import plotly.express as px\n",
    "from yellowbrick.classifier import ConfusionMatrix\n",
    "\n",
    "\n",
    "from imblearn.over_sampling import SMOTE \n",
    "from sklearn.model_selection import train_test_split\n",
    "\n",
    "from sklearn.svm import SVC\n",
    "from xgboost import  XGBClassifier\n",
    "from lightgbm import LGBMClassifier\n",
    "from catboost import CatBoostClassifier\n",
    "from sklearn.naive_bayes import GaussianNB\n",
    "from sklearn.ensemble import RandomForestClassifier\n",
    "from sklearn.tree import DecisionTreeClassifier, plot_tree\n",
    "from sklearn.neighbors import KNeighborsClassifier\n",
    "from sklearn.linear_model import LogisticRegression\n",
    "\n",
    "from sklearn.metrics import (\n",
    "    confusion_matrix,\n",
    "    accuracy_score,\n",
    "    classification_report\n",
    ")"
   ]
  },
  {
   "cell_type": "markdown",
   "id": "c37d3d60-9544-44ed-bb73-c6935b467e18",
   "metadata": {},
   "source": [
    "# Import data Risc Credit "
   ]
  },
  {
   "cell_type": "code",
   "execution_count": 2,
   "id": "91bc2d8e-6010-4db8-8418-92b81947d708",
   "metadata": {},
   "outputs": [
    {
     "data": {
      "text/html": [
       "<div>\n",
       "<style scoped>\n",
       "    .dataframe tbody tr th:only-of-type {\n",
       "        vertical-align: middle;\n",
       "    }\n",
       "\n",
       "    .dataframe tbody tr th {\n",
       "        vertical-align: top;\n",
       "    }\n",
       "\n",
       "    .dataframe thead th {\n",
       "        text-align: right;\n",
       "    }\n",
       "</style>\n",
       "<table border=\"1\" class=\"dataframe\">\n",
       "  <thead>\n",
       "    <tr style=\"text-align: right;\">\n",
       "      <th></th>\n",
       "      <th>i#clientid</th>\n",
       "      <th>income</th>\n",
       "      <th>age</th>\n",
       "      <th>loan</th>\n",
       "      <th>c#default</th>\n",
       "    </tr>\n",
       "  </thead>\n",
       "  <tbody>\n",
       "    <tr>\n",
       "      <th>0</th>\n",
       "      <td>1</td>\n",
       "      <td>66155.925095</td>\n",
       "      <td>59.017015</td>\n",
       "      <td>8106.532131</td>\n",
       "      <td>0</td>\n",
       "    </tr>\n",
       "    <tr>\n",
       "      <th>1</th>\n",
       "      <td>2</td>\n",
       "      <td>34415.153966</td>\n",
       "      <td>48.117153</td>\n",
       "      <td>6564.745018</td>\n",
       "      <td>0</td>\n",
       "    </tr>\n",
       "    <tr>\n",
       "      <th>2</th>\n",
       "      <td>3</td>\n",
       "      <td>57317.170063</td>\n",
       "      <td>63.108049</td>\n",
       "      <td>8020.953296</td>\n",
       "      <td>0</td>\n",
       "    </tr>\n",
       "    <tr>\n",
       "      <th>3</th>\n",
       "      <td>4</td>\n",
       "      <td>42709.534201</td>\n",
       "      <td>45.751972</td>\n",
       "      <td>6103.642260</td>\n",
       "      <td>0</td>\n",
       "    </tr>\n",
       "    <tr>\n",
       "      <th>4</th>\n",
       "      <td>5</td>\n",
       "      <td>66952.688845</td>\n",
       "      <td>18.584336</td>\n",
       "      <td>8770.099235</td>\n",
       "      <td>1</td>\n",
       "    </tr>\n",
       "  </tbody>\n",
       "</table>\n",
       "</div>"
      ],
      "text/plain": [
       "   i#clientid        income        age         loan  c#default\n",
       "0           1  66155.925095  59.017015  8106.532131          0\n",
       "1           2  34415.153966  48.117153  6564.745018          0\n",
       "2           3  57317.170063  63.108049  8020.953296          0\n",
       "3           4  42709.534201  45.751972  6103.642260          0\n",
       "4           5  66952.688845  18.584336  8770.099235          1"
      ]
     },
     "execution_count": 2,
     "metadata": {},
     "output_type": "execute_result"
    }
   ],
   "source": [
    "df = pd.read_csv('credit_data.csv')\n",
    "df.head(5)"
   ]
  },
  {
   "cell_type": "markdown",
   "id": "d3f02ae5-b041-4994-9f6e-86a9f6e24917",
   "metadata": {},
   "source": [
    "# Sobre os dados \n",
    "- i#clientid\t- id do cliente\n",
    "- income - renda \n",
    "- age - idade \n",
    "- loan - empréstimo\n",
    "- c#default - target aprova ou não credit para o cliente"
   ]
  },
  {
   "cell_type": "code",
   "execution_count": 3,
   "id": "a5fb95d2-ba5c-48d6-b872-8b0376c03675",
   "metadata": {},
   "outputs": [
    {
     "data": {
      "text/html": [
       "<div>\n",
       "<style scoped>\n",
       "    .dataframe tbody tr th:only-of-type {\n",
       "        vertical-align: middle;\n",
       "    }\n",
       "\n",
       "    .dataframe tbody tr th {\n",
       "        vertical-align: top;\n",
       "    }\n",
       "\n",
       "    .dataframe thead th {\n",
       "        text-align: right;\n",
       "    }\n",
       "</style>\n",
       "<table border=\"1\" class=\"dataframe\">\n",
       "  <thead>\n",
       "    <tr style=\"text-align: right;\">\n",
       "      <th></th>\n",
       "      <th>i#clientid</th>\n",
       "      <th>income</th>\n",
       "      <th>age</th>\n",
       "      <th>loan</th>\n",
       "      <th>c#default</th>\n",
       "    </tr>\n",
       "  </thead>\n",
       "  <tbody>\n",
       "    <tr>\n",
       "      <th>count</th>\n",
       "      <td>2000.000000</td>\n",
       "      <td>2000.000000</td>\n",
       "      <td>1997.000000</td>\n",
       "      <td>2000.000000</td>\n",
       "      <td>2000.000000</td>\n",
       "    </tr>\n",
       "    <tr>\n",
       "      <th>mean</th>\n",
       "      <td>1000.500000</td>\n",
       "      <td>45331.600018</td>\n",
       "      <td>40.807559</td>\n",
       "      <td>4444.369695</td>\n",
       "      <td>0.141500</td>\n",
       "    </tr>\n",
       "    <tr>\n",
       "      <th>std</th>\n",
       "      <td>577.494589</td>\n",
       "      <td>14326.327119</td>\n",
       "      <td>13.624469</td>\n",
       "      <td>3045.410024</td>\n",
       "      <td>0.348624</td>\n",
       "    </tr>\n",
       "    <tr>\n",
       "      <th>min</th>\n",
       "      <td>1.000000</td>\n",
       "      <td>20014.489470</td>\n",
       "      <td>-52.423280</td>\n",
       "      <td>1.377630</td>\n",
       "      <td>0.000000</td>\n",
       "    </tr>\n",
       "    <tr>\n",
       "      <th>25%</th>\n",
       "      <td>500.750000</td>\n",
       "      <td>32796.459717</td>\n",
       "      <td>28.990415</td>\n",
       "      <td>1939.708847</td>\n",
       "      <td>0.000000</td>\n",
       "    </tr>\n",
       "    <tr>\n",
       "      <th>50%</th>\n",
       "      <td>1000.500000</td>\n",
       "      <td>45789.117313</td>\n",
       "      <td>41.317159</td>\n",
       "      <td>3974.719419</td>\n",
       "      <td>0.000000</td>\n",
       "    </tr>\n",
       "    <tr>\n",
       "      <th>75%</th>\n",
       "      <td>1500.250000</td>\n",
       "      <td>57791.281668</td>\n",
       "      <td>52.587040</td>\n",
       "      <td>6432.410625</td>\n",
       "      <td>0.000000</td>\n",
       "    </tr>\n",
       "    <tr>\n",
       "      <th>max</th>\n",
       "      <td>2000.000000</td>\n",
       "      <td>69995.685578</td>\n",
       "      <td>63.971796</td>\n",
       "      <td>13766.051239</td>\n",
       "      <td>1.000000</td>\n",
       "    </tr>\n",
       "  </tbody>\n",
       "</table>\n",
       "</div>"
      ],
      "text/plain": [
       "        i#clientid        income          age          loan    c#default\n",
       "count  2000.000000   2000.000000  1997.000000   2000.000000  2000.000000\n",
       "mean   1000.500000  45331.600018    40.807559   4444.369695     0.141500\n",
       "std     577.494589  14326.327119    13.624469   3045.410024     0.348624\n",
       "min       1.000000  20014.489470   -52.423280      1.377630     0.000000\n",
       "25%     500.750000  32796.459717    28.990415   1939.708847     0.000000\n",
       "50%    1000.500000  45789.117313    41.317159   3974.719419     0.000000\n",
       "75%    1500.250000  57791.281668    52.587040   6432.410625     0.000000\n",
       "max    2000.000000  69995.685578    63.971796  13766.051239     1.000000"
      ]
     },
     "execution_count": 3,
     "metadata": {},
     "output_type": "execute_result"
    }
   ],
   "source": [
    "df.describe()  # caracteristicas estatisticas"
   ]
  },
  {
   "cell_type": "code",
   "execution_count": 4,
   "id": "7c5a4498-3e38-4710-a24e-2f150c59da13",
   "metadata": {},
   "outputs": [
    {
     "data": {
      "text/html": [
       "<div>\n",
       "<style scoped>\n",
       "    .dataframe tbody tr th:only-of-type {\n",
       "        vertical-align: middle;\n",
       "    }\n",
       "\n",
       "    .dataframe tbody tr th {\n",
       "        vertical-align: top;\n",
       "    }\n",
       "\n",
       "    .dataframe thead th {\n",
       "        text-align: right;\n",
       "    }\n",
       "</style>\n",
       "<table border=\"1\" class=\"dataframe\">\n",
       "  <thead>\n",
       "    <tr style=\"text-align: right;\">\n",
       "      <th></th>\n",
       "      <th>i#clientid</th>\n",
       "      <th>income</th>\n",
       "      <th>age</th>\n",
       "      <th>loan</th>\n",
       "      <th>c#default</th>\n",
       "    </tr>\n",
       "  </thead>\n",
       "  <tbody>\n",
       "    <tr>\n",
       "      <th>865</th>\n",
       "      <td>866</td>\n",
       "      <td>28072.604355</td>\n",
       "      <td>54.142548</td>\n",
       "      <td>1.37763</td>\n",
       "      <td>0</td>\n",
       "    </tr>\n",
       "  </tbody>\n",
       "</table>\n",
       "</div>"
      ],
      "text/plain": [
       "     i#clientid        income        age     loan  c#default\n",
       "865         866  28072.604355  54.142548  1.37763          0"
      ]
     },
     "execution_count": 4,
     "metadata": {},
     "output_type": "execute_result"
    }
   ],
   "source": [
    "df[df['loan'] <= 1.377630] # pegando cliente com emprestimo menor ou igual 1.377630 "
   ]
  },
  {
   "cell_type": "code",
   "execution_count": 5,
   "id": "bfd1f576-d772-41c9-95ea-fdab41376bce",
   "metadata": {},
   "outputs": [
    {
     "data": {
      "text/html": [
       "<div>\n",
       "<style scoped>\n",
       "    .dataframe tbody tr th:only-of-type {\n",
       "        vertical-align: middle;\n",
       "    }\n",
       "\n",
       "    .dataframe tbody tr th {\n",
       "        vertical-align: top;\n",
       "    }\n",
       "\n",
       "    .dataframe thead th {\n",
       "        text-align: right;\n",
       "    }\n",
       "</style>\n",
       "<table border=\"1\" class=\"dataframe\">\n",
       "  <thead>\n",
       "    <tr style=\"text-align: right;\">\n",
       "      <th></th>\n",
       "      <th>i#clientid</th>\n",
       "      <th>income</th>\n",
       "      <th>age</th>\n",
       "      <th>loan</th>\n",
       "      <th>c#default</th>\n",
       "    </tr>\n",
       "  </thead>\n",
       "  <tbody>\n",
       "    <tr>\n",
       "      <th>422</th>\n",
       "      <td>423</td>\n",
       "      <td>69995.685578</td>\n",
       "      <td>52.719673</td>\n",
       "      <td>2084.370861</td>\n",
       "      <td>0</td>\n",
       "    </tr>\n",
       "  </tbody>\n",
       "</table>\n",
       "</div>"
      ],
      "text/plain": [
       "     i#clientid        income        age         loan  c#default\n",
       "422         423  69995.685578  52.719673  2084.370861          0"
      ]
     },
     "execution_count": 5,
     "metadata": {},
     "output_type": "execute_result"
    }
   ],
   "source": [
    "df[df['income'] >= 69995.685578] # pegando cliente com renda maior ou igual 69995.685578"
   ]
  },
  {
   "cell_type": "markdown",
   "id": "4416acbd-b71c-45e6-a5e9-c0df0e90c97e",
   "metadata": {},
   "source": [
    "# Visualização de dados "
   ]
  },
  {
   "cell_type": "markdown",
   "id": "134379e7-c578-4921-ac35-674f180ad66f",
   "metadata": {},
   "source": [
    "- 1. Para Age"
   ]
  },
  {
   "cell_type": "code",
   "execution_count": 6,
   "id": "082dced2-2a6b-4fac-9468-d2a21be1c8b1",
   "metadata": {},
   "outputs": [
    {
     "data": {
      "text/plain": [
       "<AxesSubplot:xlabel='age', ylabel='Density'>"
      ]
     },
     "execution_count": 6,
     "metadata": {},
     "output_type": "execute_result"
    },
    {
     "data": {
      "image/png": "[encoded data removed]",
      "text/plain": [
       "<Figure size 576x396 with 1 Axes>"
      ]
     },
     "metadata": {},
     "output_type": "display_data"
    }
   ],
   "source": [
    "sns.distplot(df.age)"
   ]
  },
  {
   "cell_type": "markdown",
   "id": "fae9dd98-f118-478a-b135-04aabe2c1531",
   "metadata": {},
   "source": [
    "- 2. Para income"
   ]
  },
  {
   "cell_type": "code",
   "execution_count": 7,
   "id": "bd817e69-c042-4516-aed5-300c672f3aab",
   "metadata": {},
   "outputs": [
    {
     "data": {
      "text/plain": [
       "<AxesSubplot:xlabel='income', ylabel='Density'>"
      ]
     },
     "execution_count": 7,
     "metadata": {},
     "output_type": "execute_result"
    },
    {
     "data": {
      "image/png": "[encoded data removed]",
      "text/plain": [
       "<Figure size 576x396 with 1 Axes>"
      ]
     },
     "metadata": {},
     "output_type": "display_data"
    }
   ],
   "source": [
    "sns.distplot(df.income)\n"
   ]
  },
  {
   "cell_type": "markdown",
   "id": "8fdbc1e5-1bcb-425e-954c-eacfa4dc5fea",
   "metadata": {},
   "source": [
    "- 3. Para Loan"
   ]
  },
  {
   "cell_type": "code",
   "execution_count": 8,
   "id": "74ce0de2-c2bf-436e-9192-ae575e88a61b",
   "metadata": {},
   "outputs": [
    {
     "data": {
      "text/plain": [
       "<AxesSubplot:xlabel='loan', ylabel='Density'>"
      ]
     },
     "execution_count": 8,
     "metadata": {},
     "output_type": "execute_result"
    },
    {
     "data": {
      "image/png": "[encoded data removed]",
      "text/plain": [
       "<Figure size 576x396 with 1 Axes>"
      ]
     },
     "metadata": {},
     "output_type": "display_data"
    }
   ],
   "source": [
    "sns.distplot(df.loan)"
   ]
  },
  {
   "cell_type": "markdown",
   "id": "716668fb-9edb-484a-8a93-f437baed5c83",
   "metadata": {},
   "source": [
    "# Pré - Processamento"
   ]
  },
  {
   "cell_type": "markdown",
   "id": "31c95b92-b2ea-4840-b1d7-60c9cbc2bfdd",
   "metadata": {},
   "source": [
    " - 1. Inconsistência de dados"
   ]
  },
  {
   "cell_type": "code",
   "execution_count": 9,
   "id": "7b0e5a78-d468-4972-a981-0f7ae1d710fd",
   "metadata": {},
   "outputs": [
    {
     "data": {
      "text/html": [
       "<div>\n",
       "<style scoped>\n",
       "    .dataframe tbody tr th:only-of-type {\n",
       "        vertical-align: middle;\n",
       "    }\n",
       "\n",
       "    .dataframe tbody tr th {\n",
       "        vertical-align: top;\n",
       "    }\n",
       "\n",
       "    .dataframe thead th {\n",
       "        text-align: right;\n",
       "    }\n",
       "</style>\n",
       "<table border=\"1\" class=\"dataframe\">\n",
       "  <thead>\n",
       "    <tr style=\"text-align: right;\">\n",
       "      <th></th>\n",
       "      <th>i#clientid</th>\n",
       "      <th>income</th>\n",
       "      <th>age</th>\n",
       "      <th>loan</th>\n",
       "      <th>c#default</th>\n",
       "    </tr>\n",
       "  </thead>\n",
       "  <tbody>\n",
       "    <tr>\n",
       "      <th>15</th>\n",
       "      <td>16</td>\n",
       "      <td>50501.726689</td>\n",
       "      <td>-28.218361</td>\n",
       "      <td>3977.287432</td>\n",
       "      <td>0</td>\n",
       "    </tr>\n",
       "    <tr>\n",
       "      <th>21</th>\n",
       "      <td>22</td>\n",
       "      <td>32197.620701</td>\n",
       "      <td>-52.423280</td>\n",
       "      <td>4244.057136</td>\n",
       "      <td>0</td>\n",
       "    </tr>\n",
       "    <tr>\n",
       "      <th>26</th>\n",
       "      <td>27</td>\n",
       "      <td>63287.038908</td>\n",
       "      <td>-36.496976</td>\n",
       "      <td>9595.286289</td>\n",
       "      <td>0</td>\n",
       "    </tr>\n",
       "  </tbody>\n",
       "</table>\n",
       "</div>"
      ],
      "text/plain": [
       "    i#clientid        income        age         loan  c#default\n",
       "15          16  50501.726689 -28.218361  3977.287432          0\n",
       "21          22  32197.620701 -52.423280  4244.057136          0\n",
       "26          27  63287.038908 -36.496976  9595.286289          0"
      ]
     },
     "execution_count": 9,
     "metadata": {},
     "output_type": "execute_result"
    }
   ],
   "source": [
    "# vamos verificar os registros de idade menor que zero \n",
    "df.loc[df['age'] < 0] "
   ]
  },
  {
   "cell_type": "code",
   "execution_count": 10,
   "id": "40b9a48b-8a70-426f-8180-e292e9860c07",
   "metadata": {},
   "outputs": [],
   "source": [
    "# Agora vamos converter de valor neagtivo para positivo\n",
    "df.loc[df['age'] < 0] = abs(df.loc[df['age'] < 0])"
   ]
  },
  {
   "cell_type": "code",
   "execution_count": 11,
   "id": "8a0243a7-c6f7-424f-9863-a453391a0b0f",
   "metadata": {},
   "outputs": [
    {
     "data": {
      "text/html": [
       "<div>\n",
       "<style scoped>\n",
       "    .dataframe tbody tr th:only-of-type {\n",
       "        vertical-align: middle;\n",
       "    }\n",
       "\n",
       "    .dataframe tbody tr th {\n",
       "        vertical-align: top;\n",
       "    }\n",
       "\n",
       "    .dataframe thead th {\n",
       "        text-align: right;\n",
       "    }\n",
       "</style>\n",
       "<table border=\"1\" class=\"dataframe\">\n",
       "  <thead>\n",
       "    <tr style=\"text-align: right;\">\n",
       "      <th></th>\n",
       "      <th>i#clientid</th>\n",
       "      <th>income</th>\n",
       "      <th>age</th>\n",
       "      <th>loan</th>\n",
       "      <th>c#default</th>\n",
       "    </tr>\n",
       "  </thead>\n",
       "  <tbody>\n",
       "    <tr>\n",
       "      <th>15</th>\n",
       "      <td>16</td>\n",
       "      <td>50501.726689</td>\n",
       "      <td>28.218361</td>\n",
       "      <td>3977.287432</td>\n",
       "      <td>0</td>\n",
       "    </tr>\n",
       "    <tr>\n",
       "      <th>21</th>\n",
       "      <td>22</td>\n",
       "      <td>32197.620701</td>\n",
       "      <td>52.423280</td>\n",
       "      <td>4244.057136</td>\n",
       "      <td>0</td>\n",
       "    </tr>\n",
       "    <tr>\n",
       "      <th>26</th>\n",
       "      <td>27</td>\n",
       "      <td>63287.038908</td>\n",
       "      <td>36.496976</td>\n",
       "      <td>9595.286289</td>\n",
       "      <td>0</td>\n",
       "    </tr>\n",
       "  </tbody>\n",
       "</table>\n",
       "</div>"
      ],
      "text/plain": [
       "    i#clientid        income        age         loan  c#default\n",
       "15          16  50501.726689  28.218361  3977.287432          0\n",
       "21          22  32197.620701  52.423280  4244.057136          0\n",
       "26          27  63287.038908  36.496976  9595.286289          0"
      ]
     },
     "execution_count": 11,
     "metadata": {},
     "output_type": "execute_result"
    }
   ],
   "source": [
    "# Veja que não há mais pessoas com idade negativa\n",
    "df.loc[df['i#clientid'].isin([16, 22, 27])]"
   ]
  },
  {
   "cell_type": "markdown",
   "id": "b41ddbba-3eb1-4ff0-b50f-9d92dd625bcf",
   "metadata": {},
   "source": [
    "- 2. Dados Faltantes"
   ]
  },
  {
   "cell_type": "code",
   "execution_count": 12,
   "id": "14445c41-38f5-4f86-a1e1-18cd5293c37f",
   "metadata": {},
   "outputs": [
    {
     "data": {
      "text/plain": [
       "i#clientid    0\n",
       "income        0\n",
       "age           3\n",
       "loan          0\n",
       "c#default     0\n",
       "dtype: int64"
      ]
     },
     "execution_count": 12,
     "metadata": {},
     "output_type": "execute_result"
    }
   ],
   "source": [
    "df.isnull().sum()"
   ]
  },
  {
   "cell_type": "code",
   "execution_count": 13,
   "id": "d403b7be-b5ce-4097-98b9-873a1dd8ee4f",
   "metadata": {},
   "outputs": [
    {
     "data": {
      "text/html": [
       "<div>\n",
       "<style scoped>\n",
       "    .dataframe tbody tr th:only-of-type {\n",
       "        vertical-align: middle;\n",
       "    }\n",
       "\n",
       "    .dataframe tbody tr th {\n",
       "        vertical-align: top;\n",
       "    }\n",
       "\n",
       "    .dataframe thead th {\n",
       "        text-align: right;\n",
       "    }\n",
       "</style>\n",
       "<table border=\"1\" class=\"dataframe\">\n",
       "  <thead>\n",
       "    <tr style=\"text-align: right;\">\n",
       "      <th></th>\n",
       "      <th>i#clientid</th>\n",
       "      <th>income</th>\n",
       "      <th>age</th>\n",
       "      <th>loan</th>\n",
       "      <th>c#default</th>\n",
       "    </tr>\n",
       "  </thead>\n",
       "  <tbody>\n",
       "    <tr>\n",
       "      <th>28</th>\n",
       "      <td>29</td>\n",
       "      <td>59417.805406</td>\n",
       "      <td>NaN</td>\n",
       "      <td>2082.625938</td>\n",
       "      <td>0</td>\n",
       "    </tr>\n",
       "    <tr>\n",
       "      <th>30</th>\n",
       "      <td>31</td>\n",
       "      <td>48528.852796</td>\n",
       "      <td>NaN</td>\n",
       "      <td>6155.784670</td>\n",
       "      <td>0</td>\n",
       "    </tr>\n",
       "    <tr>\n",
       "      <th>31</th>\n",
       "      <td>32</td>\n",
       "      <td>23526.302555</td>\n",
       "      <td>NaN</td>\n",
       "      <td>2862.010139</td>\n",
       "      <td>0</td>\n",
       "    </tr>\n",
       "  </tbody>\n",
       "</table>\n",
       "</div>"
      ],
      "text/plain": [
       "    i#clientid        income  age         loan  c#default\n",
       "28          29  59417.805406  NaN  2082.625938          0\n",
       "30          31  48528.852796  NaN  6155.784670          0\n",
       "31          32  23526.302555  NaN  2862.010139          0"
      ]
     },
     "execution_count": 13,
     "metadata": {},
     "output_type": "execute_result"
    }
   ],
   "source": [
    "# verificando quais são os registros\n",
    "df.loc[pd.isnull(df['age'])]  "
   ]
  },
  {
   "cell_type": "code",
   "execution_count": 14,
   "id": "58ea849f-d07f-4ad9-b02a-c727d4404bd2",
   "metadata": {},
   "outputs": [],
   "source": [
    "# Preenchendo os dados faltantes pela media\n",
    "df['age'].fillna(df['age'].mean(), inplace = True)"
   ]
  },
  {
   "cell_type": "code",
   "execution_count": 15,
   "id": "8471f579-da3b-49e3-a555-8f2b0e651b92",
   "metadata": {},
   "outputs": [
    {
     "data": {
      "text/html": [
       "<div>\n",
       "<style scoped>\n",
       "    .dataframe tbody tr th:only-of-type {\n",
       "        vertical-align: middle;\n",
       "    }\n",
       "\n",
       "    .dataframe tbody tr th {\n",
       "        vertical-align: top;\n",
       "    }\n",
       "\n",
       "    .dataframe thead th {\n",
       "        text-align: right;\n",
       "    }\n",
       "</style>\n",
       "<table border=\"1\" class=\"dataframe\">\n",
       "  <thead>\n",
       "    <tr style=\"text-align: right;\">\n",
       "      <th></th>\n",
       "      <th>i#clientid</th>\n",
       "      <th>income</th>\n",
       "      <th>age</th>\n",
       "      <th>loan</th>\n",
       "      <th>c#default</th>\n",
       "    </tr>\n",
       "  </thead>\n",
       "  <tbody>\n",
       "    <tr>\n",
       "      <th>28</th>\n",
       "      <td>29</td>\n",
       "      <td>59417.805406</td>\n",
       "      <td>40.924874</td>\n",
       "      <td>2082.625938</td>\n",
       "      <td>0</td>\n",
       "    </tr>\n",
       "    <tr>\n",
       "      <th>30</th>\n",
       "      <td>31</td>\n",
       "      <td>48528.852796</td>\n",
       "      <td>40.924874</td>\n",
       "      <td>6155.784670</td>\n",
       "      <td>0</td>\n",
       "    </tr>\n",
       "    <tr>\n",
       "      <th>31</th>\n",
       "      <td>32</td>\n",
       "      <td>23526.302555</td>\n",
       "      <td>40.924874</td>\n",
       "      <td>2862.010139</td>\n",
       "      <td>0</td>\n",
       "    </tr>\n",
       "  </tbody>\n",
       "</table>\n",
       "</div>"
      ],
      "text/plain": [
       "    i#clientid        income        age         loan  c#default\n",
       "28          29  59417.805406  40.924874  2082.625938          0\n",
       "30          31  48528.852796  40.924874  6155.784670          0\n",
       "31          32  23526.302555  40.924874  2862.010139          0"
      ]
     },
     "execution_count": 15,
     "metadata": {},
     "output_type": "execute_result"
    }
   ],
   "source": [
    "# verificar os campos anteriores\n",
    "df.loc[df['i#clientid'].isin([29, 31, 32])]"
   ]
  },
  {
   "cell_type": "markdown",
   "id": "1cd4e5f8-d758-4823-af05-1bdea0647e00",
   "metadata": {},
   "source": [
    "# Verificando como esta as nossas classes no target"
   ]
  },
  {
   "cell_type": "markdown",
   "id": "750069c5-cb82-495d-9e5d-fb85a2d3ad61",
   "metadata": {},
   "source": [
    " Percebe-se que nossas classes estão desbalanceadas, mas a frente vamos contornar esta situação, \n",
    " mas antes iremos separar as features classificadoras do target que contem as nossas classes, valores de X e y"
   ]
  },
  {
   "cell_type": "code",
   "execution_count": 16,
   "id": "bf85e8cf-965f-4b7a-b104-56de287bf0ee",
   "metadata": {},
   "outputs": [
    {
     "name": "stdout",
     "output_type": "stream",
     "text": [
      "(array([0, 1]), array([1717,  283]))\n"
     ]
    },
    {
     "data": {
      "text/plain": [
       "<AxesSubplot:xlabel='c#default', ylabel='count'>"
      ]
     },
     "execution_count": 16,
     "metadata": {},
     "output_type": "execute_result"
    },
    {
     "data": {
      "image/png": "[encoded data removed]",
      "text/plain": [
       "<Figure size 576x396 with 1 Axes>"
      ]
     },
     "metadata": {},
     "output_type": "display_data"
    }
   ],
   "source": [
    "print(np.unique(df['c#default'], return_counts=True)) \n",
    "\n",
    "sns.countplot(x = df['c#default'])"
   ]
  },
  {
   "cell_type": "markdown",
   "id": "de98cc4f-3dde-4d67-b865-2be44a959cb3",
   "metadata": {},
   "source": [
    "# Definindo features Classificadoras e as Classes"
   ]
  },
  {
   "cell_type": "code",
   "execution_count": 17,
   "id": "f98f6cf2-0738-482b-8271-af9930f211fb",
   "metadata": {},
   "outputs": [],
   "source": [
    "X = df.drop(columns=['i#clientid', 'c#default'], axis=1)\n",
    "y = df['c#default']"
   ]
  },
  {
   "cell_type": "code",
   "execution_count": 18,
   "id": "ceee8f12-d65d-42b2-ae67-1d60c554f1dc",
   "metadata": {},
   "outputs": [
    {
     "data": {
      "text/html": [
       "<div>\n",
       "<style scoped>\n",
       "    .dataframe tbody tr th:only-of-type {\n",
       "        vertical-align: middle;\n",
       "    }\n",
       "\n",
       "    .dataframe tbody tr th {\n",
       "        vertical-align: top;\n",
       "    }\n",
       "\n",
       "    .dataframe thead th {\n",
       "        text-align: right;\n",
       "    }\n",
       "</style>\n",
       "<table border=\"1\" class=\"dataframe\">\n",
       "  <thead>\n",
       "    <tr style=\"text-align: right;\">\n",
       "      <th></th>\n",
       "      <th>income</th>\n",
       "      <th>age</th>\n",
       "      <th>loan</th>\n",
       "    </tr>\n",
       "  </thead>\n",
       "  <tbody>\n",
       "    <tr>\n",
       "      <th>count</th>\n",
       "      <td>2000.000000</td>\n",
       "      <td>2000.000000</td>\n",
       "      <td>2000.000000</td>\n",
       "    </tr>\n",
       "    <tr>\n",
       "      <th>mean</th>\n",
       "      <td>45331.600018</td>\n",
       "      <td>40.924874</td>\n",
       "      <td>4444.369695</td>\n",
       "    </tr>\n",
       "    <tr>\n",
       "      <th>std</th>\n",
       "      <td>14326.327119</td>\n",
       "      <td>13.257782</td>\n",
       "      <td>3045.410024</td>\n",
       "    </tr>\n",
       "    <tr>\n",
       "      <th>min</th>\n",
       "      <td>20014.489470</td>\n",
       "      <td>18.055189</td>\n",
       "      <td>1.377630</td>\n",
       "    </tr>\n",
       "    <tr>\n",
       "      <th>25%</th>\n",
       "      <td>32796.459717</td>\n",
       "      <td>29.062492</td>\n",
       "      <td>1939.708847</td>\n",
       "    </tr>\n",
       "    <tr>\n",
       "      <th>50%</th>\n",
       "      <td>45789.117313</td>\n",
       "      <td>41.310898</td>\n",
       "      <td>3974.719419</td>\n",
       "    </tr>\n",
       "    <tr>\n",
       "      <th>75%</th>\n",
       "      <td>57791.281668</td>\n",
       "      <td>52.582340</td>\n",
       "      <td>6432.410625</td>\n",
       "    </tr>\n",
       "    <tr>\n",
       "      <th>max</th>\n",
       "      <td>69995.685578</td>\n",
       "      <td>63.971796</td>\n",
       "      <td>13766.051239</td>\n",
       "    </tr>\n",
       "  </tbody>\n",
       "</table>\n",
       "</div>"
      ],
      "text/plain": [
       "             income          age          loan\n",
       "count   2000.000000  2000.000000   2000.000000\n",
       "mean   45331.600018    40.924874   4444.369695\n",
       "std    14326.327119    13.257782   3045.410024\n",
       "min    20014.489470    18.055189      1.377630\n",
       "25%    32796.459717    29.062492   1939.708847\n",
       "50%    45789.117313    41.310898   3974.719419\n",
       "75%    57791.281668    52.582340   6432.410625\n",
       "max    69995.685578    63.971796  13766.051239"
      ]
     },
     "execution_count": 18,
     "metadata": {},
     "output_type": "execute_result"
    }
   ],
   "source": [
    "X.describe()"
   ]
  },
  {
   "cell_type": "markdown",
   "id": "5f098234-ad6a-48b9-97f5-d4d86ab28749",
   "metadata": {},
   "source": [
    "# Split"
   ]
  },
  {
   "cell_type": "code",
   "execution_count": 19,
   "id": "734d2aed-b494-4b3a-872c-b10bd2a0a057",
   "metadata": {},
   "outputs": [],
   "source": [
    "X_train, X_test, y_train, y_test = train_test_split(X, y, test_size=0.25, random_state=0)"
   ]
  },
  {
   "cell_type": "markdown",
   "id": "72266b31-66ca-4a11-a94f-b9fe6d607808",
   "metadata": {},
   "source": [
    "# SMOTE"
   ]
  },
  {
   "cell_type": "code",
   "execution_count": 20,
   "id": "26677c66-2aa4-475e-9e2f-6db527a398dc",
   "metadata": {},
   "outputs": [],
   "source": [
    "smt = SMOTE()\n",
    "\n",
    "X_train, y_train = smt.fit_resample(X_train, y_train)"
   ]
  },
  {
   "cell_type": "markdown",
   "id": "9c15e1cf-c26c-466f-992a-e7a3c8f01670",
   "metadata": {},
   "source": [
    "# Naive Bayes"
   ]
  },
  {
   "cell_type": "code",
   "execution_count": 21,
   "id": "46f7a3f8-9ced-4ff6-bab3-57bc9bc6ed96",
   "metadata": {},
   "outputs": [],
   "source": [
    "clf_nb = GaussianNB()\n",
    "\n",
    "clf_nb.fit(X_train, y_train)\n",
    "\n",
    "previsoes_nb = clf_nb.predict(X_test)"
   ]
  },
  {
   "cell_type": "code",
   "execution_count": 22,
   "id": "99dcf6ce-a41c-47d8-86e2-a6e112cf915f",
   "metadata": {},
   "outputs": [
    {
     "name": "stdout",
     "output_type": "stream",
     "text": [
      "Acuracia: 87.8%\n"
     ]
    }
   ],
   "source": [
    "print(f'Acuracia: {accuracy_score(y_test, previsoes_nb).round(3) * 100}%')"
   ]
  },
  {
   "cell_type": "code",
   "execution_count": 23,
   "id": "4990c7b5-8ec0-4057-9fa5-eba18210105c",
   "metadata": {},
   "outputs": [
    {
     "data": {
      "text/plain": [
       "0.878"
      ]
     },
     "execution_count": 23,
     "metadata": {},
     "output_type": "execute_result"
    },
    {
     "data": {
      "image/png": "[encoded data removed]",
      "text/plain": [
       "<Figure size 576x396 with 1 Axes>"
      ]
     },
     "metadata": {},
     "output_type": "display_data"
    }
   ],
   "source": [
    "clf_nb = ConfusionMatrix(clf_nb)\n",
    "\n",
    "clf_nb.fit(X_train, y_train)\n",
    "\n",
    "clf_nb.score(X_test, y_test)"
   ]
  },
  {
   "cell_type": "markdown",
   "id": "184c1c4f-8621-4840-a58f-179a20a2d1ec",
   "metadata": {},
   "source": [
    "# Decision Tree"
   ]
  },
  {
   "cell_type": "code",
   "execution_count": 24,
   "id": "0681ef97-5786-4ab2-a47d-d7e06d629932",
   "metadata": {},
   "outputs": [],
   "source": [
    "clf_dt = DecisionTreeClassifier(max_depth=5,  random_state=1)\n",
    "\n",
    "clf_dt_fitted = clf_dt.fit(X_train, y_train)\n",
    "\n",
    "previsoes_dt = clf_dt_fitted.predict(X_test)"
   ]
  },
  {
   "cell_type": "code",
   "execution_count": 25,
   "id": "deefa241-d05c-4807-8b69-3207d9230843",
   "metadata": {},
   "outputs": [
    {
     "name": "stdout",
     "output_type": "stream",
     "text": [
      "Acuracia: 97.2%\n"
     ]
    }
   ],
   "source": [
    "print(f'Acuracia: {accuracy_score(y_test, previsoes_dt).round(4) * 100}%')"
   ]
  },
  {
   "cell_type": "code",
   "execution_count": 26,
   "id": "3d3fcf77-eca4-49a7-82b2-70a923b70891",
   "metadata": {},
   "outputs": [
    {
     "data": {
      "text/plain": [
       "0.972"
      ]
     },
     "execution_count": 26,
     "metadata": {},
     "output_type": "execute_result"
    },
    {
     "data": {
      "image/png": "[encoded data removed]",
      "text/plain": [
       "<Figure size 576x396 with 1 Axes>"
      ]
     },
     "metadata": {},
     "output_type": "display_data"
    }
   ],
   "source": [
    "clf_dt = ConfusionMatrix(clf_dt_fitted)\n",
    "\n",
    "clf_dt.fit(X_train, y_train)\n",
    "\n",
    "clf_dt.score(X_test, y_test)"
   ]
  },
  {
   "cell_type": "markdown",
   "id": "d4cdfab3-1ffb-4b31-85ec-68a7e1e4e793",
   "metadata": {},
   "source": [
    "# Random Forest "
   ]
  },
  {
   "cell_type": "code",
   "execution_count": 27,
   "id": "6757a06b-0405-4002-ace1-f233c4272a33",
   "metadata": {},
   "outputs": [],
   "source": [
    "clf_rf = RandomForestClassifier(n_estimators=40, criterion='entropy', random_state = 1)\n",
    "\n",
    "clf_rf.fit(X_train, y_train)\n",
    "\n",
    "previsoes_rf = clf_rf.predict(X_test)"
   ]
  },
  {
   "cell_type": "code",
   "execution_count": 28,
   "id": "4957a96c-5f73-4cf2-90dc-5f3b815e9786",
   "metadata": {},
   "outputs": [
    {
     "name": "stdout",
     "output_type": "stream",
     "text": [
      "Acuracia: 98.6%\n"
     ]
    }
   ],
   "source": [
    "print(f'Acuracia: {accuracy_score(y_test, previsoes_rf).round(3) * 100}%')"
   ]
  },
  {
   "cell_type": "code",
   "execution_count": 29,
   "id": "dbd5a122-0fae-412d-b2a0-1f0462fed7ac",
   "metadata": {},
   "outputs": [
    {
     "data": {
      "text/plain": [
       "0.986"
      ]
     },
     "execution_count": 29,
     "metadata": {},
     "output_type": "execute_result"
    },
    {
     "data": {
      "image/png": "[encoded data removed]",
      "text/plain": [
       "<Figure size 576x396 with 1 Axes>"
      ]
     },
     "metadata": {},
     "output_type": "display_data"
    }
   ],
   "source": [
    "clf_rf = ConfusionMatrix(clf_rf)\n",
    "\n",
    "clf_rf.fit(X_train, y_train)\n",
    "\n",
    "clf_rf.score(X_test, y_test)"
   ]
  },
  {
   "cell_type": "code",
   "execution_count": 30,
   "id": "d358f3c3-6834-4d06-ba35-62809150a3a7",
   "metadata": {},
   "outputs": [
    {
     "name": "stdout",
     "output_type": "stream",
     "text": [
      "              precision    recall  f1-score   support\n",
      "\n",
      "           0       1.00      0.99      0.99       436\n",
      "           1       0.91      0.98      0.95        64\n",
      "\n",
      "    accuracy                           0.99       500\n",
      "   macro avg       0.96      0.99      0.97       500\n",
      "weighted avg       0.99      0.99      0.99       500\n",
      "\n"
     ]
    }
   ],
   "source": [
    "print(classification_report(y_test, previsoes_rf))"
   ]
  },
  {
   "cell_type": "markdown",
   "id": "42fa856c-b475-48c3-abad-99b7373220f6",
   "metadata": {},
   "source": [
    "# KNN"
   ]
  },
  {
   "cell_type": "code",
   "execution_count": 31,
   "id": "5aedcae1-5361-49f9-b316-87459bca28d3",
   "metadata": {},
   "outputs": [
    {
     "name": "stdout",
     "output_type": "stream",
     "text": [
      "Acuracia: 78.4%\n"
     ]
    }
   ],
   "source": [
    "clf_knn = KNeighborsClassifier(n_neighbors=3)\n",
    "\n",
    "clf_knn.fit(X_train, y_train)\n",
    "\n",
    "previsoes_knn = clf_knn.predict(X_test)\n",
    "\n",
    "print(f'Acuracia: {accuracy_score(y_test, previsoes_knn).round(3) * 100}%')"
   ]
  },
  {
   "cell_type": "code",
   "execution_count": 32,
   "id": "f87a0b72-1d3d-44ea-b9ef-992981fb525e",
   "metadata": {},
   "outputs": [
    {
     "data": {
      "text/plain": [
       "0.784"
      ]
     },
     "execution_count": 32,
     "metadata": {},
     "output_type": "execute_result"
    },
    {
     "data": {
      "image/png": "[encoded data removed]",
      "text/plain": [
       "<Figure size 576x396 with 1 Axes>"
      ]
     },
     "metadata": {},
     "output_type": "display_data"
    }
   ],
   "source": [
    "clf_knn = ConfusionMatrix(clf_knn)\n",
    "\n",
    "clf_knn.fit(X_train, y_train)\n",
    "\n",
    "clf_knn.score(X_test, y_test)"
   ]
  },
  {
   "cell_type": "code",
   "execution_count": 33,
   "id": "713e6d6a-8a9e-43ee-acf9-7556189552d8",
   "metadata": {},
   "outputs": [
    {
     "name": "stdout",
     "output_type": "stream",
     "text": [
      "              precision    recall  f1-score   support\n",
      "\n",
      "           0       0.94      0.80      0.87       436\n",
      "           1       0.33      0.67      0.44        64\n",
      "\n",
      "    accuracy                           0.78       500\n",
      "   macro avg       0.64      0.74      0.65       500\n",
      "weighted avg       0.86      0.78      0.81       500\n",
      "\n"
     ]
    }
   ],
   "source": [
    "print(classification_report(y_test, previsoes_knn))"
   ]
  },
  {
   "cell_type": "markdown",
   "id": "227fe7d1-d004-4908-a46b-a88a4466372c",
   "metadata": {},
   "source": [
    "# SVM"
   ]
  },
  {
   "cell_type": "code",
   "execution_count": 34,
   "id": "469bce0e-bec3-40e5-882f-2dc10724e16f",
   "metadata": {},
   "outputs": [
    {
     "name": "stdout",
     "output_type": "stream",
     "text": [
      "Acuracia: 75.8 %\n"
     ]
    }
   ],
   "source": [
    "clf_svm = SVC(kernel='rbf', random_state=1, C = 2.0)\n",
    "\n",
    "clf_svm.fit(X_train, y_train)\n",
    "\n",
    "previsoes_svm = clf_svm.predict(X_test)\n",
    "\n",
    "print(f'Acuracia: {accuracy_score(y_test, previsoes_svm).round(3) * 100} %')"
   ]
  },
  {
   "cell_type": "code",
   "execution_count": 35,
   "id": "3f9d2537-311e-4ef8-a7c5-e1f979d94862",
   "metadata": {},
   "outputs": [
    {
     "data": {
      "text/plain": [
       "0.758"
      ]
     },
     "execution_count": 35,
     "metadata": {},
     "output_type": "execute_result"
    },
    {
     "data": {
      "image/png": "[encoded data removed]",
      "text/plain": [
       "<Figure size 576x396 with 1 Axes>"
      ]
     },
     "metadata": {},
     "output_type": "display_data"
    }
   ],
   "source": [
    "clf_svm = ConfusionMatrix(clf_svm)\n",
    "\n",
    "clf_svm.fit(X_train, y_train)\n",
    "\n",
    "clf_svm.score(X_test, y_test)"
   ]
  },
  {
   "cell_type": "code",
   "execution_count": 36,
   "id": "d81722ee-34b4-4939-bd1c-f9d1702fef82",
   "metadata": {},
   "outputs": [
    {
     "name": "stdout",
     "output_type": "stream",
     "text": [
      "              precision    recall  f1-score   support\n",
      "\n",
      "           0       0.99      0.73      0.84       436\n",
      "           1       0.34      0.95      0.50        64\n",
      "\n",
      "    accuracy                           0.76       500\n",
      "   macro avg       0.67      0.84      0.67       500\n",
      "weighted avg       0.91      0.76      0.80       500\n",
      "\n"
     ]
    }
   ],
   "source": [
    "print(classification_report(y_test, previsoes_svm))"
   ]
  },
  {
   "cell_type": "markdown",
   "id": "d23d4529",
   "metadata": {},
   "source": [
    "# Regressão Logística "
   ]
  },
  {
   "cell_type": "code",
   "execution_count": 37,
   "id": "05d57f41",
   "metadata": {},
   "outputs": [
    {
     "name": "stdout",
     "output_type": "stream",
     "text": [
      "Acuracia: 89.2 %\n"
     ]
    }
   ],
   "source": [
    "clf_logistic = LogisticRegression(random_state=1, max_iter=300)\n",
    "\n",
    "clf_logistic.fit(X_train, y_train)\n",
    "\n",
    "previsoes_logistic = clf_logistic.predict(X_test)\n",
    "\n",
    "print(f'Acuracia: {accuracy_score(y_test, previsoes_logistic).round(4) * 100} %')\n"
   ]
  },
  {
   "cell_type": "code",
   "execution_count": 38,
   "id": "24bfaaa3",
   "metadata": {},
   "outputs": [
    {
     "data": {
      "text/plain": [
       "array([7.51640244e-05])"
      ]
     },
     "execution_count": 38,
     "metadata": {},
     "output_type": "execute_result"
    }
   ],
   "source": [
    "clf_logistic.intercept_"
   ]
  },
  {
   "cell_type": "code",
   "execution_count": 39,
   "id": "6ded75e4",
   "metadata": {},
   "outputs": [
    {
     "data": {
      "text/plain": [
       "array([[-6.31573915e-05, -1.10641489e-01,  1.06518600e-03]])"
      ]
     },
     "execution_count": 39,
     "metadata": {},
     "output_type": "execute_result"
    }
   ],
   "source": [
    "clf_logistic.coef_"
   ]
  },
  {
   "cell_type": "code",
   "execution_count": 40,
   "id": "e7d9fae0",
   "metadata": {},
   "outputs": [
    {
     "data": {
      "text/plain": [
       "0.892"
      ]
     },
     "execution_count": 40,
     "metadata": {},
     "output_type": "execute_result"
    },
    {
     "data": {
      "image/png": "[encoded data removed]",
      "text/plain": [
       "<Figure size 576x396 with 1 Axes>"
      ]
     },
     "metadata": {},
     "output_type": "display_data"
    }
   ],
   "source": [
    "clf_reg_log = ConfusionMatrix(clf_logistic)\n",
    "\n",
    "clf_reg_log.fit(X_train, y_train)\n",
    "\n",
    "clf_reg_log.score(X_test, y_test)"
   ]
  },
  {
   "cell_type": "code",
   "execution_count": 41,
   "id": "b7789b43",
   "metadata": {},
   "outputs": [
    {
     "name": "stdout",
     "output_type": "stream",
     "text": [
      "              precision    recall  f1-score   support\n",
      "\n",
      "           0       0.97      0.91      0.94       436\n",
      "           1       0.56      0.78      0.65        64\n",
      "\n",
      "    accuracy                           0.89       500\n",
      "   macro avg       0.76      0.84      0.79       500\n",
      "weighted avg       0.91      0.89      0.90       500\n",
      "\n"
     ]
    }
   ],
   "source": [
    "print(classification_report(y_test, previsoes_logistic))\n"
   ]
  },
  {
   "cell_type": "markdown",
   "id": "d2f0f34e-364f-401b-aebc-842e3a809f89",
   "metadata": {},
   "source": [
    "# XGBoost"
   ]
  },
  {
   "cell_type": "code",
   "execution_count": 42,
   "id": "8337fe10",
   "metadata": {},
   "outputs": [
    {
     "name": "stdout",
     "output_type": "stream",
     "text": [
      "[16:58:59] WARNING: ../src/learner.cc:1095: Starting in XGBoost 1.3.0, the default evaluation metric used with the objective 'binary:logistic' was changed from 'error' to 'logloss'. Explicitly set eval_metric if you'd like to restore the old behavior.\n"
     ]
    }
   ],
   "source": [
    "clf_xgb = XGBClassifier()\n",
    "\n",
    "clf_xgb.fit(X_train, y_train)\n",
    "\n",
    "previsoes_xgb = clf_xgb.predict(X_test)"
   ]
  },
  {
   "cell_type": "code",
   "execution_count": 43,
   "id": "3562c2f4",
   "metadata": {},
   "outputs": [
    {
     "name": "stdout",
     "output_type": "stream",
     "text": [
      "Acuracia: 98.4 %\n"
     ]
    }
   ],
   "source": [
    "print(f'Acuracia: {accuracy_score(y_test, previsoes_xgb).round(4) * 100} %')"
   ]
  },
  {
   "cell_type": "code",
   "execution_count": 44,
   "id": "c8531d4b",
   "metadata": {},
   "outputs": [
    {
     "data": {
      "text/plain": [
       "0.984"
      ]
     },
     "execution_count": 44,
     "metadata": {},
     "output_type": "execute_result"
    },
    {
     "data": {
      "image/png": "[encoded data removed]",
      "text/plain": [
       "<Figure size 576x396 with 1 Axes>"
      ]
     },
     "metadata": {},
     "output_type": "display_data"
    }
   ],
   "source": [
    "cm = ConfusionMatrix(clf_xgb)\n",
    "\n",
    "cm.fit(X_train, y_train)\n",
    "\n",
    "cm.score(X_test, y_test)"
   ]
  },
  {
   "cell_type": "code",
   "execution_count": 45,
   "id": "7bb6a15c",
   "metadata": {},
   "outputs": [
    {
     "name": "stdout",
     "output_type": "stream",
     "text": [
      "              precision    recall  f1-score   support\n",
      "\n",
      "           0       1.00      0.99      0.99       436\n",
      "           1       0.91      0.97      0.94        64\n",
      "\n",
      "    accuracy                           0.98       500\n",
      "   macro avg       0.95      0.98      0.97       500\n",
      "weighted avg       0.98      0.98      0.98       500\n",
      "\n"
     ]
    }
   ],
   "source": [
    "print(classification_report(y_test, previsoes_xgb))"
   ]
  },
  {
   "cell_type": "code",
   "execution_count": 50,
   "id": "16288854",
   "metadata": {},
   "outputs": [
    {
     "data": {
      "image/png": "[encoded data removed]",
      "text/plain": [
       "<Figure size 576x216 with 3 Axes>"
      ]
     },
     "metadata": {},
     "output_type": "display_data"
    }
   ],
   "source": [
    "explainer = shap.Explainer(clf_xgb)\n",
    "shap_values = explainer(X_train)\n",
    "\n",
    "shap.plots.waterfall(shap_values[0])"
   ]
  },
  {
   "cell_type": "markdown",
   "id": "cef84b52-3435-4efd-8275-b6382f996258",
   "metadata": {},
   "source": [
    "# CATBoost"
   ]
  },
  {
   "cell_type": "code",
   "execution_count": 47,
   "id": "d25f974a-1233-40ed-b199-af0553de0e71",
   "metadata": {},
   "outputs": [
    {
     "name": "stdout",
     "output_type": "stream",
     "text": [
      "Learning rate set to 0.015396\n",
      "0:\tlearn: 0.6645660\ttotal: 49.4ms\tremaining: 49.4s\n",
      "1:\tlearn: 0.6375990\ttotal: 53.7ms\tremaining: 26.8s\n",
      "2:\tlearn: 0.6116317\ttotal: 67.1ms\tremaining: 22.3s\n",
      "3:\tlearn: 0.5874444\ttotal: 70.3ms\tremaining: 17.5s\n",
      "4:\tlearn: 0.5635601\ttotal: 73.9ms\tremaining: 14.7s\n",
      "5:\tlearn: 0.5387421\ttotal: 85.9ms\tremaining: 14.2s\n",
      "6:\tlearn: 0.5139263\ttotal: 97.1ms\tremaining: 13.8s\n",
      "7:\tlearn: 0.4926123\ttotal: 101ms\tremaining: 12.5s\n",
      "8:\tlearn: 0.4703373\ttotal: 108ms\tremaining: 11.9s\n",
      "9:\tlearn: 0.4495641\ttotal: 112ms\tremaining: 11s\n",
      "10:\tlearn: 0.4298067\ttotal: 125ms\tremaining: 11.2s\n",
      "11:\tlearn: 0.4173857\ttotal: 138ms\tremaining: 11.3s\n",
      "12:\tlearn: 0.4024580\ttotal: 140ms\tremaining: 10.7s\n",
      "13:\tlearn: 0.3901558\ttotal: 168ms\tremaining: 11.8s\n",
      "14:\tlearn: 0.3770966\ttotal: 170ms\tremaining: 11.2s\n",
      "15:\tlearn: 0.3619474\ttotal: 173ms\tremaining: 10.6s\n",
      "16:\tlearn: 0.3482219\ttotal: 176ms\tremaining: 10.2s\n",
      "17:\tlearn: 0.3360536\ttotal: 179ms\tremaining: 9.74s\n",
      "18:\tlearn: 0.3256633\ttotal: 181ms\tremaining: 9.36s\n",
      "19:\tlearn: 0.3151038\ttotal: 186ms\tremaining: 9.13s\n",
      "20:\tlearn: 0.3055281\ttotal: 192ms\tremaining: 8.95s\n",
      "21:\tlearn: 0.2959848\ttotal: 199ms\tremaining: 8.84s\n",
      "22:\tlearn: 0.2855251\ttotal: 204ms\tremaining: 8.66s\n",
      "23:\tlearn: 0.2763343\ttotal: 207ms\tremaining: 8.4s\n",
      "24:\tlearn: 0.2686451\ttotal: 210ms\tremaining: 8.17s\n",
      "25:\tlearn: 0.2589151\ttotal: 218ms\tremaining: 8.15s\n",
      "26:\tlearn: 0.2507775\ttotal: 221ms\tremaining: 7.95s\n",
      "27:\tlearn: 0.2436825\ttotal: 231ms\tremaining: 8.02s\n",
      "28:\tlearn: 0.2368225\ttotal: 241ms\tremaining: 8.08s\n",
      "29:\tlearn: 0.2292495\ttotal: 246ms\tremaining: 7.95s\n",
      "30:\tlearn: 0.2219144\ttotal: 248ms\tremaining: 7.76s\n",
      "31:\tlearn: 0.2157774\ttotal: 251ms\tremaining: 7.59s\n",
      "32:\tlearn: 0.2096375\ttotal: 255ms\tremaining: 7.46s\n",
      "33:\tlearn: 0.2036614\ttotal: 260ms\tremaining: 7.38s\n",
      "34:\tlearn: 0.1989123\ttotal: 265ms\tremaining: 7.32s\n",
      "35:\tlearn: 0.1930358\ttotal: 270ms\tremaining: 7.24s\n",
      "36:\tlearn: 0.1878284\ttotal: 277ms\tremaining: 7.22s\n",
      "37:\tlearn: 0.1816670\ttotal: 281ms\tremaining: 7.11s\n",
      "38:\tlearn: 0.1767636\ttotal: 297ms\tremaining: 7.33s\n",
      "39:\tlearn: 0.1724496\ttotal: 300ms\tremaining: 7.2s\n",
      "40:\tlearn: 0.1683119\ttotal: 303ms\tremaining: 7.08s\n",
      "41:\tlearn: 0.1643732\ttotal: 307ms\tremaining: 7.01s\n",
      "42:\tlearn: 0.1606871\ttotal: 311ms\tremaining: 6.91s\n",
      "43:\tlearn: 0.1563176\ttotal: 322ms\tremaining: 6.99s\n",
      "44:\tlearn: 0.1525560\ttotal: 324ms\tremaining: 6.88s\n",
      "45:\tlearn: 0.1485149\ttotal: 327ms\tremaining: 6.77s\n",
      "46:\tlearn: 0.1451784\ttotal: 338ms\tremaining: 6.86s\n",
      "47:\tlearn: 0.1418255\ttotal: 341ms\tremaining: 6.76s\n",
      "48:\tlearn: 0.1381269\ttotal: 343ms\tremaining: 6.67s\n",
      "49:\tlearn: 0.1352636\ttotal: 346ms\tremaining: 6.58s\n",
      "50:\tlearn: 0.1328843\ttotal: 349ms\tremaining: 6.49s\n",
      "51:\tlearn: 0.1297041\ttotal: 351ms\tremaining: 6.4s\n",
      "52:\tlearn: 0.1267842\ttotal: 354ms\tremaining: 6.32s\n",
      "53:\tlearn: 0.1253060\ttotal: 356ms\tremaining: 6.24s\n",
      "54:\tlearn: 0.1230177\ttotal: 359ms\tremaining: 6.16s\n",
      "55:\tlearn: 0.1202215\ttotal: 361ms\tremaining: 6.09s\n",
      "56:\tlearn: 0.1171834\ttotal: 364ms\tremaining: 6.02s\n",
      "57:\tlearn: 0.1154708\ttotal: 366ms\tremaining: 5.95s\n",
      "58:\tlearn: 0.1136657\ttotal: 369ms\tremaining: 5.88s\n",
      "59:\tlearn: 0.1120803\ttotal: 371ms\tremaining: 5.81s\n",
      "60:\tlearn: 0.1092762\ttotal: 374ms\tremaining: 5.75s\n",
      "61:\tlearn: 0.1071532\ttotal: 376ms\tremaining: 5.69s\n",
      "62:\tlearn: 0.1046428\ttotal: 379ms\tremaining: 5.63s\n",
      "63:\tlearn: 0.1023458\ttotal: 381ms\tremaining: 5.57s\n",
      "64:\tlearn: 0.1007494\ttotal: 383ms\tremaining: 5.51s\n",
      "65:\tlearn: 0.0990964\ttotal: 386ms\tremaining: 5.46s\n",
      "66:\tlearn: 0.0974313\ttotal: 388ms\tremaining: 5.41s\n",
      "67:\tlearn: 0.0958246\ttotal: 391ms\tremaining: 5.36s\n",
      "68:\tlearn: 0.0942845\ttotal: 394ms\tremaining: 5.31s\n",
      "69:\tlearn: 0.0927501\ttotal: 397ms\tremaining: 5.27s\n",
      "70:\tlearn: 0.0910427\ttotal: 399ms\tremaining: 5.22s\n",
      "71:\tlearn: 0.0893593\ttotal: 402ms\tremaining: 5.18s\n",
      "72:\tlearn: 0.0875050\ttotal: 404ms\tremaining: 5.13s\n",
      "73:\tlearn: 0.0862739\ttotal: 407ms\tremaining: 5.09s\n",
      "74:\tlearn: 0.0845577\ttotal: 409ms\tremaining: 5.04s\n",
      "75:\tlearn: 0.0833167\ttotal: 412ms\tremaining: 5s\n",
      "76:\tlearn: 0.0824317\ttotal: 414ms\tremaining: 4.96s\n",
      "77:\tlearn: 0.0814106\ttotal: 417ms\tremaining: 4.92s\n",
      "78:\tlearn: 0.0799716\ttotal: 419ms\tremaining: 4.89s\n",
      "79:\tlearn: 0.0790885\ttotal: 422ms\tremaining: 4.85s\n",
      "80:\tlearn: 0.0777235\ttotal: 424ms\tremaining: 4.81s\n",
      "81:\tlearn: 0.0768472\ttotal: 427ms\tremaining: 4.78s\n",
      "82:\tlearn: 0.0757978\ttotal: 429ms\tremaining: 4.74s\n",
      "83:\tlearn: 0.0746912\ttotal: 432ms\tremaining: 4.72s\n",
      "84:\tlearn: 0.0737889\ttotal: 435ms\tremaining: 4.68s\n",
      "85:\tlearn: 0.0726880\ttotal: 438ms\tremaining: 4.65s\n",
      "86:\tlearn: 0.0717072\ttotal: 440ms\tremaining: 4.62s\n",
      "87:\tlearn: 0.0704271\ttotal: 443ms\tremaining: 4.59s\n",
      "88:\tlearn: 0.0696143\ttotal: 446ms\tremaining: 4.56s\n",
      "89:\tlearn: 0.0686023\ttotal: 448ms\tremaining: 4.53s\n",
      "90:\tlearn: 0.0672548\ttotal: 451ms\tremaining: 4.5s\n",
      "91:\tlearn: 0.0665817\ttotal: 453ms\tremaining: 4.47s\n",
      "92:\tlearn: 0.0658165\ttotal: 456ms\tremaining: 4.45s\n",
      "93:\tlearn: 0.0650307\ttotal: 459ms\tremaining: 4.42s\n",
      "94:\tlearn: 0.0642976\ttotal: 462ms\tremaining: 4.4s\n",
      "95:\tlearn: 0.0639853\ttotal: 465ms\tremaining: 4.38s\n",
      "96:\tlearn: 0.0635649\ttotal: 467ms\tremaining: 4.35s\n",
      "97:\tlearn: 0.0623240\ttotal: 470ms\tremaining: 4.32s\n",
      "98:\tlearn: 0.0615430\ttotal: 476ms\tremaining: 4.33s\n",
      "99:\tlearn: 0.0610417\ttotal: 479ms\tremaining: 4.31s\n",
      "100:\tlearn: 0.0605201\ttotal: 481ms\tremaining: 4.29s\n",
      "101:\tlearn: 0.0596734\ttotal: 485ms\tremaining: 4.26s\n",
      "102:\tlearn: 0.0592258\ttotal: 487ms\tremaining: 4.24s\n",
      "103:\tlearn: 0.0586401\ttotal: 492ms\tremaining: 4.24s\n",
      "104:\tlearn: 0.0579090\ttotal: 495ms\tremaining: 4.22s\n",
      "105:\tlearn: 0.0574029\ttotal: 498ms\tremaining: 4.2s\n",
      "106:\tlearn: 0.0567140\ttotal: 501ms\tremaining: 4.18s\n",
      "107:\tlearn: 0.0561358\ttotal: 505ms\tremaining: 4.17s\n",
      "108:\tlearn: 0.0557409\ttotal: 508ms\tremaining: 4.15s\n",
      "109:\tlearn: 0.0550874\ttotal: 511ms\tremaining: 4.13s\n",
      "110:\tlearn: 0.0543116\ttotal: 514ms\tremaining: 4.12s\n",
      "111:\tlearn: 0.0535382\ttotal: 518ms\tremaining: 4.1s\n",
      "112:\tlearn: 0.0531562\ttotal: 521ms\tremaining: 4.09s\n",
      "113:\tlearn: 0.0526910\ttotal: 525ms\tremaining: 4.08s\n",
      "114:\tlearn: 0.0523439\ttotal: 529ms\tremaining: 4.07s\n",
      "115:\tlearn: 0.0518758\ttotal: 532ms\tremaining: 4.05s\n",
      "116:\tlearn: 0.0514753\ttotal: 537ms\tremaining: 4.05s\n",
      "117:\tlearn: 0.0509860\ttotal: 539ms\tremaining: 4.03s\n",
      "118:\tlearn: 0.0504441\ttotal: 545ms\tremaining: 4.03s\n",
      "119:\tlearn: 0.0500088\ttotal: 548ms\tremaining: 4.02s\n",
      "120:\tlearn: 0.0496154\ttotal: 552ms\tremaining: 4.01s\n",
      "121:\tlearn: 0.0488362\ttotal: 556ms\tremaining: 4s\n",
      "122:\tlearn: 0.0484656\ttotal: 559ms\tremaining: 3.98s\n",
      "123:\tlearn: 0.0479597\ttotal: 562ms\tremaining: 3.97s\n",
      "124:\tlearn: 0.0474836\ttotal: 568ms\tremaining: 3.98s\n",
      "125:\tlearn: 0.0469930\ttotal: 571ms\tremaining: 3.96s\n",
      "126:\tlearn: 0.0464799\ttotal: 574ms\tremaining: 3.94s\n",
      "127:\tlearn: 0.0462220\ttotal: 577ms\tremaining: 3.93s\n",
      "128:\tlearn: 0.0458332\ttotal: 580ms\tremaining: 3.91s\n",
      "129:\tlearn: 0.0456024\ttotal: 583ms\tremaining: 3.9s\n",
      "130:\tlearn: 0.0453334\ttotal: 586ms\tremaining: 3.89s\n",
      "131:\tlearn: 0.0449614\ttotal: 589ms\tremaining: 3.87s\n",
      "132:\tlearn: 0.0445426\ttotal: 594ms\tremaining: 3.87s\n",
      "133:\tlearn: 0.0442592\ttotal: 597ms\tremaining: 3.86s\n",
      "134:\tlearn: 0.0437016\ttotal: 600ms\tremaining: 3.84s\n",
      "135:\tlearn: 0.0433839\ttotal: 602ms\tremaining: 3.83s\n",
      "136:\tlearn: 0.0430337\ttotal: 607ms\tremaining: 3.82s\n",
      "137:\tlearn: 0.0423962\ttotal: 610ms\tremaining: 3.81s\n",
      "138:\tlearn: 0.0420256\ttotal: 614ms\tremaining: 3.8s\n",
      "139:\tlearn: 0.0415414\ttotal: 617ms\tremaining: 3.79s\n",
      "140:\tlearn: 0.0414049\ttotal: 620ms\tremaining: 3.78s\n",
      "141:\tlearn: 0.0412187\ttotal: 624ms\tremaining: 3.77s\n",
      "142:\tlearn: 0.0408024\ttotal: 632ms\tremaining: 3.79s\n",
      "143:\tlearn: 0.0403674\ttotal: 636ms\tremaining: 3.78s\n",
      "144:\tlearn: 0.0401266\ttotal: 639ms\tremaining: 3.77s\n",
      "145:\tlearn: 0.0397692\ttotal: 642ms\tremaining: 3.75s\n",
      "146:\tlearn: 0.0395155\ttotal: 646ms\tremaining: 3.75s\n",
      "147:\tlearn: 0.0392164\ttotal: 649ms\tremaining: 3.74s\n",
      "148:\tlearn: 0.0388912\ttotal: 653ms\tremaining: 3.73s\n",
      "149:\tlearn: 0.0386031\ttotal: 655ms\tremaining: 3.71s\n",
      "150:\tlearn: 0.0381999\ttotal: 658ms\tremaining: 3.7s\n",
      "151:\tlearn: 0.0379419\ttotal: 661ms\tremaining: 3.69s\n",
      "152:\tlearn: 0.0375516\ttotal: 663ms\tremaining: 3.67s\n",
      "153:\tlearn: 0.0371847\ttotal: 666ms\tremaining: 3.66s\n",
      "154:\tlearn: 0.0368358\ttotal: 669ms\tremaining: 3.64s\n",
      "155:\tlearn: 0.0364343\ttotal: 671ms\tremaining: 3.63s\n",
      "156:\tlearn: 0.0362434\ttotal: 674ms\tremaining: 3.62s\n",
      "157:\tlearn: 0.0360332\ttotal: 677ms\tremaining: 3.61s\n",
      "158:\tlearn: 0.0357951\ttotal: 679ms\tremaining: 3.59s\n",
      "159:\tlearn: 0.0355579\ttotal: 682ms\tremaining: 3.58s\n",
      "160:\tlearn: 0.0353225\ttotal: 686ms\tremaining: 3.58s\n",
      "161:\tlearn: 0.0350377\ttotal: 693ms\tremaining: 3.58s\n",
      "162:\tlearn: 0.0348418\ttotal: 712ms\tremaining: 3.66s\n",
      "163:\tlearn: 0.0346309\ttotal: 715ms\tremaining: 3.65s\n",
      "164:\tlearn: 0.0344839\ttotal: 718ms\tremaining: 3.63s\n",
      "165:\tlearn: 0.0343742\ttotal: 724ms\tremaining: 3.64s\n",
      "166:\tlearn: 0.0343285\ttotal: 727ms\tremaining: 3.62s\n",
      "167:\tlearn: 0.0340450\ttotal: 729ms\tremaining: 3.61s\n",
      "168:\tlearn: 0.0337557\ttotal: 732ms\tremaining: 3.6s\n",
      "169:\tlearn: 0.0333191\ttotal: 735ms\tremaining: 3.59s\n",
      "170:\tlearn: 0.0330544\ttotal: 738ms\tremaining: 3.58s\n",
      "171:\tlearn: 0.0328365\ttotal: 741ms\tremaining: 3.57s\n",
      "172:\tlearn: 0.0323975\ttotal: 744ms\tremaining: 3.56s\n",
      "173:\tlearn: 0.0320458\ttotal: 746ms\tremaining: 3.54s\n",
      "174:\tlearn: 0.0318720\ttotal: 749ms\tremaining: 3.53s\n",
      "175:\tlearn: 0.0315503\ttotal: 752ms\tremaining: 3.52s\n",
      "176:\tlearn: 0.0313469\ttotal: 755ms\tremaining: 3.51s\n",
      "177:\tlearn: 0.0310045\ttotal: 759ms\tremaining: 3.5s\n",
      "178:\tlearn: 0.0307516\ttotal: 761ms\tremaining: 3.49s\n",
      "179:\tlearn: 0.0306470\ttotal: 764ms\tremaining: 3.48s\n",
      "180:\tlearn: 0.0304120\ttotal: 766ms\tremaining: 3.47s\n",
      "181:\tlearn: 0.0302859\ttotal: 769ms\tremaining: 3.46s\n",
      "182:\tlearn: 0.0302439\ttotal: 772ms\tremaining: 3.45s\n",
      "183:\tlearn: 0.0300030\ttotal: 775ms\tremaining: 3.44s\n",
      "184:\tlearn: 0.0298617\ttotal: 780ms\tremaining: 3.44s\n",
      "185:\tlearn: 0.0297028\ttotal: 783ms\tremaining: 3.43s\n",
      "186:\tlearn: 0.0295633\ttotal: 786ms\tremaining: 3.42s\n",
      "187:\tlearn: 0.0293688\ttotal: 788ms\tremaining: 3.4s\n",
      "188:\tlearn: 0.0292135\ttotal: 791ms\tremaining: 3.39s\n",
      "189:\tlearn: 0.0289475\ttotal: 793ms\tremaining: 3.38s\n",
      "190:\tlearn: 0.0288873\ttotal: 796ms\tremaining: 3.37s\n",
      "191:\tlearn: 0.0286722\ttotal: 798ms\tremaining: 3.36s\n",
      "192:\tlearn: 0.0284963\ttotal: 801ms\tremaining: 3.35s\n",
      "193:\tlearn: 0.0284133\ttotal: 803ms\tremaining: 3.34s\n",
      "194:\tlearn: 0.0281242\ttotal: 806ms\tremaining: 3.33s\n",
      "195:\tlearn: 0.0280127\ttotal: 808ms\tremaining: 3.31s\n",
      "196:\tlearn: 0.0277787\ttotal: 811ms\tremaining: 3.3s\n",
      "197:\tlearn: 0.0276300\ttotal: 813ms\tremaining: 3.29s\n",
      "198:\tlearn: 0.0274466\ttotal: 816ms\tremaining: 3.28s\n",
      "199:\tlearn: 0.0274065\ttotal: 818ms\tremaining: 3.27s\n",
      "200:\tlearn: 0.0272852\ttotal: 821ms\tremaining: 3.26s\n",
      "201:\tlearn: 0.0272368\ttotal: 823ms\tremaining: 3.25s\n",
      "202:\tlearn: 0.0270042\ttotal: 826ms\tremaining: 3.24s\n",
      "203:\tlearn: 0.0267422\ttotal: 828ms\tremaining: 3.23s\n",
      "204:\tlearn: 0.0266763\ttotal: 831ms\tremaining: 3.22s\n",
      "205:\tlearn: 0.0264967\ttotal: 834ms\tremaining: 3.21s\n",
      "206:\tlearn: 0.0262719\ttotal: 837ms\tremaining: 3.21s\n",
      "207:\tlearn: 0.0262355\ttotal: 839ms\tremaining: 3.19s\n",
      "208:\tlearn: 0.0260009\ttotal: 842ms\tremaining: 3.19s\n",
      "209:\tlearn: 0.0258869\ttotal: 844ms\tremaining: 3.18s\n",
      "210:\tlearn: 0.0258211\ttotal: 847ms\tremaining: 3.17s\n",
      "211:\tlearn: 0.0256385\ttotal: 850ms\tremaining: 3.16s\n",
      "212:\tlearn: 0.0255848\ttotal: 853ms\tremaining: 3.15s\n",
      "213:\tlearn: 0.0254703\ttotal: 856ms\tremaining: 3.14s\n",
      "214:\tlearn: 0.0252735\ttotal: 859ms\tremaining: 3.14s\n",
      "215:\tlearn: 0.0252164\ttotal: 862ms\tremaining: 3.13s\n",
      "216:\tlearn: 0.0249439\ttotal: 865ms\tremaining: 3.12s\n",
      "217:\tlearn: 0.0248388\ttotal: 869ms\tremaining: 3.12s\n",
      "218:\tlearn: 0.0247734\ttotal: 872ms\tremaining: 3.11s\n",
      "219:\tlearn: 0.0247160\ttotal: 874ms\tremaining: 3.1s\n",
      "220:\tlearn: 0.0246488\ttotal: 877ms\tremaining: 3.09s\n",
      "221:\tlearn: 0.0245709\ttotal: 883ms\tremaining: 3.09s\n",
      "222:\tlearn: 0.0244752\ttotal: 886ms\tremaining: 3.09s\n",
      "223:\tlearn: 0.0244551\ttotal: 890ms\tremaining: 3.08s\n",
      "224:\tlearn: 0.0242774\ttotal: 898ms\tremaining: 3.09s\n",
      "225:\tlearn: 0.0241616\ttotal: 914ms\tremaining: 3.13s\n",
      "226:\tlearn: 0.0240777\ttotal: 918ms\tremaining: 3.12s\n",
      "227:\tlearn: 0.0239430\ttotal: 920ms\tremaining: 3.12s\n",
      "228:\tlearn: 0.0238735\ttotal: 923ms\tremaining: 3.11s\n",
      "229:\tlearn: 0.0237775\ttotal: 927ms\tremaining: 3.1s\n",
      "230:\tlearn: 0.0235716\ttotal: 931ms\tremaining: 3.1s\n",
      "231:\tlearn: 0.0233469\ttotal: 936ms\tremaining: 3.1s\n",
      "232:\tlearn: 0.0232384\ttotal: 942ms\tremaining: 3.1s\n",
      "233:\tlearn: 0.0230142\ttotal: 956ms\tremaining: 3.13s\n",
      "234:\tlearn: 0.0229118\ttotal: 959ms\tremaining: 3.12s\n",
      "235:\tlearn: 0.0228482\ttotal: 962ms\tremaining: 3.11s\n",
      "236:\tlearn: 0.0228238\ttotal: 971ms\tremaining: 3.12s\n",
      "237:\tlearn: 0.0227150\ttotal: 973ms\tremaining: 3.12s\n",
      "238:\tlearn: 0.0226383\ttotal: 977ms\tremaining: 3.11s\n",
      "239:\tlearn: 0.0225005\ttotal: 979ms\tremaining: 3.1s\n",
      "240:\tlearn: 0.0224179\ttotal: 982ms\tremaining: 3.09s\n",
      "241:\tlearn: 0.0222020\ttotal: 985ms\tremaining: 3.08s\n",
      "242:\tlearn: 0.0221650\ttotal: 987ms\tremaining: 3.08s\n",
      "243:\tlearn: 0.0219690\ttotal: 991ms\tremaining: 3.07s\n",
      "244:\tlearn: 0.0218917\ttotal: 994ms\tremaining: 3.06s\n",
      "245:\tlearn: 0.0217875\ttotal: 997ms\tremaining: 3.05s\n",
      "246:\tlearn: 0.0217347\ttotal: 1.01s\tremaining: 3.08s\n",
      "247:\tlearn: 0.0216568\ttotal: 1.02s\tremaining: 3.08s\n",
      "248:\tlearn: 0.0215154\ttotal: 1.02s\tremaining: 3.09s\n",
      "249:\tlearn: 0.0213387\ttotal: 1.03s\tremaining: 3.09s\n",
      "250:\tlearn: 0.0213140\ttotal: 1.03s\tremaining: 3.08s\n",
      "251:\tlearn: 0.0211839\ttotal: 1.04s\tremaining: 3.08s\n",
      "252:\tlearn: 0.0210211\ttotal: 1.04s\tremaining: 3.07s\n",
      "253:\tlearn: 0.0209026\ttotal: 1.04s\tremaining: 3.07s\n",
      "254:\tlearn: 0.0208750\ttotal: 1.05s\tremaining: 3.07s\n",
      "255:\tlearn: 0.0208027\ttotal: 1.06s\tremaining: 3.09s\n",
      "256:\tlearn: 0.0206654\ttotal: 1.07s\tremaining: 3.09s\n",
      "257:\tlearn: 0.0206542\ttotal: 1.07s\tremaining: 3.08s\n",
      "258:\tlearn: 0.0205909\ttotal: 1.07s\tremaining: 3.08s\n",
      "259:\tlearn: 0.0205575\ttotal: 1.08s\tremaining: 3.07s\n",
      "260:\tlearn: 0.0205405\ttotal: 1.08s\tremaining: 3.06s\n",
      "261:\tlearn: 0.0204386\ttotal: 1.08s\tremaining: 3.05s\n",
      "262:\tlearn: 0.0203166\ttotal: 1.09s\tremaining: 3.05s\n",
      "263:\tlearn: 0.0201840\ttotal: 1.09s\tremaining: 3.04s\n",
      "264:\tlearn: 0.0201010\ttotal: 1.09s\tremaining: 3.03s\n",
      "265:\tlearn: 0.0199799\ttotal: 1.1s\tremaining: 3.02s\n",
      "266:\tlearn: 0.0198403\ttotal: 1.1s\tremaining: 3.02s\n",
      "267:\tlearn: 0.0197540\ttotal: 1.1s\tremaining: 3.01s\n",
      "268:\tlearn: 0.0196879\ttotal: 1.11s\tremaining: 3.01s\n",
      "269:\tlearn: 0.0196185\ttotal: 1.11s\tremaining: 3s\n",
      "270:\tlearn: 0.0195906\ttotal: 1.11s\tremaining: 2.99s\n",
      "271:\tlearn: 0.0194448\ttotal: 1.11s\tremaining: 2.98s\n",
      "272:\tlearn: 0.0193425\ttotal: 1.12s\tremaining: 2.98s\n",
      "273:\tlearn: 0.0192110\ttotal: 1.14s\tremaining: 3.03s\n",
      "274:\tlearn: 0.0191735\ttotal: 1.15s\tremaining: 3.02s\n",
      "275:\tlearn: 0.0190642\ttotal: 1.15s\tremaining: 3.02s\n",
      "276:\tlearn: 0.0189678\ttotal: 1.15s\tremaining: 3.01s\n",
      "277:\tlearn: 0.0189168\ttotal: 1.16s\tremaining: 3s\n",
      "278:\tlearn: 0.0188004\ttotal: 1.16s\tremaining: 2.99s\n",
      "279:\tlearn: 0.0187765\ttotal: 1.16s\tremaining: 2.99s\n",
      "280:\tlearn: 0.0186942\ttotal: 1.17s\tremaining: 2.98s\n",
      "281:\tlearn: 0.0186383\ttotal: 1.17s\tremaining: 2.98s\n",
      "282:\tlearn: 0.0185471\ttotal: 1.17s\tremaining: 2.97s\n",
      "283:\tlearn: 0.0184613\ttotal: 1.17s\tremaining: 2.96s\n",
      "284:\tlearn: 0.0183950\ttotal: 1.18s\tremaining: 2.95s\n",
      "285:\tlearn: 0.0183166\ttotal: 1.18s\tremaining: 2.95s\n",
      "286:\tlearn: 0.0182510\ttotal: 1.18s\tremaining: 2.94s\n",
      "287:\tlearn: 0.0182415\ttotal: 1.19s\tremaining: 2.94s\n",
      "288:\tlearn: 0.0180993\ttotal: 1.19s\tremaining: 2.94s\n",
      "289:\tlearn: 0.0180412\ttotal: 1.22s\tremaining: 2.98s\n",
      "290:\tlearn: 0.0179261\ttotal: 1.22s\tremaining: 2.97s\n",
      "291:\tlearn: 0.0178531\ttotal: 1.23s\tremaining: 2.97s\n",
      "292:\tlearn: 0.0177464\ttotal: 1.23s\tremaining: 2.97s\n",
      "293:\tlearn: 0.0177062\ttotal: 1.24s\tremaining: 2.98s\n",
      "294:\tlearn: 0.0176162\ttotal: 1.25s\tremaining: 2.98s\n",
      "295:\tlearn: 0.0175489\ttotal: 1.25s\tremaining: 2.98s\n",
      "296:\tlearn: 0.0174577\ttotal: 1.26s\tremaining: 2.97s\n",
      "297:\tlearn: 0.0174141\ttotal: 1.26s\tremaining: 2.97s\n",
      "298:\tlearn: 0.0173811\ttotal: 1.26s\tremaining: 2.96s\n",
      "299:\tlearn: 0.0172668\ttotal: 1.28s\tremaining: 3s\n",
      "300:\tlearn: 0.0170975\ttotal: 1.29s\tremaining: 2.99s\n",
      "301:\tlearn: 0.0170174\ttotal: 1.29s\tremaining: 2.98s\n",
      "302:\tlearn: 0.0169441\ttotal: 1.29s\tremaining: 2.97s\n",
      "303:\tlearn: 0.0169295\ttotal: 1.29s\tremaining: 2.96s\n",
      "304:\tlearn: 0.0168576\ttotal: 1.3s\tremaining: 2.96s\n",
      "305:\tlearn: 0.0168149\ttotal: 1.3s\tremaining: 2.95s\n",
      "306:\tlearn: 0.0167433\ttotal: 1.3s\tremaining: 2.94s\n",
      "307:\tlearn: 0.0167061\ttotal: 1.3s\tremaining: 2.93s\n",
      "308:\tlearn: 0.0166548\ttotal: 1.31s\tremaining: 2.92s\n",
      "309:\tlearn: 0.0165460\ttotal: 1.31s\tremaining: 2.92s\n",
      "310:\tlearn: 0.0164519\ttotal: 1.32s\tremaining: 2.92s\n",
      "311:\tlearn: 0.0163770\ttotal: 1.33s\tremaining: 2.92s\n",
      "312:\tlearn: 0.0163156\ttotal: 1.33s\tremaining: 2.92s\n",
      "313:\tlearn: 0.0162542\ttotal: 1.33s\tremaining: 2.91s\n",
      "314:\tlearn: 0.0161905\ttotal: 1.33s\tremaining: 2.9s\n",
      "315:\tlearn: 0.0161346\ttotal: 1.34s\tremaining: 2.9s\n",
      "316:\tlearn: 0.0160749\ttotal: 1.34s\tremaining: 2.89s\n",
      "317:\tlearn: 0.0160358\ttotal: 1.34s\tremaining: 2.88s\n",
      "318:\tlearn: 0.0160089\ttotal: 1.35s\tremaining: 2.88s\n",
      "319:\tlearn: 0.0159948\ttotal: 1.35s\tremaining: 2.87s\n",
      "320:\tlearn: 0.0159393\ttotal: 1.35s\tremaining: 2.86s\n",
      "321:\tlearn: 0.0158697\ttotal: 1.36s\tremaining: 2.86s\n",
      "322:\tlearn: 0.0157956\ttotal: 1.36s\tremaining: 2.85s\n",
      "323:\tlearn: 0.0157254\ttotal: 1.36s\tremaining: 2.85s\n",
      "324:\tlearn: 0.0156917\ttotal: 1.37s\tremaining: 2.84s\n",
      "325:\tlearn: 0.0156327\ttotal: 1.37s\tremaining: 2.83s\n",
      "326:\tlearn: 0.0155723\ttotal: 1.37s\tremaining: 2.82s\n",
      "327:\tlearn: 0.0155575\ttotal: 1.37s\tremaining: 2.81s\n",
      "328:\tlearn: 0.0155157\ttotal: 1.38s\tremaining: 2.81s\n",
      "329:\tlearn: 0.0154730\ttotal: 1.38s\tremaining: 2.8s\n",
      "330:\tlearn: 0.0154250\ttotal: 1.38s\tremaining: 2.79s\n",
      "331:\tlearn: 0.0153566\ttotal: 1.38s\tremaining: 2.79s\n",
      "332:\tlearn: 0.0153014\ttotal: 1.39s\tremaining: 2.78s\n",
      "333:\tlearn: 0.0152756\ttotal: 1.39s\tremaining: 2.77s\n",
      "334:\tlearn: 0.0152626\ttotal: 1.39s\tremaining: 2.76s\n",
      "335:\tlearn: 0.0152437\ttotal: 1.39s\tremaining: 2.75s\n",
      "336:\tlearn: 0.0151774\ttotal: 1.4s\tremaining: 2.75s\n",
      "337:\tlearn: 0.0151044\ttotal: 1.4s\tremaining: 2.74s\n",
      "338:\tlearn: 0.0150067\ttotal: 1.4s\tremaining: 2.73s\n",
      "339:\tlearn: 0.0149420\ttotal: 1.4s\tremaining: 2.73s\n",
      "340:\tlearn: 0.0148909\ttotal: 1.41s\tremaining: 2.72s\n",
      "341:\tlearn: 0.0148610\ttotal: 1.41s\tremaining: 2.71s\n",
      "342:\tlearn: 0.0147644\ttotal: 1.41s\tremaining: 2.71s\n",
      "343:\tlearn: 0.0147486\ttotal: 1.41s\tremaining: 2.7s\n",
      "344:\tlearn: 0.0146608\ttotal: 1.42s\tremaining: 2.69s\n",
      "345:\tlearn: 0.0146399\ttotal: 1.42s\tremaining: 2.68s\n",
      "346:\tlearn: 0.0145639\ttotal: 1.42s\tremaining: 2.68s\n",
      "347:\tlearn: 0.0145515\ttotal: 1.42s\tremaining: 2.67s\n",
      "348:\tlearn: 0.0144723\ttotal: 1.43s\tremaining: 2.66s\n",
      "349:\tlearn: 0.0144082\ttotal: 1.43s\tremaining: 2.65s\n",
      "350:\tlearn: 0.0143457\ttotal: 1.43s\tremaining: 2.65s\n",
      "351:\tlearn: 0.0143234\ttotal: 1.43s\tremaining: 2.64s\n",
      "352:\tlearn: 0.0142133\ttotal: 1.44s\tremaining: 2.63s\n",
      "353:\tlearn: 0.0141762\ttotal: 1.44s\tremaining: 2.63s\n",
      "354:\tlearn: 0.0141368\ttotal: 1.44s\tremaining: 2.62s\n",
      "355:\tlearn: 0.0141279\ttotal: 1.45s\tremaining: 2.62s\n",
      "356:\tlearn: 0.0140521\ttotal: 1.45s\tremaining: 2.61s\n",
      "357:\tlearn: 0.0139749\ttotal: 1.45s\tremaining: 2.6s\n",
      "358:\tlearn: 0.0139220\ttotal: 1.47s\tremaining: 2.62s\n",
      "359:\tlearn: 0.0138728\ttotal: 1.47s\tremaining: 2.61s\n",
      "360:\tlearn: 0.0138126\ttotal: 1.47s\tremaining: 2.61s\n",
      "361:\tlearn: 0.0137370\ttotal: 1.48s\tremaining: 2.6s\n",
      "362:\tlearn: 0.0136767\ttotal: 1.48s\tremaining: 2.6s\n",
      "363:\tlearn: 0.0136575\ttotal: 1.48s\tremaining: 2.59s\n",
      "364:\tlearn: 0.0136164\ttotal: 1.49s\tremaining: 2.59s\n",
      "365:\tlearn: 0.0135757\ttotal: 1.51s\tremaining: 2.61s\n",
      "366:\tlearn: 0.0135573\ttotal: 1.51s\tremaining: 2.61s\n",
      "367:\tlearn: 0.0135313\ttotal: 1.52s\tremaining: 2.6s\n",
      "368:\tlearn: 0.0134666\ttotal: 1.52s\tremaining: 2.6s\n",
      "369:\tlearn: 0.0134198\ttotal: 1.52s\tremaining: 2.59s\n",
      "370:\tlearn: 0.0133799\ttotal: 1.53s\tremaining: 2.59s\n",
      "371:\tlearn: 0.0133412\ttotal: 1.53s\tremaining: 2.58s\n",
      "372:\tlearn: 0.0133313\ttotal: 1.53s\tremaining: 2.58s\n",
      "373:\tlearn: 0.0132523\ttotal: 1.54s\tremaining: 2.57s\n",
      "374:\tlearn: 0.0132248\ttotal: 1.54s\tremaining: 2.57s\n",
      "375:\tlearn: 0.0131752\ttotal: 1.55s\tremaining: 2.57s\n",
      "376:\tlearn: 0.0131712\ttotal: 1.55s\tremaining: 2.56s\n",
      "377:\tlearn: 0.0131425\ttotal: 1.55s\tremaining: 2.56s\n",
      "378:\tlearn: 0.0131048\ttotal: 1.56s\tremaining: 2.55s\n",
      "379:\tlearn: 0.0130419\ttotal: 1.56s\tremaining: 2.55s\n",
      "380:\tlearn: 0.0130287\ttotal: 1.56s\tremaining: 2.54s\n",
      "381:\tlearn: 0.0129679\ttotal: 1.57s\tremaining: 2.54s\n",
      "382:\tlearn: 0.0129240\ttotal: 1.57s\tremaining: 2.53s\n",
      "383:\tlearn: 0.0128764\ttotal: 1.57s\tremaining: 2.52s\n",
      "384:\tlearn: 0.0128215\ttotal: 1.58s\tremaining: 2.52s\n",
      "385:\tlearn: 0.0127641\ttotal: 1.58s\tremaining: 2.52s\n",
      "386:\tlearn: 0.0127215\ttotal: 1.59s\tremaining: 2.52s\n",
      "387:\tlearn: 0.0127134\ttotal: 1.6s\tremaining: 2.52s\n",
      "388:\tlearn: 0.0126581\ttotal: 1.6s\tremaining: 2.51s\n",
      "389:\tlearn: 0.0126262\ttotal: 1.6s\tremaining: 2.51s\n",
      "390:\tlearn: 0.0125567\ttotal: 1.6s\tremaining: 2.5s\n",
      "391:\tlearn: 0.0125179\ttotal: 1.62s\tremaining: 2.52s\n",
      "392:\tlearn: 0.0124659\ttotal: 1.63s\tremaining: 2.51s\n",
      "393:\tlearn: 0.0123852\ttotal: 1.63s\tremaining: 2.51s\n",
      "394:\tlearn: 0.0123429\ttotal: 1.63s\tremaining: 2.5s\n",
      "395:\tlearn: 0.0122835\ttotal: 1.64s\tremaining: 2.5s\n",
      "396:\tlearn: 0.0122492\ttotal: 1.65s\tremaining: 2.51s\n",
      "397:\tlearn: 0.0121877\ttotal: 1.66s\tremaining: 2.51s\n",
      "398:\tlearn: 0.0120891\ttotal: 1.66s\tremaining: 2.5s\n",
      "399:\tlearn: 0.0120521\ttotal: 1.66s\tremaining: 2.49s\n",
      "400:\tlearn: 0.0120304\ttotal: 1.67s\tremaining: 2.49s\n",
      "401:\tlearn: 0.0119661\ttotal: 1.67s\tremaining: 2.48s\n",
      "402:\tlearn: 0.0119296\ttotal: 1.67s\tremaining: 2.48s\n",
      "403:\tlearn: 0.0118764\ttotal: 1.68s\tremaining: 2.47s\n",
      "404:\tlearn: 0.0118500\ttotal: 1.68s\tremaining: 2.47s\n",
      "405:\tlearn: 0.0118001\ttotal: 1.68s\tremaining: 2.46s\n",
      "406:\tlearn: 0.0117427\ttotal: 1.68s\tremaining: 2.45s\n",
      "407:\tlearn: 0.0117404\ttotal: 1.69s\tremaining: 2.45s\n",
      "408:\tlearn: 0.0116938\ttotal: 1.69s\tremaining: 2.44s\n",
      "409:\tlearn: 0.0116328\ttotal: 1.69s\tremaining: 2.44s\n",
      "410:\tlearn: 0.0115701\ttotal: 1.7s\tremaining: 2.43s\n",
      "411:\tlearn: 0.0115293\ttotal: 1.7s\tremaining: 2.42s\n",
      "412:\tlearn: 0.0115256\ttotal: 1.7s\tremaining: 2.42s\n",
      "413:\tlearn: 0.0114848\ttotal: 1.7s\tremaining: 2.41s\n",
      "414:\tlearn: 0.0114670\ttotal: 1.71s\tremaining: 2.4s\n",
      "415:\tlearn: 0.0114338\ttotal: 1.71s\tremaining: 2.4s\n",
      "416:\tlearn: 0.0113565\ttotal: 1.71s\tremaining: 2.39s\n",
      "417:\tlearn: 0.0113005\ttotal: 1.71s\tremaining: 2.39s\n",
      "418:\tlearn: 0.0112427\ttotal: 1.72s\tremaining: 2.38s\n",
      "419:\tlearn: 0.0111942\ttotal: 1.72s\tremaining: 2.38s\n",
      "420:\tlearn: 0.0111759\ttotal: 1.73s\tremaining: 2.38s\n",
      "421:\tlearn: 0.0111436\ttotal: 1.74s\tremaining: 2.38s\n",
      "422:\tlearn: 0.0111129\ttotal: 1.75s\tremaining: 2.38s\n",
      "423:\tlearn: 0.0110783\ttotal: 1.75s\tremaining: 2.38s\n",
      "424:\tlearn: 0.0110208\ttotal: 1.75s\tremaining: 2.37s\n",
      "425:\tlearn: 0.0109958\ttotal: 1.76s\tremaining: 2.37s\n",
      "426:\tlearn: 0.0109573\ttotal: 1.76s\tremaining: 2.36s\n",
      "427:\tlearn: 0.0109247\ttotal: 1.76s\tremaining: 2.35s\n",
      "428:\tlearn: 0.0108887\ttotal: 1.76s\tremaining: 2.35s\n",
      "429:\tlearn: 0.0108277\ttotal: 1.77s\tremaining: 2.34s\n",
      "430:\tlearn: 0.0108242\ttotal: 1.77s\tremaining: 2.34s\n",
      "431:\tlearn: 0.0107838\ttotal: 1.77s\tremaining: 2.33s\n",
      "432:\tlearn: 0.0107672\ttotal: 1.77s\tremaining: 2.33s\n",
      "433:\tlearn: 0.0107414\ttotal: 1.78s\tremaining: 2.32s\n",
      "434:\tlearn: 0.0106983\ttotal: 1.78s\tremaining: 2.31s\n",
      "435:\tlearn: 0.0106786\ttotal: 1.78s\tremaining: 2.31s\n",
      "436:\tlearn: 0.0106380\ttotal: 1.79s\tremaining: 2.3s\n",
      "437:\tlearn: 0.0106022\ttotal: 1.79s\tremaining: 2.3s\n",
      "438:\tlearn: 0.0105606\ttotal: 1.79s\tremaining: 2.29s\n",
      "439:\tlearn: 0.0105025\ttotal: 1.8s\tremaining: 2.29s\n",
      "440:\tlearn: 0.0104448\ttotal: 1.8s\tremaining: 2.28s\n",
      "441:\tlearn: 0.0103916\ttotal: 1.8s\tremaining: 2.28s\n",
      "442:\tlearn: 0.0103644\ttotal: 1.81s\tremaining: 2.27s\n",
      "443:\tlearn: 0.0103407\ttotal: 1.81s\tremaining: 2.27s\n",
      "444:\tlearn: 0.0103213\ttotal: 1.82s\tremaining: 2.28s\n",
      "445:\tlearn: 0.0102751\ttotal: 1.83s\tremaining: 2.27s\n",
      "446:\tlearn: 0.0102611\ttotal: 1.83s\tremaining: 2.26s\n",
      "447:\tlearn: 0.0102400\ttotal: 1.83s\tremaining: 2.26s\n",
      "448:\tlearn: 0.0102005\ttotal: 1.83s\tremaining: 2.25s\n",
      "449:\tlearn: 0.0101928\ttotal: 1.84s\tremaining: 2.25s\n",
      "450:\tlearn: 0.0101899\ttotal: 1.84s\tremaining: 2.24s\n",
      "451:\tlearn: 0.0101697\ttotal: 1.84s\tremaining: 2.23s\n",
      "452:\tlearn: 0.0101354\ttotal: 1.84s\tremaining: 2.23s\n",
      "453:\tlearn: 0.0101022\ttotal: 1.85s\tremaining: 2.22s\n",
      "454:\tlearn: 0.0100557\ttotal: 1.85s\tremaining: 2.22s\n",
      "455:\tlearn: 0.0100423\ttotal: 1.85s\tremaining: 2.21s\n",
      "456:\tlearn: 0.0100178\ttotal: 1.85s\tremaining: 2.21s\n",
      "457:\tlearn: 0.0099934\ttotal: 1.86s\tremaining: 2.2s\n",
      "458:\tlearn: 0.0099824\ttotal: 1.86s\tremaining: 2.19s\n",
      "459:\tlearn: 0.0099356\ttotal: 1.86s\tremaining: 2.19s\n",
      "460:\tlearn: 0.0098739\ttotal: 1.87s\tremaining: 2.18s\n",
      "461:\tlearn: 0.0098277\ttotal: 1.87s\tremaining: 2.18s\n",
      "462:\tlearn: 0.0097776\ttotal: 1.87s\tremaining: 2.17s\n",
      "463:\tlearn: 0.0097721\ttotal: 1.87s\tremaining: 2.16s\n",
      "464:\tlearn: 0.0097486\ttotal: 1.88s\tremaining: 2.16s\n",
      "465:\tlearn: 0.0097202\ttotal: 1.88s\tremaining: 2.15s\n",
      "466:\tlearn: 0.0096881\ttotal: 1.88s\tremaining: 2.15s\n",
      "467:\tlearn: 0.0096256\ttotal: 1.88s\tremaining: 2.14s\n",
      "468:\tlearn: 0.0096014\ttotal: 1.89s\tremaining: 2.14s\n",
      "469:\tlearn: 0.0095461\ttotal: 1.89s\tremaining: 2.13s\n",
      "470:\tlearn: 0.0095408\ttotal: 1.89s\tremaining: 2.13s\n",
      "471:\tlearn: 0.0095151\ttotal: 1.9s\tremaining: 2.12s\n",
      "472:\tlearn: 0.0094913\ttotal: 1.9s\tremaining: 2.12s\n",
      "473:\tlearn: 0.0094876\ttotal: 1.9s\tremaining: 2.11s\n",
      "474:\tlearn: 0.0094690\ttotal: 1.9s\tremaining: 2.1s\n",
      "475:\tlearn: 0.0094461\ttotal: 1.91s\tremaining: 2.1s\n",
      "476:\tlearn: 0.0094422\ttotal: 1.91s\tremaining: 2.1s\n",
      "477:\tlearn: 0.0094144\ttotal: 1.91s\tremaining: 2.09s\n",
      "478:\tlearn: 0.0093823\ttotal: 1.92s\tremaining: 2.08s\n",
      "479:\tlearn: 0.0093255\ttotal: 1.92s\tremaining: 2.08s\n",
      "480:\tlearn: 0.0092962\ttotal: 1.92s\tremaining: 2.07s\n",
      "481:\tlearn: 0.0092570\ttotal: 1.92s\tremaining: 2.07s\n",
      "482:\tlearn: 0.0092251\ttotal: 1.93s\tremaining: 2.06s\n",
      "483:\tlearn: 0.0091933\ttotal: 1.93s\tremaining: 2.06s\n",
      "484:\tlearn: 0.0091608\ttotal: 1.93s\tremaining: 2.05s\n",
      "485:\tlearn: 0.0091216\ttotal: 1.93s\tremaining: 2.04s\n",
      "486:\tlearn: 0.0090947\ttotal: 1.94s\tremaining: 2.04s\n",
      "487:\tlearn: 0.0090814\ttotal: 1.94s\tremaining: 2.04s\n",
      "488:\tlearn: 0.0090355\ttotal: 1.94s\tremaining: 2.03s\n",
      "489:\tlearn: 0.0090298\ttotal: 1.94s\tremaining: 2.02s\n",
      "490:\tlearn: 0.0089999\ttotal: 1.95s\tremaining: 2.02s\n",
      "491:\tlearn: 0.0089464\ttotal: 1.95s\tremaining: 2.01s\n",
      "492:\tlearn: 0.0089119\ttotal: 1.95s\tremaining: 2.01s\n",
      "493:\tlearn: 0.0088833\ttotal: 1.95s\tremaining: 2s\n",
      "494:\tlearn: 0.0088599\ttotal: 1.96s\tremaining: 2s\n",
      "495:\tlearn: 0.0088281\ttotal: 1.96s\tremaining: 1.99s\n",
      "496:\tlearn: 0.0087850\ttotal: 1.96s\tremaining: 1.99s\n",
      "497:\tlearn: 0.0087645\ttotal: 1.96s\tremaining: 1.98s\n",
      "498:\tlearn: 0.0087404\ttotal: 1.97s\tremaining: 1.98s\n",
      "499:\tlearn: 0.0087249\ttotal: 1.97s\tremaining: 1.97s\n",
      "500:\tlearn: 0.0087049\ttotal: 1.97s\tremaining: 1.96s\n",
      "501:\tlearn: 0.0086440\ttotal: 1.98s\tremaining: 1.96s\n",
      "502:\tlearn: 0.0086082\ttotal: 1.98s\tremaining: 1.95s\n",
      "503:\tlearn: 0.0085784\ttotal: 1.98s\tremaining: 1.95s\n",
      "504:\tlearn: 0.0085370\ttotal: 1.98s\tremaining: 1.94s\n",
      "505:\tlearn: 0.0084991\ttotal: 1.99s\tremaining: 1.94s\n",
      "506:\tlearn: 0.0084802\ttotal: 1.99s\tremaining: 1.93s\n",
      "507:\tlearn: 0.0084463\ttotal: 2s\tremaining: 1.93s\n",
      "508:\tlearn: 0.0084224\ttotal: 2s\tremaining: 1.93s\n",
      "509:\tlearn: 0.0084183\ttotal: 2.01s\tremaining: 1.93s\n",
      "510:\tlearn: 0.0083973\ttotal: 2.02s\tremaining: 1.93s\n",
      "511:\tlearn: 0.0083768\ttotal: 2.04s\tremaining: 1.94s\n",
      "512:\tlearn: 0.0083428\ttotal: 2.04s\tremaining: 1.94s\n",
      "513:\tlearn: 0.0083036\ttotal: 2.04s\tremaining: 1.93s\n",
      "514:\tlearn: 0.0082723\ttotal: 2.06s\tremaining: 1.94s\n",
      "515:\tlearn: 0.0082398\ttotal: 2.08s\tremaining: 1.95s\n",
      "516:\tlearn: 0.0082309\ttotal: 2.08s\tremaining: 1.94s\n",
      "517:\tlearn: 0.0082161\ttotal: 2.08s\tremaining: 1.94s\n",
      "518:\tlearn: 0.0081926\ttotal: 2.1s\tremaining: 1.95s\n",
      "519:\tlearn: 0.0081600\ttotal: 2.1s\tremaining: 1.94s\n",
      "520:\tlearn: 0.0081507\ttotal: 2.11s\tremaining: 1.94s\n",
      "521:\tlearn: 0.0081263\ttotal: 2.11s\tremaining: 1.93s\n",
      "522:\tlearn: 0.0081024\ttotal: 2.11s\tremaining: 1.93s\n",
      "523:\tlearn: 0.0080737\ttotal: 2.14s\tremaining: 1.95s\n",
      "524:\tlearn: 0.0080652\ttotal: 2.15s\tremaining: 1.94s\n",
      "525:\tlearn: 0.0080315\ttotal: 2.15s\tremaining: 1.94s\n",
      "526:\tlearn: 0.0079752\ttotal: 2.15s\tremaining: 1.93s\n",
      "527:\tlearn: 0.0079644\ttotal: 2.16s\tremaining: 1.93s\n",
      "528:\tlearn: 0.0079533\ttotal: 2.16s\tremaining: 1.92s\n",
      "529:\tlearn: 0.0079198\ttotal: 2.16s\tremaining: 1.92s\n",
      "530:\tlearn: 0.0079198\ttotal: 2.17s\tremaining: 1.92s\n",
      "531:\tlearn: 0.0078971\ttotal: 2.17s\tremaining: 1.91s\n",
      "532:\tlearn: 0.0078583\ttotal: 2.18s\tremaining: 1.91s\n",
      "533:\tlearn: 0.0078317\ttotal: 2.19s\tremaining: 1.91s\n",
      "534:\tlearn: 0.0078071\ttotal: 2.19s\tremaining: 1.9s\n",
      "535:\tlearn: 0.0077846\ttotal: 2.19s\tremaining: 1.9s\n",
      "536:\tlearn: 0.0077692\ttotal: 2.2s\tremaining: 1.89s\n",
      "537:\tlearn: 0.0077478\ttotal: 2.21s\tremaining: 1.9s\n",
      "538:\tlearn: 0.0077440\ttotal: 2.22s\tremaining: 1.9s\n",
      "539:\tlearn: 0.0077272\ttotal: 2.22s\tremaining: 1.9s\n",
      "540:\tlearn: 0.0076982\ttotal: 2.23s\tremaining: 1.89s\n",
      "541:\tlearn: 0.0076646\ttotal: 2.23s\tremaining: 1.89s\n",
      "542:\tlearn: 0.0076432\ttotal: 2.25s\tremaining: 1.89s\n",
      "543:\tlearn: 0.0076167\ttotal: 2.25s\tremaining: 1.89s\n",
      "544:\tlearn: 0.0076062\ttotal: 2.26s\tremaining: 1.89s\n",
      "545:\tlearn: 0.0075589\ttotal: 2.27s\tremaining: 1.88s\n",
      "546:\tlearn: 0.0075391\ttotal: 2.27s\tremaining: 1.88s\n",
      "547:\tlearn: 0.0075187\ttotal: 2.27s\tremaining: 1.87s\n",
      "548:\tlearn: 0.0074941\ttotal: 2.28s\tremaining: 1.87s\n",
      "549:\tlearn: 0.0074831\ttotal: 2.28s\tremaining: 1.87s\n",
      "550:\tlearn: 0.0074730\ttotal: 2.3s\tremaining: 1.88s\n",
      "551:\tlearn: 0.0074607\ttotal: 2.31s\tremaining: 1.87s\n",
      "552:\tlearn: 0.0074367\ttotal: 2.31s\tremaining: 1.87s\n",
      "553:\tlearn: 0.0074335\ttotal: 2.31s\tremaining: 1.86s\n",
      "554:\tlearn: 0.0074238\ttotal: 2.32s\tremaining: 1.86s\n",
      "555:\tlearn: 0.0074183\ttotal: 2.33s\tremaining: 1.86s\n",
      "556:\tlearn: 0.0073935\ttotal: 2.33s\tremaining: 1.85s\n",
      "557:\tlearn: 0.0073623\ttotal: 2.34s\tremaining: 1.86s\n",
      "558:\tlearn: 0.0073549\ttotal: 2.35s\tremaining: 1.85s\n",
      "559:\tlearn: 0.0073127\ttotal: 2.35s\tremaining: 1.85s\n",
      "560:\tlearn: 0.0072997\ttotal: 2.35s\tremaining: 1.84s\n",
      "561:\tlearn: 0.0072811\ttotal: 2.36s\tremaining: 1.84s\n",
      "562:\tlearn: 0.0072582\ttotal: 2.37s\tremaining: 1.84s\n",
      "563:\tlearn: 0.0072317\ttotal: 2.38s\tremaining: 1.84s\n",
      "564:\tlearn: 0.0071843\ttotal: 2.38s\tremaining: 1.83s\n",
      "565:\tlearn: 0.0071833\ttotal: 2.39s\tremaining: 1.83s\n",
      "566:\tlearn: 0.0071746\ttotal: 2.39s\tremaining: 1.82s\n",
      "567:\tlearn: 0.0071260\ttotal: 2.39s\tremaining: 1.82s\n",
      "568:\tlearn: 0.0071236\ttotal: 2.4s\tremaining: 1.81s\n",
      "569:\tlearn: 0.0071235\ttotal: 2.4s\tremaining: 1.81s\n",
      "570:\tlearn: 0.0071029\ttotal: 2.4s\tremaining: 1.8s\n",
      "571:\tlearn: 0.0070781\ttotal: 2.4s\tremaining: 1.8s\n",
      "572:\tlearn: 0.0070675\ttotal: 2.41s\tremaining: 1.79s\n",
      "573:\tlearn: 0.0070542\ttotal: 2.41s\tremaining: 1.79s\n",
      "574:\tlearn: 0.0070508\ttotal: 2.41s\tremaining: 1.78s\n",
      "575:\tlearn: 0.0070348\ttotal: 2.42s\tremaining: 1.78s\n",
      "576:\tlearn: 0.0070262\ttotal: 2.42s\tremaining: 1.77s\n",
      "577:\tlearn: 0.0070032\ttotal: 2.42s\tremaining: 1.77s\n",
      "578:\tlearn: 0.0069993\ttotal: 2.42s\tremaining: 1.76s\n",
      "579:\tlearn: 0.0069618\ttotal: 2.42s\tremaining: 1.76s\n",
      "580:\tlearn: 0.0069587\ttotal: 2.43s\tremaining: 1.75s\n",
      "581:\tlearn: 0.0069374\ttotal: 2.43s\tremaining: 1.75s\n",
      "582:\tlearn: 0.0069218\ttotal: 2.43s\tremaining: 1.74s\n",
      "583:\tlearn: 0.0068798\ttotal: 2.44s\tremaining: 1.74s\n",
      "584:\tlearn: 0.0068641\ttotal: 2.44s\tremaining: 1.73s\n",
      "585:\tlearn: 0.0068212\ttotal: 2.44s\tremaining: 1.73s\n",
      "586:\tlearn: 0.0068180\ttotal: 2.45s\tremaining: 1.72s\n",
      "587:\tlearn: 0.0068064\ttotal: 2.45s\tremaining: 1.72s\n",
      "588:\tlearn: 0.0067875\ttotal: 2.46s\tremaining: 1.72s\n",
      "589:\tlearn: 0.0067725\ttotal: 2.46s\tremaining: 1.71s\n",
      "590:\tlearn: 0.0067533\ttotal: 2.46s\tremaining: 1.71s\n",
      "591:\tlearn: 0.0067533\ttotal: 2.47s\tremaining: 1.7s\n",
      "592:\tlearn: 0.0067443\ttotal: 2.47s\tremaining: 1.7s\n",
      "593:\tlearn: 0.0067182\ttotal: 2.48s\tremaining: 1.69s\n",
      "594:\tlearn: 0.0066938\ttotal: 2.48s\tremaining: 1.69s\n",
      "595:\tlearn: 0.0066574\ttotal: 2.49s\tremaining: 1.69s\n",
      "596:\tlearn: 0.0066574\ttotal: 2.49s\tremaining: 1.68s\n",
      "597:\tlearn: 0.0066433\ttotal: 2.5s\tremaining: 1.68s\n",
      "598:\tlearn: 0.0066195\ttotal: 2.5s\tremaining: 1.67s\n",
      "599:\tlearn: 0.0066107\ttotal: 2.5s\tremaining: 1.67s\n",
      "600:\tlearn: 0.0065905\ttotal: 2.51s\tremaining: 1.66s\n",
      "601:\tlearn: 0.0065706\ttotal: 2.51s\tremaining: 1.66s\n",
      "602:\tlearn: 0.0065622\ttotal: 2.51s\tremaining: 1.65s\n",
      "603:\tlearn: 0.0065451\ttotal: 2.51s\tremaining: 1.65s\n",
      "604:\tlearn: 0.0065375\ttotal: 2.52s\tremaining: 1.64s\n",
      "605:\tlearn: 0.0064903\ttotal: 2.52s\tremaining: 1.64s\n",
      "606:\tlearn: 0.0064904\ttotal: 2.52s\tremaining: 1.63s\n",
      "607:\tlearn: 0.0064760\ttotal: 2.52s\tremaining: 1.63s\n",
      "608:\tlearn: 0.0064760\ttotal: 2.53s\tremaining: 1.62s\n",
      "609:\tlearn: 0.0064760\ttotal: 2.53s\tremaining: 1.62s\n",
      "610:\tlearn: 0.0064261\ttotal: 2.53s\tremaining: 1.61s\n",
      "611:\tlearn: 0.0064014\ttotal: 2.53s\tremaining: 1.61s\n",
      "612:\tlearn: 0.0063806\ttotal: 2.54s\tremaining: 1.6s\n",
      "613:\tlearn: 0.0063604\ttotal: 2.54s\tremaining: 1.6s\n",
      "614:\tlearn: 0.0063196\ttotal: 2.54s\tremaining: 1.59s\n",
      "615:\tlearn: 0.0063196\ttotal: 2.54s\tremaining: 1.59s\n",
      "616:\tlearn: 0.0063179\ttotal: 2.56s\tremaining: 1.59s\n",
      "617:\tlearn: 0.0063021\ttotal: 2.56s\tremaining: 1.58s\n",
      "618:\tlearn: 0.0062819\ttotal: 2.57s\tremaining: 1.58s\n",
      "619:\tlearn: 0.0062818\ttotal: 2.57s\tremaining: 1.58s\n",
      "620:\tlearn: 0.0062495\ttotal: 2.58s\tremaining: 1.57s\n",
      "621:\tlearn: 0.0062280\ttotal: 2.58s\tremaining: 1.57s\n",
      "622:\tlearn: 0.0062204\ttotal: 2.58s\tremaining: 1.56s\n",
      "623:\tlearn: 0.0062194\ttotal: 2.58s\tremaining: 1.56s\n",
      "624:\tlearn: 0.0062109\ttotal: 2.59s\tremaining: 1.55s\n",
      "625:\tlearn: 0.0062110\ttotal: 2.59s\tremaining: 1.55s\n",
      "626:\tlearn: 0.0061878\ttotal: 2.59s\tremaining: 1.54s\n",
      "627:\tlearn: 0.0061878\ttotal: 2.59s\tremaining: 1.54s\n",
      "628:\tlearn: 0.0061500\ttotal: 2.62s\tremaining: 1.54s\n",
      "629:\tlearn: 0.0061256\ttotal: 2.62s\tremaining: 1.54s\n",
      "630:\tlearn: 0.0061171\ttotal: 2.62s\tremaining: 1.53s\n",
      "631:\tlearn: 0.0060727\ttotal: 2.63s\tremaining: 1.53s\n",
      "632:\tlearn: 0.0060726\ttotal: 2.64s\tremaining: 1.53s\n",
      "633:\tlearn: 0.0060431\ttotal: 2.65s\tremaining: 1.53s\n",
      "634:\tlearn: 0.0060431\ttotal: 2.66s\tremaining: 1.53s\n",
      "635:\tlearn: 0.0060259\ttotal: 2.66s\tremaining: 1.52s\n",
      "636:\tlearn: 0.0060036\ttotal: 2.66s\tremaining: 1.52s\n",
      "637:\tlearn: 0.0059812\ttotal: 2.67s\tremaining: 1.51s\n",
      "638:\tlearn: 0.0059686\ttotal: 2.67s\tremaining: 1.51s\n",
      "639:\tlearn: 0.0059333\ttotal: 2.67s\tremaining: 1.5s\n",
      "640:\tlearn: 0.0059264\ttotal: 2.67s\tremaining: 1.5s\n",
      "641:\tlearn: 0.0058906\ttotal: 2.68s\tremaining: 1.49s\n",
      "642:\tlearn: 0.0058739\ttotal: 2.68s\tremaining: 1.49s\n",
      "643:\tlearn: 0.0058739\ttotal: 2.68s\tremaining: 1.48s\n",
      "644:\tlearn: 0.0058550\ttotal: 2.7s\tremaining: 1.48s\n",
      "645:\tlearn: 0.0058550\ttotal: 2.7s\tremaining: 1.48s\n",
      "646:\tlearn: 0.0058551\ttotal: 2.7s\tremaining: 1.47s\n",
      "647:\tlearn: 0.0058299\ttotal: 2.7s\tremaining: 1.47s\n",
      "648:\tlearn: 0.0058265\ttotal: 2.71s\tremaining: 1.46s\n",
      "649:\tlearn: 0.0058224\ttotal: 2.71s\tremaining: 1.46s\n",
      "650:\tlearn: 0.0058164\ttotal: 2.71s\tremaining: 1.45s\n",
      "651:\tlearn: 0.0058164\ttotal: 2.72s\tremaining: 1.45s\n",
      "652:\tlearn: 0.0057952\ttotal: 2.72s\tremaining: 1.44s\n",
      "653:\tlearn: 0.0057912\ttotal: 2.72s\tremaining: 1.44s\n",
      "654:\tlearn: 0.0057912\ttotal: 2.73s\tremaining: 1.44s\n",
      "655:\tlearn: 0.0057895\ttotal: 2.73s\tremaining: 1.43s\n",
      "656:\tlearn: 0.0057837\ttotal: 2.73s\tremaining: 1.43s\n",
      "657:\tlearn: 0.0057837\ttotal: 2.73s\tremaining: 1.42s\n",
      "658:\tlearn: 0.0057837\ttotal: 2.74s\tremaining: 1.42s\n",
      "659:\tlearn: 0.0057733\ttotal: 2.74s\tremaining: 1.41s\n",
      "660:\tlearn: 0.0057652\ttotal: 2.77s\tremaining: 1.42s\n",
      "661:\tlearn: 0.0057567\ttotal: 2.77s\tremaining: 1.41s\n",
      "662:\tlearn: 0.0057464\ttotal: 2.77s\tremaining: 1.41s\n",
      "663:\tlearn: 0.0057277\ttotal: 2.77s\tremaining: 1.4s\n",
      "664:\tlearn: 0.0057254\ttotal: 2.79s\tremaining: 1.41s\n",
      "665:\tlearn: 0.0056977\ttotal: 2.79s\tremaining: 1.4s\n",
      "666:\tlearn: 0.0056635\ttotal: 2.8s\tremaining: 1.4s\n",
      "667:\tlearn: 0.0056504\ttotal: 2.81s\tremaining: 1.4s\n",
      "668:\tlearn: 0.0056061\ttotal: 2.81s\tremaining: 1.39s\n",
      "669:\tlearn: 0.0055649\ttotal: 2.82s\tremaining: 1.39s\n",
      "670:\tlearn: 0.0055593\ttotal: 2.83s\tremaining: 1.39s\n",
      "671:\tlearn: 0.0055491\ttotal: 2.84s\tremaining: 1.39s\n",
      "672:\tlearn: 0.0055491\ttotal: 2.84s\tremaining: 1.38s\n",
      "673:\tlearn: 0.0055160\ttotal: 2.86s\tremaining: 1.38s\n",
      "674:\tlearn: 0.0055102\ttotal: 2.86s\tremaining: 1.38s\n",
      "675:\tlearn: 0.0054923\ttotal: 2.86s\tremaining: 1.37s\n",
      "676:\tlearn: 0.0054923\ttotal: 2.88s\tremaining: 1.37s\n",
      "677:\tlearn: 0.0054866\ttotal: 2.88s\tremaining: 1.37s\n",
      "678:\tlearn: 0.0054722\ttotal: 2.88s\tremaining: 1.36s\n",
      "679:\tlearn: 0.0054625\ttotal: 2.89s\tremaining: 1.36s\n",
      "680:\tlearn: 0.0054420\ttotal: 2.89s\tremaining: 1.35s\n",
      "681:\tlearn: 0.0054420\ttotal: 2.9s\tremaining: 1.35s\n",
      "682:\tlearn: 0.0054326\ttotal: 2.9s\tremaining: 1.34s\n",
      "683:\tlearn: 0.0054171\ttotal: 2.9s\tremaining: 1.34s\n",
      "684:\tlearn: 0.0053963\ttotal: 2.9s\tremaining: 1.33s\n",
      "685:\tlearn: 0.0053880\ttotal: 2.91s\tremaining: 1.33s\n",
      "686:\tlearn: 0.0053655\ttotal: 2.91s\tremaining: 1.32s\n",
      "687:\tlearn: 0.0053353\ttotal: 2.91s\tremaining: 1.32s\n",
      "688:\tlearn: 0.0053353\ttotal: 2.91s\tremaining: 1.31s\n",
      "689:\tlearn: 0.0053284\ttotal: 2.92s\tremaining: 1.31s\n",
      "690:\tlearn: 0.0053041\ttotal: 2.92s\tremaining: 1.3s\n",
      "691:\tlearn: 0.0052929\ttotal: 2.92s\tremaining: 1.3s\n",
      "692:\tlearn: 0.0052819\ttotal: 2.92s\tremaining: 1.29s\n",
      "693:\tlearn: 0.0052711\ttotal: 2.93s\tremaining: 1.29s\n",
      "694:\tlearn: 0.0052711\ttotal: 2.93s\tremaining: 1.28s\n",
      "695:\tlearn: 0.0052605\ttotal: 2.93s\tremaining: 1.28s\n",
      "696:\tlearn: 0.0052410\ttotal: 2.94s\tremaining: 1.28s\n",
      "697:\tlearn: 0.0052410\ttotal: 2.94s\tremaining: 1.27s\n",
      "698:\tlearn: 0.0052410\ttotal: 2.94s\tremaining: 1.27s\n",
      "699:\tlearn: 0.0052392\ttotal: 2.95s\tremaining: 1.26s\n",
      "700:\tlearn: 0.0052392\ttotal: 2.95s\tremaining: 1.26s\n",
      "701:\tlearn: 0.0052392\ttotal: 2.96s\tremaining: 1.25s\n",
      "702:\tlearn: 0.0052312\ttotal: 2.96s\tremaining: 1.25s\n",
      "703:\tlearn: 0.0052175\ttotal: 2.96s\tremaining: 1.25s\n",
      "704:\tlearn: 0.0051792\ttotal: 2.96s\tremaining: 1.24s\n",
      "705:\tlearn: 0.0051672\ttotal: 2.97s\tremaining: 1.24s\n",
      "706:\tlearn: 0.0051483\ttotal: 2.97s\tremaining: 1.23s\n",
      "707:\tlearn: 0.0051483\ttotal: 2.99s\tremaining: 1.23s\n",
      "708:\tlearn: 0.0051360\ttotal: 2.99s\tremaining: 1.23s\n",
      "709:\tlearn: 0.0051130\ttotal: 3s\tremaining: 1.22s\n",
      "710:\tlearn: 0.0051051\ttotal: 3s\tremaining: 1.22s\n",
      "711:\tlearn: 0.0050892\ttotal: 3s\tremaining: 1.21s\n",
      "712:\tlearn: 0.0050801\ttotal: 3s\tremaining: 1.21s\n",
      "713:\tlearn: 0.0050621\ttotal: 3.01s\tremaining: 1.2s\n",
      "714:\tlearn: 0.0050543\ttotal: 3.01s\tremaining: 1.2s\n",
      "715:\tlearn: 0.0050180\ttotal: 3.01s\tremaining: 1.19s\n",
      "716:\tlearn: 0.0050105\ttotal: 3.02s\tremaining: 1.19s\n",
      "717:\tlearn: 0.0049919\ttotal: 3.02s\tremaining: 1.19s\n",
      "718:\tlearn: 0.0049887\ttotal: 3.02s\tremaining: 1.18s\n",
      "719:\tlearn: 0.0049811\ttotal: 3.02s\tremaining: 1.18s\n",
      "720:\tlearn: 0.0049810\ttotal: 3.02s\tremaining: 1.17s\n",
      "721:\tlearn: 0.0049743\ttotal: 3.03s\tremaining: 1.17s\n",
      "722:\tlearn: 0.0049600\ttotal: 3.03s\tremaining: 1.16s\n",
      "723:\tlearn: 0.0049239\ttotal: 3.03s\tremaining: 1.16s\n",
      "724:\tlearn: 0.0049164\ttotal: 3.04s\tremaining: 1.15s\n",
      "725:\tlearn: 0.0049090\ttotal: 3.04s\tremaining: 1.15s\n",
      "726:\tlearn: 0.0048872\ttotal: 3.04s\tremaining: 1.14s\n",
      "727:\tlearn: 0.0048872\ttotal: 3.04s\tremaining: 1.14s\n",
      "728:\tlearn: 0.0048779\ttotal: 3.04s\tremaining: 1.13s\n",
      "729:\tlearn: 0.0048702\ttotal: 3.05s\tremaining: 1.13s\n",
      "730:\tlearn: 0.0048661\ttotal: 3.05s\tremaining: 1.12s\n",
      "731:\tlearn: 0.0048612\ttotal: 3.05s\tremaining: 1.12s\n",
      "732:\tlearn: 0.0048438\ttotal: 3.06s\tremaining: 1.11s\n",
      "733:\tlearn: 0.0048389\ttotal: 3.06s\tremaining: 1.11s\n",
      "734:\tlearn: 0.0048280\ttotal: 3.06s\tremaining: 1.1s\n",
      "735:\tlearn: 0.0048232\ttotal: 3.06s\tremaining: 1.1s\n",
      "736:\tlearn: 0.0047899\ttotal: 3.06s\tremaining: 1.09s\n",
      "737:\tlearn: 0.0047774\ttotal: 3.07s\tremaining: 1.09s\n",
      "738:\tlearn: 0.0047686\ttotal: 3.07s\tremaining: 1.08s\n",
      "739:\tlearn: 0.0047480\ttotal: 3.07s\tremaining: 1.08s\n",
      "740:\tlearn: 0.0047332\ttotal: 3.08s\tremaining: 1.07s\n",
      "741:\tlearn: 0.0047231\ttotal: 3.08s\tremaining: 1.07s\n",
      "742:\tlearn: 0.0047231\ttotal: 3.08s\tremaining: 1.06s\n",
      "743:\tlearn: 0.0047230\ttotal: 3.08s\tremaining: 1.06s\n",
      "744:\tlearn: 0.0046897\ttotal: 3.08s\tremaining: 1.06s\n",
      "745:\tlearn: 0.0046705\ttotal: 3.09s\tremaining: 1.05s\n",
      "746:\tlearn: 0.0046704\ttotal: 3.09s\tremaining: 1.05s\n",
      "747:\tlearn: 0.0046503\ttotal: 3.09s\tremaining: 1.04s\n",
      "748:\tlearn: 0.0046371\ttotal: 3.1s\tremaining: 1.04s\n",
      "749:\tlearn: 0.0046326\ttotal: 3.1s\tremaining: 1.03s\n",
      "750:\tlearn: 0.0046188\ttotal: 3.1s\tremaining: 1.03s\n",
      "751:\tlearn: 0.0045933\ttotal: 3.1s\tremaining: 1.02s\n",
      "752:\tlearn: 0.0045848\ttotal: 3.11s\tremaining: 1.02s\n",
      "753:\tlearn: 0.0045848\ttotal: 3.11s\tremaining: 1.01s\n",
      "754:\tlearn: 0.0045697\ttotal: 3.11s\tremaining: 1.01s\n",
      "755:\tlearn: 0.0045502\ttotal: 3.13s\tremaining: 1.01s\n",
      "756:\tlearn: 0.0045502\ttotal: 3.14s\tremaining: 1.01s\n",
      "757:\tlearn: 0.0045437\ttotal: 3.14s\tremaining: 1s\n",
      "758:\tlearn: 0.0045289\ttotal: 3.15s\tremaining: 999ms\n",
      "759:\tlearn: 0.0045180\ttotal: 3.15s\tremaining: 996ms\n",
      "760:\tlearn: 0.0045118\ttotal: 3.18s\tremaining: 998ms\n",
      "761:\tlearn: 0.0044931\ttotal: 3.18s\tremaining: 993ms\n",
      "762:\tlearn: 0.0044789\ttotal: 3.2s\tremaining: 995ms\n",
      "763:\tlearn: 0.0044691\ttotal: 3.21s\tremaining: 990ms\n",
      "764:\tlearn: 0.0044630\ttotal: 3.21s\tremaining: 986ms\n",
      "765:\tlearn: 0.0044486\ttotal: 3.23s\tremaining: 987ms\n",
      "766:\tlearn: 0.0044452\ttotal: 3.23s\tremaining: 983ms\n",
      "767:\tlearn: 0.0044452\ttotal: 3.24s\tremaining: 978ms\n",
      "768:\tlearn: 0.0044366\ttotal: 3.24s\tremaining: 974ms\n",
      "769:\tlearn: 0.0044254\ttotal: 3.26s\tremaining: 973ms\n",
      "770:\tlearn: 0.0044073\ttotal: 3.26s\tremaining: 968ms\n",
      "771:\tlearn: 0.0044039\ttotal: 3.26s\tremaining: 964ms\n",
      "772:\tlearn: 0.0044006\ttotal: 3.27s\tremaining: 960ms\n",
      "773:\tlearn: 0.0043911\ttotal: 3.27s\tremaining: 955ms\n",
      "774:\tlearn: 0.0043774\ttotal: 3.28s\tremaining: 952ms\n",
      "775:\tlearn: 0.0043694\ttotal: 3.28s\tremaining: 948ms\n",
      "776:\tlearn: 0.0043636\ttotal: 3.29s\tremaining: 946ms\n",
      "777:\tlearn: 0.0043580\ttotal: 3.3s\tremaining: 941ms\n",
      "778:\tlearn: 0.0043540\ttotal: 3.3s\tremaining: 936ms\n",
      "779:\tlearn: 0.0043464\ttotal: 3.3s\tremaining: 932ms\n",
      "780:\tlearn: 0.0043374\ttotal: 3.31s\tremaining: 928ms\n",
      "781:\tlearn: 0.0043283\ttotal: 3.31s\tremaining: 924ms\n",
      "782:\tlearn: 0.0043168\ttotal: 3.32s\tremaining: 920ms\n",
      "783:\tlearn: 0.0042992\ttotal: 3.32s\tremaining: 916ms\n",
      "784:\tlearn: 0.0042787\ttotal: 3.33s\tremaining: 911ms\n",
      "785:\tlearn: 0.0042787\ttotal: 3.33s\tremaining: 906ms\n",
      "786:\tlearn: 0.0042637\ttotal: 3.33s\tremaining: 902ms\n",
      "787:\tlearn: 0.0042505\ttotal: 3.34s\tremaining: 898ms\n",
      "788:\tlearn: 0.0042469\ttotal: 3.34s\tremaining: 893ms\n",
      "789:\tlearn: 0.0042362\ttotal: 3.35s\tremaining: 889ms\n",
      "790:\tlearn: 0.0042227\ttotal: 3.35s\tremaining: 886ms\n",
      "791:\tlearn: 0.0042098\ttotal: 3.36s\tremaining: 882ms\n",
      "792:\tlearn: 0.0041966\ttotal: 3.36s\tremaining: 878ms\n",
      "793:\tlearn: 0.0041894\ttotal: 3.37s\tremaining: 873ms\n",
      "794:\tlearn: 0.0041702\ttotal: 3.37s\tremaining: 869ms\n",
      "795:\tlearn: 0.0041702\ttotal: 3.37s\tremaining: 864ms\n",
      "796:\tlearn: 0.0041629\ttotal: 3.38s\tremaining: 860ms\n",
      "797:\tlearn: 0.0041565\ttotal: 3.38s\tremaining: 855ms\n",
      "798:\tlearn: 0.0041490\ttotal: 3.38s\tremaining: 852ms\n",
      "799:\tlearn: 0.0041453\ttotal: 3.39s\tremaining: 847ms\n",
      "800:\tlearn: 0.0041328\ttotal: 3.39s\tremaining: 842ms\n",
      "801:\tlearn: 0.0041205\ttotal: 3.39s\tremaining: 838ms\n",
      "802:\tlearn: 0.0041098\ttotal: 3.4s\tremaining: 833ms\n",
      "803:\tlearn: 0.0041025\ttotal: 3.4s\tremaining: 829ms\n",
      "804:\tlearn: 0.0040992\ttotal: 3.4s\tremaining: 824ms\n",
      "805:\tlearn: 0.0040894\ttotal: 3.41s\tremaining: 820ms\n",
      "806:\tlearn: 0.0040829\ttotal: 3.41s\tremaining: 816ms\n",
      "807:\tlearn: 0.0040725\ttotal: 3.41s\tremaining: 811ms\n",
      "808:\tlearn: 0.0040656\ttotal: 3.42s\tremaining: 807ms\n",
      "809:\tlearn: 0.0040625\ttotal: 3.42s\tremaining: 802ms\n",
      "810:\tlearn: 0.0040506\ttotal: 3.42s\tremaining: 798ms\n",
      "811:\tlearn: 0.0040391\ttotal: 3.42s\tremaining: 793ms\n",
      "812:\tlearn: 0.0040321\ttotal: 3.43s\tremaining: 789ms\n",
      "813:\tlearn: 0.0040216\ttotal: 3.43s\tremaining: 785ms\n",
      "814:\tlearn: 0.0040151\ttotal: 3.44s\tremaining: 780ms\n",
      "815:\tlearn: 0.0040049\ttotal: 3.44s\tremaining: 776ms\n",
      "816:\tlearn: 0.0039981\ttotal: 3.44s\tremaining: 771ms\n",
      "817:\tlearn: 0.0039914\ttotal: 3.46s\tremaining: 771ms\n",
      "818:\tlearn: 0.0039848\ttotal: 3.47s\tremaining: 767ms\n",
      "819:\tlearn: 0.0039732\ttotal: 3.47s\tremaining: 763ms\n",
      "820:\tlearn: 0.0039512\ttotal: 3.48s\tremaining: 760ms\n",
      "821:\tlearn: 0.0039365\ttotal: 3.49s\tremaining: 755ms\n",
      "822:\tlearn: 0.0039302\ttotal: 3.49s\tremaining: 751ms\n",
      "823:\tlearn: 0.0039238\ttotal: 3.49s\tremaining: 746ms\n",
      "824:\tlearn: 0.0039215\ttotal: 3.5s\tremaining: 742ms\n",
      "825:\tlearn: 0.0039153\ttotal: 3.5s\tremaining: 737ms\n",
      "826:\tlearn: 0.0039092\ttotal: 3.5s\tremaining: 733ms\n",
      "827:\tlearn: 0.0039031\ttotal: 3.51s\tremaining: 728ms\n",
      "828:\tlearn: 0.0038929\ttotal: 3.51s\tremaining: 724ms\n",
      "829:\tlearn: 0.0038781\ttotal: 3.51s\tremaining: 719ms\n",
      "830:\tlearn: 0.0038655\ttotal: 3.52s\tremaining: 715ms\n",
      "831:\tlearn: 0.0038595\ttotal: 3.52s\tremaining: 712ms\n",
      "832:\tlearn: 0.0038537\ttotal: 3.53s\tremaining: 707ms\n",
      "833:\tlearn: 0.0038363\ttotal: 3.53s\tremaining: 703ms\n",
      "834:\tlearn: 0.0038181\ttotal: 3.56s\tremaining: 703ms\n",
      "835:\tlearn: 0.0038083\ttotal: 3.56s\tremaining: 698ms\n",
      "836:\tlearn: 0.0037975\ttotal: 3.56s\tremaining: 694ms\n",
      "837:\tlearn: 0.0037954\ttotal: 3.56s\tremaining: 689ms\n",
      "838:\tlearn: 0.0037897\ttotal: 3.57s\tremaining: 685ms\n",
      "839:\tlearn: 0.0037778\ttotal: 3.57s\tremaining: 680ms\n",
      "840:\tlearn: 0.0037611\ttotal: 3.57s\tremaining: 676ms\n",
      "841:\tlearn: 0.0037556\ttotal: 3.58s\tremaining: 671ms\n",
      "842:\tlearn: 0.0037501\ttotal: 3.58s\tremaining: 667ms\n",
      "843:\tlearn: 0.0037386\ttotal: 3.58s\tremaining: 662ms\n",
      "844:\tlearn: 0.0037275\ttotal: 3.58s\tremaining: 658ms\n",
      "845:\tlearn: 0.0037162\ttotal: 3.59s\tremaining: 653ms\n",
      "846:\tlearn: 0.0037061\ttotal: 3.59s\tremaining: 648ms\n",
      "847:\tlearn: 0.0037007\ttotal: 3.59s\tremaining: 644ms\n",
      "848:\tlearn: 0.0036865\ttotal: 3.6s\tremaining: 639ms\n",
      "849:\tlearn: 0.0036812\ttotal: 3.6s\tremaining: 635ms\n",
      "850:\tlearn: 0.0036718\ttotal: 3.6s\tremaining: 630ms\n",
      "851:\tlearn: 0.0036611\ttotal: 3.6s\tremaining: 626ms\n",
      "852:\tlearn: 0.0036561\ttotal: 3.6s\tremaining: 621ms\n",
      "853:\tlearn: 0.0036463\ttotal: 3.61s\tremaining: 617ms\n",
      "854:\tlearn: 0.0036376\ttotal: 3.61s\tremaining: 612ms\n",
      "855:\tlearn: 0.0036270\ttotal: 3.61s\tremaining: 608ms\n",
      "856:\tlearn: 0.0036105\ttotal: 3.62s\tremaining: 603ms\n",
      "857:\tlearn: 0.0036054\ttotal: 3.62s\tremaining: 599ms\n",
      "858:\tlearn: 0.0036036\ttotal: 3.62s\tremaining: 594ms\n",
      "859:\tlearn: 0.0035941\ttotal: 3.62s\tremaining: 590ms\n",
      "860:\tlearn: 0.0035849\ttotal: 3.63s\tremaining: 586ms\n",
      "861:\tlearn: 0.0035695\ttotal: 3.63s\tremaining: 581ms\n",
      "862:\tlearn: 0.0035596\ttotal: 3.63s\tremaining: 577ms\n",
      "863:\tlearn: 0.0035501\ttotal: 3.63s\tremaining: 572ms\n",
      "864:\tlearn: 0.0035452\ttotal: 3.64s\tremaining: 568ms\n",
      "865:\tlearn: 0.0035352\ttotal: 3.64s\tremaining: 563ms\n",
      "866:\tlearn: 0.0035303\ttotal: 3.65s\tremaining: 560ms\n",
      "867:\tlearn: 0.0035256\ttotal: 3.65s\tremaining: 556ms\n",
      "868:\tlearn: 0.0035211\ttotal: 3.67s\tremaining: 553ms\n",
      "869:\tlearn: 0.0035062\ttotal: 3.68s\tremaining: 550ms\n",
      "870:\tlearn: 0.0035015\ttotal: 3.7s\tremaining: 547ms\n",
      "871:\tlearn: 0.0034969\ttotal: 3.7s\tremaining: 544ms\n",
      "872:\tlearn: 0.0034823\ttotal: 3.71s\tremaining: 539ms\n",
      "873:\tlearn: 0.0034779\ttotal: 3.71s\tremaining: 535ms\n",
      "874:\tlearn: 0.0034734\ttotal: 3.71s\tremaining: 531ms\n",
      "875:\tlearn: 0.0034646\ttotal: 3.72s\tremaining: 526ms\n",
      "876:\tlearn: 0.0034561\ttotal: 3.73s\tremaining: 523ms\n",
      "877:\tlearn: 0.0034359\ttotal: 3.73s\tremaining: 519ms\n",
      "878:\tlearn: 0.0034277\ttotal: 3.75s\tremaining: 516ms\n",
      "879:\tlearn: 0.0034182\ttotal: 3.75s\tremaining: 511ms\n",
      "880:\tlearn: 0.0034138\ttotal: 3.75s\tremaining: 507ms\n",
      "881:\tlearn: 0.0034052\ttotal: 3.75s\tremaining: 502ms\n",
      "882:\tlearn: 0.0034010\ttotal: 3.76s\tremaining: 498ms\n",
      "883:\tlearn: 0.0033812\ttotal: 3.76s\tremaining: 493ms\n",
      "884:\tlearn: 0.0033771\ttotal: 3.76s\tremaining: 489ms\n",
      "885:\tlearn: 0.0033608\ttotal: 3.77s\tremaining: 485ms\n",
      "886:\tlearn: 0.0033442\ttotal: 3.77s\tremaining: 480ms\n",
      "887:\tlearn: 0.0033442\ttotal: 3.77s\tremaining: 476ms\n",
      "888:\tlearn: 0.0033402\ttotal: 3.78s\tremaining: 472ms\n",
      "889:\tlearn: 0.0033381\ttotal: 3.78s\tremaining: 468ms\n",
      "890:\tlearn: 0.0033381\ttotal: 3.79s\tremaining: 463ms\n",
      "891:\tlearn: 0.0033290\ttotal: 3.79s\tremaining: 459ms\n",
      "892:\tlearn: 0.0033235\ttotal: 3.79s\tremaining: 455ms\n",
      "893:\tlearn: 0.0033093\ttotal: 3.8s\tremaining: 451ms\n",
      "894:\tlearn: 0.0033013\ttotal: 3.81s\tremaining: 447ms\n",
      "895:\tlearn: 0.0032925\ttotal: 3.82s\tremaining: 444ms\n",
      "896:\tlearn: 0.0032925\ttotal: 3.83s\tremaining: 439ms\n",
      "897:\tlearn: 0.0032885\ttotal: 3.83s\tremaining: 435ms\n",
      "898:\tlearn: 0.0032799\ttotal: 3.83s\tremaining: 431ms\n",
      "899:\tlearn: 0.0032799\ttotal: 3.85s\tremaining: 428ms\n",
      "900:\tlearn: 0.0032799\ttotal: 3.85s\tremaining: 423ms\n",
      "901:\tlearn: 0.0032716\ttotal: 3.85s\tremaining: 419ms\n",
      "902:\tlearn: 0.0032716\ttotal: 3.86s\tremaining: 415ms\n",
      "903:\tlearn: 0.0032674\ttotal: 3.86s\tremaining: 410ms\n",
      "904:\tlearn: 0.0032594\ttotal: 3.88s\tremaining: 407ms\n",
      "905:\tlearn: 0.0032574\ttotal: 3.88s\tremaining: 403ms\n",
      "906:\tlearn: 0.0032573\ttotal: 3.88s\tremaining: 398ms\n",
      "907:\tlearn: 0.0032541\ttotal: 3.89s\tremaining: 394ms\n",
      "908:\tlearn: 0.0032541\ttotal: 3.9s\tremaining: 390ms\n",
      "909:\tlearn: 0.0032541\ttotal: 3.9s\tremaining: 386ms\n",
      "910:\tlearn: 0.0032540\ttotal: 3.9s\tremaining: 381ms\n",
      "911:\tlearn: 0.0032493\ttotal: 3.92s\tremaining: 378ms\n",
      "912:\tlearn: 0.0032493\ttotal: 3.92s\tremaining: 374ms\n",
      "913:\tlearn: 0.0032456\ttotal: 3.92s\tremaining: 369ms\n",
      "914:\tlearn: 0.0032456\ttotal: 3.93s\tremaining: 365ms\n",
      "915:\tlearn: 0.0032382\ttotal: 3.93s\tremaining: 361ms\n",
      "916:\tlearn: 0.0032382\ttotal: 3.94s\tremaining: 356ms\n",
      "917:\tlearn: 0.0032382\ttotal: 3.96s\tremaining: 354ms\n",
      "918:\tlearn: 0.0032382\ttotal: 3.96s\tremaining: 349ms\n",
      "919:\tlearn: 0.0032381\ttotal: 3.96s\tremaining: 345ms\n",
      "920:\tlearn: 0.0032381\ttotal: 3.97s\tremaining: 340ms\n",
      "921:\tlearn: 0.0032381\ttotal: 3.98s\tremaining: 337ms\n",
      "922:\tlearn: 0.0032381\ttotal: 3.99s\tremaining: 333ms\n",
      "923:\tlearn: 0.0032381\ttotal: 3.99s\tremaining: 328ms\n",
      "924:\tlearn: 0.0032381\ttotal: 4s\tremaining: 324ms\n",
      "925:\tlearn: 0.0032381\ttotal: 4s\tremaining: 320ms\n",
      "926:\tlearn: 0.0032347\ttotal: 4s\tremaining: 315ms\n",
      "927:\tlearn: 0.0032346\ttotal: 4.01s\tremaining: 311ms\n",
      "928:\tlearn: 0.0032345\ttotal: 4.01s\tremaining: 307ms\n",
      "929:\tlearn: 0.0032345\ttotal: 4.02s\tremaining: 303ms\n",
      "930:\tlearn: 0.0032345\ttotal: 4.02s\tremaining: 298ms\n",
      "931:\tlearn: 0.0032345\ttotal: 4.04s\tremaining: 295ms\n",
      "932:\tlearn: 0.0032218\ttotal: 4.04s\tremaining: 291ms\n",
      "933:\tlearn: 0.0032218\ttotal: 4.05s\tremaining: 286ms\n",
      "934:\tlearn: 0.0032217\ttotal: 4.05s\tremaining: 282ms\n",
      "935:\tlearn: 0.0032217\ttotal: 4.05s\tremaining: 277ms\n",
      "936:\tlearn: 0.0032217\ttotal: 4.06s\tremaining: 273ms\n",
      "937:\tlearn: 0.0032217\ttotal: 4.06s\tremaining: 268ms\n",
      "938:\tlearn: 0.0032217\ttotal: 4.06s\tremaining: 264ms\n",
      "939:\tlearn: 0.0032217\ttotal: 4.07s\tremaining: 260ms\n",
      "940:\tlearn: 0.0032217\ttotal: 4.07s\tremaining: 255ms\n",
      "941:\tlearn: 0.0032216\ttotal: 4.07s\tremaining: 251ms\n",
      "942:\tlearn: 0.0032216\ttotal: 4.08s\tremaining: 246ms\n",
      "943:\tlearn: 0.0032209\ttotal: 4.08s\tremaining: 242ms\n",
      "944:\tlearn: 0.0032209\ttotal: 4.08s\tremaining: 238ms\n",
      "945:\tlearn: 0.0032209\ttotal: 4.08s\tremaining: 233ms\n",
      "946:\tlearn: 0.0032209\ttotal: 4.09s\tremaining: 229ms\n",
      "947:\tlearn: 0.0032209\ttotal: 4.09s\tremaining: 224ms\n",
      "948:\tlearn: 0.0032209\ttotal: 4.09s\tremaining: 220ms\n",
      "949:\tlearn: 0.0032208\ttotal: 4.09s\tremaining: 215ms\n",
      "950:\tlearn: 0.0032170\ttotal: 4.09s\tremaining: 211ms\n",
      "951:\tlearn: 0.0032170\ttotal: 4.1s\tremaining: 207ms\n",
      "952:\tlearn: 0.0032169\ttotal: 4.1s\tremaining: 202ms\n",
      "953:\tlearn: 0.0032170\ttotal: 4.1s\tremaining: 198ms\n",
      "954:\tlearn: 0.0032167\ttotal: 4.1s\tremaining: 193ms\n",
      "955:\tlearn: 0.0032160\ttotal: 4.11s\tremaining: 189ms\n",
      "956:\tlearn: 0.0032160\ttotal: 4.11s\tremaining: 185ms\n",
      "957:\tlearn: 0.0032156\ttotal: 4.11s\tremaining: 180ms\n",
      "958:\tlearn: 0.0032156\ttotal: 4.11s\tremaining: 176ms\n",
      "959:\tlearn: 0.0032156\ttotal: 4.12s\tremaining: 171ms\n",
      "960:\tlearn: 0.0032156\ttotal: 4.12s\tremaining: 167ms\n",
      "961:\tlearn: 0.0032156\ttotal: 4.12s\tremaining: 163ms\n",
      "962:\tlearn: 0.0032156\ttotal: 4.12s\tremaining: 158ms\n",
      "963:\tlearn: 0.0032151\ttotal: 4.12s\tremaining: 154ms\n",
      "964:\tlearn: 0.0032151\ttotal: 4.13s\tremaining: 150ms\n",
      "965:\tlearn: 0.0032106\ttotal: 4.13s\tremaining: 145ms\n",
      "966:\tlearn: 0.0032106\ttotal: 4.13s\tremaining: 141ms\n",
      "967:\tlearn: 0.0032082\ttotal: 4.13s\tremaining: 137ms\n",
      "968:\tlearn: 0.0032008\ttotal: 4.13s\tremaining: 132ms\n",
      "969:\tlearn: 0.0031921\ttotal: 4.14s\tremaining: 128ms\n",
      "970:\tlearn: 0.0031921\ttotal: 4.14s\tremaining: 124ms\n",
      "971:\tlearn: 0.0031921\ttotal: 4.14s\tremaining: 119ms\n",
      "972:\tlearn: 0.0031921\ttotal: 4.14s\tremaining: 115ms\n",
      "973:\tlearn: 0.0031921\ttotal: 4.15s\tremaining: 111ms\n",
      "974:\tlearn: 0.0031921\ttotal: 4.15s\tremaining: 106ms\n",
      "975:\tlearn: 0.0031921\ttotal: 4.15s\tremaining: 102ms\n",
      "976:\tlearn: 0.0031921\ttotal: 4.15s\tremaining: 97.8ms\n",
      "977:\tlearn: 0.0031921\ttotal: 4.16s\tremaining: 93.5ms\n",
      "978:\tlearn: 0.0031921\ttotal: 4.16s\tremaining: 89.2ms\n",
      "979:\tlearn: 0.0031921\ttotal: 4.16s\tremaining: 84.9ms\n",
      "980:\tlearn: 0.0031921\ttotal: 4.16s\tremaining: 80.6ms\n",
      "981:\tlearn: 0.0031921\ttotal: 4.16s\tremaining: 76.3ms\n",
      "982:\tlearn: 0.0031886\ttotal: 4.17s\tremaining: 72.1ms\n",
      "983:\tlearn: 0.0031886\ttotal: 4.17s\tremaining: 67.8ms\n",
      "984:\tlearn: 0.0031886\ttotal: 4.17s\tremaining: 63.5ms\n",
      "985:\tlearn: 0.0031886\ttotal: 4.17s\tremaining: 59.3ms\n",
      "986:\tlearn: 0.0031886\ttotal: 4.18s\tremaining: 55ms\n",
      "987:\tlearn: 0.0031885\ttotal: 4.18s\tremaining: 50.8ms\n",
      "988:\tlearn: 0.0031885\ttotal: 4.2s\tremaining: 46.7ms\n",
      "989:\tlearn: 0.0031885\ttotal: 4.2s\tremaining: 42.5ms\n",
      "990:\tlearn: 0.0031885\ttotal: 4.21s\tremaining: 38.2ms\n",
      "991:\tlearn: 0.0031885\ttotal: 4.21s\tremaining: 33.9ms\n",
      "992:\tlearn: 0.0031878\ttotal: 4.21s\tremaining: 29.7ms\n",
      "993:\tlearn: 0.0031877\ttotal: 4.22s\tremaining: 25.5ms\n",
      "994:\tlearn: 0.0031877\ttotal: 4.22s\tremaining: 21.2ms\n",
      "995:\tlearn: 0.0031877\ttotal: 4.24s\tremaining: 17ms\n",
      "996:\tlearn: 0.0031877\ttotal: 4.24s\tremaining: 12.8ms\n",
      "997:\tlearn: 0.0031877\ttotal: 4.24s\tremaining: 8.51ms\n",
      "998:\tlearn: 0.0031877\ttotal: 4.26s\tremaining: 4.26ms\n",
      "999:\tlearn: 0.0031848\ttotal: 4.26s\tremaining: 0us\n"
     ]
    }
   ],
   "source": [
    "clf_cat = CatBoostClassifier()\n",
    "\n",
    "clf_cat.fit(X_train, y_train)\n",
    "\n",
    "predict_cat = clf_cat.predict(X_test)\n",
    "# print(f'Acuracia: {accuracy_score(y_test, predict_cat).round(4) * 100}%')"
   ]
  },
  {
   "cell_type": "code",
   "execution_count": 48,
   "id": "a27da08f-c4a5-4c18-89d2-abfc98c6c748",
   "metadata": {},
   "outputs": [
    {
     "name": "stdout",
     "output_type": "stream",
     "text": [
      "              precision    recall  f1-score   support\n",
      "\n",
      "           0       0.99      0.99      0.99       436\n",
      "           1       0.94      0.95      0.95        64\n",
      "\n",
      "    accuracy                           0.99       500\n",
      "   macro avg       0.97      0.97      0.97       500\n",
      "weighted avg       0.99      0.99      0.99       500\n",
      "\n",
      "Acuracia: 98.6%\n"
     ]
    }
   ],
   "source": [
    "print(classification_report(y_test, predict_cat))\n",
    "\n",
    "print(f'Acuracia: {accuracy_score(y_test, predict_cat).round(4) * 100}%')"
   ]
  },
  {
   "cell_type": "code",
   "execution_count": 51,
   "id": "9eea7678-4a08-4adf-9e7d-b13cfe919ecf",
   "metadata": {},
   "outputs": [
    {
     "data": {
      "image/png": "[encoded data removed]",
      "text/plain": [
       "<Figure size 576x216 with 3 Axes>"
      ]
     },
     "metadata": {},
     "output_type": "display_data"
    }
   ],
   "source": [
    "explainer = shap.Explainer(clf_cat)\n",
    "shap_values = explainer(X_train)\n",
    "\n",
    "shap.plots.waterfall(shap_values[0])"
   ]
  },
  {
   "cell_type": "markdown",
   "id": "11fb51a8-16aa-43e5-a552-aa9fb1f05544",
   "metadata": {},
   "source": [
    "# LightGBM"
   ]
  },
  {
   "cell_type": "code",
   "execution_count": 49,
   "id": "8e7441b9-6fe2-4104-ab5c-794093675e88",
   "metadata": {},
   "outputs": [
    {
     "name": "stdout",
     "output_type": "stream",
     "text": [
      "              precision    recall  f1-score   support\n",
      "\n",
      "           0       0.99      0.99      0.99       436\n",
      "           1       0.92      0.94      0.93        64\n",
      "\n",
      "    accuracy                           0.98       500\n",
      "   macro avg       0.96      0.96      0.96       500\n",
      "weighted avg       0.98      0.98      0.98       500\n",
      "\n",
      "Acuracia: 98.2%\n"
     ]
    }
   ],
   "source": [
    "clf_lgbm = LGBMClassifier()\n",
    "\n",
    "clf_lgbm.fit(X_train, y_train)\n",
    "\n",
    "predict_lgbm = clf_lgbm.predict(X_test)\n",
    "\n",
    "print(classification_report(y_test, predict_lgbm))\n",
    "print(f'Acuracia: {accuracy_score(y_test, predict_lgbm).round(4) * 100}%')"
   ]
  }
 ],
 "metadata": {
  "kernelspec": {
   "display_name": "Python 3 (ipykernel)",
   "language": "python",
   "name": "python3"
  },
  "language_info": {
   "codemirror_mode": {
    "name": "ipython",
    "version": 3
   },
   "file_extension": ".py",
   "mimetype": "text/x-python",
   "name": "python",
   "nbconvert_exporter": "python",
   "pygments_lexer": "ipython3",
   "version": "3.8.10"
  }
 },
 "nbformat": 4,
 "nbformat_minor": 5
}
